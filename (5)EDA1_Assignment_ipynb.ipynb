{
  "nbformat": 4,
  "nbformat_minor": 0,
  "metadata": {
    "colab": {
      "provenance": []
    },
    "kernelspec": {
      "name": "python3",
      "display_name": "Python 3"
    },
    "language_info": {
      "name": "python"
    }
  },
  "cells": [
    {
      "cell_type": "markdown",
      "source": [
        "# Importing Libraries"
      ],
      "metadata": {
        "id": "kPv34_jLMiPW"
      }
    },
    {
      "cell_type": "code",
      "execution_count": 4,
      "metadata": {
        "id": "Qx_-7538QAZ5"
      },
      "outputs": [],
      "source": [
        "import pandas as pd\n",
        "import numpy as np\n",
        "import matplotlib.pyplot as plt\n",
        "import seaborn as sns"
      ]
    },
    {
      "cell_type": "code",
      "source": [
        "data=pd.read_csv(\"/content/Cardiotocographic.csv\")\n",
        "data.head()"
      ],
      "metadata": {
        "colab": {
          "base_uri": "https://localhost:8080/",
          "height": 206
        },
        "id": "K7OFY4_qWRqw",
        "outputId": "4aeb82aa-74d0-4464-b9e4-1d178a69f2fd"
      },
      "execution_count": 5,
      "outputs": [
        {
          "output_type": "execute_result",
          "data": {
            "text/plain": [
              "           LB        AC   FM        UC        DL   DS   DP  ASTV  MSTV  ALTV  \\\n",
              "0  120.000000  0.000000  0.0  0.000000  0.000000  0.0  0.0  73.0   0.5  43.0   \n",
              "1  132.000000  0.006380  0.0  0.006380  0.003190  0.0  0.0  17.0   2.1   0.0   \n",
              "2  133.000000  0.003322  0.0  0.008306  0.003322  0.0  0.0  16.0   2.1   0.0   \n",
              "3  134.000000  0.002561  0.0  0.007742  0.002561  0.0  0.0  16.0   2.4   0.0   \n",
              "4  131.948232  0.006515  0.0  0.008143  0.000000  0.0  0.0  16.0   2.4   0.0   \n",
              "\n",
              "   MLTV  Width  Tendency  NSP  \n",
              "0   2.4   64.0  0.999926  2.0  \n",
              "1  10.4  130.0  0.000000  1.0  \n",
              "2  13.4  130.0  0.000000  1.0  \n",
              "3  23.0  117.0  1.000000  1.0  \n",
              "4  19.9  117.0  1.000000  1.0  "
            ],
            "text/html": [
              "\n",
              "  <div id=\"df-99b77da5-b40a-4d3c-8748-06d8a3fb63f1\" class=\"colab-df-container\">\n",
              "    <div>\n",
              "<style scoped>\n",
              "    .dataframe tbody tr th:only-of-type {\n",
              "        vertical-align: middle;\n",
              "    }\n",
              "\n",
              "    .dataframe tbody tr th {\n",
              "        vertical-align: top;\n",
              "    }\n",
              "\n",
              "    .dataframe thead th {\n",
              "        text-align: right;\n",
              "    }\n",
              "</style>\n",
              "<table border=\"1\" class=\"dataframe\">\n",
              "  <thead>\n",
              "    <tr style=\"text-align: right;\">\n",
              "      <th></th>\n",
              "      <th>LB</th>\n",
              "      <th>AC</th>\n",
              "      <th>FM</th>\n",
              "      <th>UC</th>\n",
              "      <th>DL</th>\n",
              "      <th>DS</th>\n",
              "      <th>DP</th>\n",
              "      <th>ASTV</th>\n",
              "      <th>MSTV</th>\n",
              "      <th>ALTV</th>\n",
              "      <th>MLTV</th>\n",
              "      <th>Width</th>\n",
              "      <th>Tendency</th>\n",
              "      <th>NSP</th>\n",
              "    </tr>\n",
              "  </thead>\n",
              "  <tbody>\n",
              "    <tr>\n",
              "      <th>0</th>\n",
              "      <td>120.000000</td>\n",
              "      <td>0.000000</td>\n",
              "      <td>0.0</td>\n",
              "      <td>0.000000</td>\n",
              "      <td>0.000000</td>\n",
              "      <td>0.0</td>\n",
              "      <td>0.0</td>\n",
              "      <td>73.0</td>\n",
              "      <td>0.5</td>\n",
              "      <td>43.0</td>\n",
              "      <td>2.4</td>\n",
              "      <td>64.0</td>\n",
              "      <td>0.999926</td>\n",
              "      <td>2.0</td>\n",
              "    </tr>\n",
              "    <tr>\n",
              "      <th>1</th>\n",
              "      <td>132.000000</td>\n",
              "      <td>0.006380</td>\n",
              "      <td>0.0</td>\n",
              "      <td>0.006380</td>\n",
              "      <td>0.003190</td>\n",
              "      <td>0.0</td>\n",
              "      <td>0.0</td>\n",
              "      <td>17.0</td>\n",
              "      <td>2.1</td>\n",
              "      <td>0.0</td>\n",
              "      <td>10.4</td>\n",
              "      <td>130.0</td>\n",
              "      <td>0.000000</td>\n",
              "      <td>1.0</td>\n",
              "    </tr>\n",
              "    <tr>\n",
              "      <th>2</th>\n",
              "      <td>133.000000</td>\n",
              "      <td>0.003322</td>\n",
              "      <td>0.0</td>\n",
              "      <td>0.008306</td>\n",
              "      <td>0.003322</td>\n",
              "      <td>0.0</td>\n",
              "      <td>0.0</td>\n",
              "      <td>16.0</td>\n",
              "      <td>2.1</td>\n",
              "      <td>0.0</td>\n",
              "      <td>13.4</td>\n",
              "      <td>130.0</td>\n",
              "      <td>0.000000</td>\n",
              "      <td>1.0</td>\n",
              "    </tr>\n",
              "    <tr>\n",
              "      <th>3</th>\n",
              "      <td>134.000000</td>\n",
              "      <td>0.002561</td>\n",
              "      <td>0.0</td>\n",
              "      <td>0.007742</td>\n",
              "      <td>0.002561</td>\n",
              "      <td>0.0</td>\n",
              "      <td>0.0</td>\n",
              "      <td>16.0</td>\n",
              "      <td>2.4</td>\n",
              "      <td>0.0</td>\n",
              "      <td>23.0</td>\n",
              "      <td>117.0</td>\n",
              "      <td>1.000000</td>\n",
              "      <td>1.0</td>\n",
              "    </tr>\n",
              "    <tr>\n",
              "      <th>4</th>\n",
              "      <td>131.948232</td>\n",
              "      <td>0.006515</td>\n",
              "      <td>0.0</td>\n",
              "      <td>0.008143</td>\n",
              "      <td>0.000000</td>\n",
              "      <td>0.0</td>\n",
              "      <td>0.0</td>\n",
              "      <td>16.0</td>\n",
              "      <td>2.4</td>\n",
              "      <td>0.0</td>\n",
              "      <td>19.9</td>\n",
              "      <td>117.0</td>\n",
              "      <td>1.000000</td>\n",
              "      <td>1.0</td>\n",
              "    </tr>\n",
              "  </tbody>\n",
              "</table>\n",
              "</div>\n",
              "    <div class=\"colab-df-buttons\">\n",
              "\n",
              "  <div class=\"colab-df-container\">\n",
              "    <button class=\"colab-df-convert\" onclick=\"convertToInteractive('df-99b77da5-b40a-4d3c-8748-06d8a3fb63f1')\"\n",
              "            title=\"Convert this dataframe to an interactive table.\"\n",
              "            style=\"display:none;\">\n",
              "\n",
              "  <svg xmlns=\"http://www.w3.org/2000/svg\" height=\"24px\" viewBox=\"0 -960 960 960\">\n",
              "    <path d=\"M120-120v-720h720v720H120Zm60-500h600v-160H180v160Zm220 220h160v-160H400v160Zm0 220h160v-160H400v160ZM180-400h160v-160H180v160Zm440 0h160v-160H620v160ZM180-180h160v-160H180v160Zm440 0h160v-160H620v160Z\"/>\n",
              "  </svg>\n",
              "    </button>\n",
              "\n",
              "  <style>\n",
              "    .colab-df-container {\n",
              "      display:flex;\n",
              "      gap: 12px;\n",
              "    }\n",
              "\n",
              "    .colab-df-convert {\n",
              "      background-color: #E8F0FE;\n",
              "      border: none;\n",
              "      border-radius: 50%;\n",
              "      cursor: pointer;\n",
              "      display: none;\n",
              "      fill: #1967D2;\n",
              "      height: 32px;\n",
              "      padding: 0 0 0 0;\n",
              "      width: 32px;\n",
              "    }\n",
              "\n",
              "    .colab-df-convert:hover {\n",
              "      background-color: #E2EBFA;\n",
              "      box-shadow: 0px 1px 2px rgba(60, 64, 67, 0.3), 0px 1px 3px 1px rgba(60, 64, 67, 0.15);\n",
              "      fill: #174EA6;\n",
              "    }\n",
              "\n",
              "    .colab-df-buttons div {\n",
              "      margin-bottom: 4px;\n",
              "    }\n",
              "\n",
              "    [theme=dark] .colab-df-convert {\n",
              "      background-color: #3B4455;\n",
              "      fill: #D2E3FC;\n",
              "    }\n",
              "\n",
              "    [theme=dark] .colab-df-convert:hover {\n",
              "      background-color: #434B5C;\n",
              "      box-shadow: 0px 1px 3px 1px rgba(0, 0, 0, 0.15);\n",
              "      filter: drop-shadow(0px 1px 2px rgba(0, 0, 0, 0.3));\n",
              "      fill: #FFFFFF;\n",
              "    }\n",
              "  </style>\n",
              "\n",
              "    <script>\n",
              "      const buttonEl =\n",
              "        document.querySelector('#df-99b77da5-b40a-4d3c-8748-06d8a3fb63f1 button.colab-df-convert');\n",
              "      buttonEl.style.display =\n",
              "        google.colab.kernel.accessAllowed ? 'block' : 'none';\n",
              "\n",
              "      async function convertToInteractive(key) {\n",
              "        const element = document.querySelector('#df-99b77da5-b40a-4d3c-8748-06d8a3fb63f1');\n",
              "        const dataTable =\n",
              "          await google.colab.kernel.invokeFunction('convertToInteractive',\n",
              "                                                    [key], {});\n",
              "        if (!dataTable) return;\n",
              "\n",
              "        const docLinkHtml = 'Like what you see? Visit the ' +\n",
              "          '<a target=\"_blank\" href=https://colab.research.google.com/notebooks/data_table.ipynb>data table notebook</a>'\n",
              "          + ' to learn more about interactive tables.';\n",
              "        element.innerHTML = '';\n",
              "        dataTable['output_type'] = 'display_data';\n",
              "        await google.colab.output.renderOutput(dataTable, element);\n",
              "        const docLink = document.createElement('div');\n",
              "        docLink.innerHTML = docLinkHtml;\n",
              "        element.appendChild(docLink);\n",
              "      }\n",
              "    </script>\n",
              "  </div>\n",
              "\n",
              "\n",
              "<div id=\"df-34a908ef-5160-48c1-a594-fe21ea7c99a6\">\n",
              "  <button class=\"colab-df-quickchart\" onclick=\"quickchart('df-34a908ef-5160-48c1-a594-fe21ea7c99a6')\"\n",
              "            title=\"Suggest charts\"\n",
              "            style=\"display:none;\">\n",
              "\n",
              "<svg xmlns=\"http://www.w3.org/2000/svg\" height=\"24px\"viewBox=\"0 0 24 24\"\n",
              "     width=\"24px\">\n",
              "    <g>\n",
              "        <path d=\"M19 3H5c-1.1 0-2 .9-2 2v14c0 1.1.9 2 2 2h14c1.1 0 2-.9 2-2V5c0-1.1-.9-2-2-2zM9 17H7v-7h2v7zm4 0h-2V7h2v10zm4 0h-2v-4h2v4z\"/>\n",
              "    </g>\n",
              "</svg>\n",
              "  </button>\n",
              "\n",
              "<style>\n",
              "  .colab-df-quickchart {\n",
              "      --bg-color: #E8F0FE;\n",
              "      --fill-color: #1967D2;\n",
              "      --hover-bg-color: #E2EBFA;\n",
              "      --hover-fill-color: #174EA6;\n",
              "      --disabled-fill-color: #AAA;\n",
              "      --disabled-bg-color: #DDD;\n",
              "  }\n",
              "\n",
              "  [theme=dark] .colab-df-quickchart {\n",
              "      --bg-color: #3B4455;\n",
              "      --fill-color: #D2E3FC;\n",
              "      --hover-bg-color: #434B5C;\n",
              "      --hover-fill-color: #FFFFFF;\n",
              "      --disabled-bg-color: #3B4455;\n",
              "      --disabled-fill-color: #666;\n",
              "  }\n",
              "\n",
              "  .colab-df-quickchart {\n",
              "    background-color: var(--bg-color);\n",
              "    border: none;\n",
              "    border-radius: 50%;\n",
              "    cursor: pointer;\n",
              "    display: none;\n",
              "    fill: var(--fill-color);\n",
              "    height: 32px;\n",
              "    padding: 0;\n",
              "    width: 32px;\n",
              "  }\n",
              "\n",
              "  .colab-df-quickchart:hover {\n",
              "    background-color: var(--hover-bg-color);\n",
              "    box-shadow: 0 1px 2px rgba(60, 64, 67, 0.3), 0 1px 3px 1px rgba(60, 64, 67, 0.15);\n",
              "    fill: var(--button-hover-fill-color);\n",
              "  }\n",
              "\n",
              "  .colab-df-quickchart-complete:disabled,\n",
              "  .colab-df-quickchart-complete:disabled:hover {\n",
              "    background-color: var(--disabled-bg-color);\n",
              "    fill: var(--disabled-fill-color);\n",
              "    box-shadow: none;\n",
              "  }\n",
              "\n",
              "  .colab-df-spinner {\n",
              "    border: 2px solid var(--fill-color);\n",
              "    border-color: transparent;\n",
              "    border-bottom-color: var(--fill-color);\n",
              "    animation:\n",
              "      spin 1s steps(1) infinite;\n",
              "  }\n",
              "\n",
              "  @keyframes spin {\n",
              "    0% {\n",
              "      border-color: transparent;\n",
              "      border-bottom-color: var(--fill-color);\n",
              "      border-left-color: var(--fill-color);\n",
              "    }\n",
              "    20% {\n",
              "      border-color: transparent;\n",
              "      border-left-color: var(--fill-color);\n",
              "      border-top-color: var(--fill-color);\n",
              "    }\n",
              "    30% {\n",
              "      border-color: transparent;\n",
              "      border-left-color: var(--fill-color);\n",
              "      border-top-color: var(--fill-color);\n",
              "      border-right-color: var(--fill-color);\n",
              "    }\n",
              "    40% {\n",
              "      border-color: transparent;\n",
              "      border-right-color: var(--fill-color);\n",
              "      border-top-color: var(--fill-color);\n",
              "    }\n",
              "    60% {\n",
              "      border-color: transparent;\n",
              "      border-right-color: var(--fill-color);\n",
              "    }\n",
              "    80% {\n",
              "      border-color: transparent;\n",
              "      border-right-color: var(--fill-color);\n",
              "      border-bottom-color: var(--fill-color);\n",
              "    }\n",
              "    90% {\n",
              "      border-color: transparent;\n",
              "      border-bottom-color: var(--fill-color);\n",
              "    }\n",
              "  }\n",
              "</style>\n",
              "\n",
              "  <script>\n",
              "    async function quickchart(key) {\n",
              "      const quickchartButtonEl =\n",
              "        document.querySelector('#' + key + ' button');\n",
              "      quickchartButtonEl.disabled = true;  // To prevent multiple clicks.\n",
              "      quickchartButtonEl.classList.add('colab-df-spinner');\n",
              "      try {\n",
              "        const charts = await google.colab.kernel.invokeFunction(\n",
              "            'suggestCharts', [key], {});\n",
              "      } catch (error) {\n",
              "        console.error('Error during call to suggestCharts:', error);\n",
              "      }\n",
              "      quickchartButtonEl.classList.remove('colab-df-spinner');\n",
              "      quickchartButtonEl.classList.add('colab-df-quickchart-complete');\n",
              "    }\n",
              "    (() => {\n",
              "      let quickchartButtonEl =\n",
              "        document.querySelector('#df-34a908ef-5160-48c1-a594-fe21ea7c99a6 button');\n",
              "      quickchartButtonEl.style.display =\n",
              "        google.colab.kernel.accessAllowed ? 'block' : 'none';\n",
              "    })();\n",
              "  </script>\n",
              "</div>\n",
              "\n",
              "    </div>\n",
              "  </div>\n"
            ],
            "application/vnd.google.colaboratory.intrinsic+json": {
              "type": "dataframe",
              "variable_name": "data",
              "summary": "{\n  \"name\": \"data\",\n  \"rows\": 2126,\n  \"fields\": [\n    {\n      \"column\": \"LB\",\n      \"properties\": {\n        \"dtype\": \"number\",\n        \"std\": 11.270154059450766,\n        \"min\": 51.84248683343552,\n        \"max\": 214.0,\n        \"num_unique_values\": 153,\n        \"samples\": [\n          146.50794322307013,\n          152.0,\n          121.91810433770668\n        ],\n        \"semantic_type\": \"\",\n        \"description\": \"\"\n      }\n    },\n    {\n      \"column\": \"AC\",\n      \"properties\": {\n        \"dtype\": \"number\",\n        \"std\": 0.004390772421026121,\n        \"min\": -0.019283747,\n        \"max\": 0.038567494,\n        \"num_unique_values\": 1067,\n        \"samples\": [\n          0.008637236,\n          0.005106383,\n          0.00120048\n        ],\n        \"semantic_type\": \"\",\n        \"description\": \"\"\n      }\n    },\n    {\n      \"column\": \"FM\",\n      \"properties\": {\n        \"dtype\": \"number\",\n        \"std\": 0.06753967969018713,\n        \"min\": -0.480633803,\n        \"max\": 0.961267606,\n        \"num_unique_values\": 776,\n        \"samples\": [\n          -0.001372087,\n          0.00084674,\n          0.000834725\n        ],\n        \"semantic_type\": \"\",\n        \"description\": \"\"\n      }\n    },\n    {\n      \"column\": \"UC\",\n      \"properties\": {\n        \"dtype\": \"number\",\n        \"std\": 0.0033404622309868236,\n        \"min\": -0.014925373,\n        \"max\": 0.0300018264803428,\n        \"num_unique_values\": 1364,\n        \"samples\": [\n          0.004273504,\n          0.006071119,\n          0.003872217\n        ],\n        \"semantic_type\": \"\",\n        \"description\": \"\"\n      }\n    },\n    {\n      \"column\": \"DL\",\n      \"properties\": {\n        \"dtype\": \"number\",\n        \"std\": 0.003342682284130469,\n        \"min\": -0.015393469,\n        \"max\": 0.03076923,\n        \"num_unique_values\": 822,\n        \"samples\": [\n          0.005035971,\n          0.010628019,\n          0.005838198\n        ],\n        \"semantic_type\": \"\",\n        \"description\": \"\"\n      }\n    },\n    {\n      \"column\": \"DS\",\n      \"properties\": {\n        \"dtype\": \"number\",\n        \"std\": 0.00014153547187795593,\n        \"min\": -0.00135318,\n        \"max\": 0.00270636,\n        \"num_unique_values\": 114,\n        \"samples\": [\n          2.397299121323118e-06,\n          2.542969274806832e-06,\n          1.9496291617907063e-06\n        ],\n        \"semantic_type\": \"\",\n        \"description\": \"\"\n      }\n    },\n    {\n      \"column\": \"DP\",\n      \"properties\": {\n        \"dtype\": \"number\",\n        \"std\": 0.0008397713621559576,\n        \"min\": -0.005347594,\n        \"max\": 0.010695188,\n        \"num_unique_values\": 264,\n        \"samples\": [\n          7.775850633283119e-06,\n          0.001170275,\n          -4.03e-06\n        ],\n        \"semantic_type\": \"\",\n        \"description\": \"\"\n      }\n    },\n    {\n      \"column\": \"ASTV\",\n      \"properties\": {\n        \"dtype\": \"number\",\n        \"std\": 18.813972683314418,\n        \"min\": -63.0,\n        \"max\": 162.0,\n        \"num_unique_values\": 183,\n        \"samples\": [\n          26.487809451885557,\n          36.0,\n          47.51908979134646\n        ],\n        \"semantic_type\": \"\",\n        \"description\": \"\"\n      }\n    },\n    {\n      \"column\": \"MSTV\",\n      \"properties\": {\n        \"dtype\": \"number\",\n        \"std\": 1.1736321707514894,\n        \"min\": -6.6,\n        \"max\": 13.8,\n        \"num_unique_values\": 165,\n        \"samples\": [\n          4.008749059383254,\n          1.2287337895608368,\n          1.1848404108423356\n        ],\n        \"semantic_type\": \"\",\n        \"description\": \"\"\n      }\n    },\n    {\n      \"column\": \"ALTV\",\n      \"properties\": {\n        \"dtype\": \"number\",\n        \"std\": 21.20504133887537,\n        \"min\": -91.0,\n        \"max\": 182.0,\n        \"num_unique_values\": 195,\n        \"samples\": [\n          0.4411770852442044,\n          53.0,\n          0.341165901\n        ],\n        \"semantic_type\": \"\",\n        \"description\": \"\"\n      }\n    },\n    {\n      \"column\": \"MLTV\",\n      \"properties\": {\n        \"dtype\": \"number\",\n        \"std\": 7.7728579471039865,\n        \"min\": -50.7,\n        \"max\": 101.4,\n        \"num_unique_values\": 351,\n        \"samples\": [\n          19.7,\n          1.0291857688046322,\n          0.202007259\n        ],\n        \"semantic_type\": \"\",\n        \"description\": \"\"\n      }\n    },\n    {\n      \"column\": \"Width\",\n      \"properties\": {\n        \"dtype\": \"number\",\n        \"std\": 42.93182190339606,\n        \"min\": -174.0,\n        \"max\": 357.0,\n        \"num_unique_values\": 261,\n        \"samples\": [\n          120.0,\n          102.0,\n          101.0\n        ],\n        \"semantic_type\": \"\",\n        \"description\": \"\"\n      }\n    },\n    {\n      \"column\": \"Tendency\",\n      \"properties\": {\n        \"dtype\": \"number\",\n        \"std\": 0.645621850981845,\n        \"min\": -3.0,\n        \"max\": 3.0,\n        \"num_unique_values\": 111,\n        \"samples\": [\n          -0.012293818,\n          -0.005991072,\n          0.0110922945753652\n        ],\n        \"semantic_type\": \"\",\n        \"description\": \"\"\n      }\n    },\n    {\n      \"column\": \"NSP\",\n      \"properties\": {\n        \"dtype\": \"number\",\n        \"std\": 0.6446192190649244,\n        \"min\": -1.025988003,\n        \"max\": 5.0,\n        \"num_unique_values\": 111,\n        \"samples\": [\n          1.007153967573045,\n          0.9979205771192056,\n          1.0108488214986289\n        ],\n        \"semantic_type\": \"\",\n        \"description\": \"\"\n      }\n    }\n  ]\n}"
            }
          },
          "metadata": {},
          "execution_count": 5
        }
      ]
    },
    {
      "cell_type": "code",
      "source": [
        "data.info()"
      ],
      "metadata": {
        "id": "HVTcT5BrbKD2",
        "colab": {
          "base_uri": "https://localhost:8080/"
        },
        "outputId": "b61c5a97-2ff5-48eb-d211-6b1c8eb6b028"
      },
      "execution_count": 6,
      "outputs": [
        {
          "output_type": "stream",
          "name": "stdout",
          "text": [
            "<class 'pandas.core.frame.DataFrame'>\n",
            "RangeIndex: 2126 entries, 0 to 2125\n",
            "Data columns (total 14 columns):\n",
            " #   Column    Non-Null Count  Dtype  \n",
            "---  ------    --------------  -----  \n",
            " 0   LB        2105 non-null   float64\n",
            " 1   AC        2106 non-null   float64\n",
            " 2   FM        2126 non-null   float64\n",
            " 3   UC        2126 non-null   float64\n",
            " 4   DL        2126 non-null   float64\n",
            " 5   DS        2105 non-null   float64\n",
            " 6   DP        2105 non-null   float64\n",
            " 7   ASTV      2126 non-null   float64\n",
            " 8   MSTV      2126 non-null   float64\n",
            " 9   ALTV      2126 non-null   float64\n",
            " 10  MLTV      2105 non-null   float64\n",
            " 11  Width     2105 non-null   float64\n",
            " 12  Tendency  2105 non-null   float64\n",
            " 13  NSP       2105 non-null   float64\n",
            "dtypes: float64(14)\n",
            "memory usage: 232.7 KB\n"
          ]
        }
      ]
    },
    {
      "cell_type": "markdown",
      "source": [
        "# Statistical Summary Cardiotocographic"
      ],
      "metadata": {
        "id": "E0tgpj3AdXT9"
      }
    },
    {
      "cell_type": "code",
      "source": [
        "data.describe()"
      ],
      "metadata": {
        "id": "Z10Bx_9-W42h",
        "colab": {
          "base_uri": "https://localhost:8080/",
          "height": 320
        },
        "outputId": "0f716f0e-5069-4315-e67f-798ca6f40c6d"
      },
      "execution_count": 7,
      "outputs": [
        {
          "output_type": "execute_result",
          "data": {
            "text/plain": [
              "                LB           AC           FM           UC           DL  \\\n",
              "count  2105.000000  2106.000000  2126.000000  2126.000000  2126.000000   \n",
              "mean    133.343598     0.003219     0.009894     0.004391     0.001895   \n",
              "std      11.270154     0.004391     0.067540     0.003340     0.003343   \n",
              "min      51.842487    -0.019284    -0.480634    -0.014925    -0.015393   \n",
              "25%     126.000000     0.000000     0.000000     0.001851     0.000000   \n",
              "50%     133.000000     0.001634     0.000000     0.004484     0.000000   \n",
              "75%     140.000000     0.005650     0.002567     0.006536     0.003289   \n",
              "max     214.000000     0.038567     0.961268     0.030002     0.030769   \n",
              "\n",
              "                DS           DP         ASTV         MSTV         ALTV  \\\n",
              "count  2105.000000  2105.000000  2126.000000  2126.000000  2126.000000   \n",
              "mean      0.000003     0.000175    46.995984     1.364378    10.285964   \n",
              "std       0.000142     0.000840    18.813973     1.173632    21.205041   \n",
              "min      -0.001353    -0.005348   -63.000000    -6.600000   -91.000000   \n",
              "25%       0.000000     0.000000    32.000000     0.700000     0.000000   \n",
              "50%       0.000000     0.000000    49.000000     1.200000     0.000000   \n",
              "75%       0.000000     0.000000    61.000000     1.700000    11.000000   \n",
              "max       0.002706     0.010695   162.000000    13.800000   182.000000   \n",
              "\n",
              "              MLTV        Width     Tendency          NSP  \n",
              "count  2105.000000  2105.000000  2105.000000  2105.000000  \n",
              "mean      8.284887    70.429260     0.316371     1.304507  \n",
              "std       7.772858    42.931822     0.645622     0.644619  \n",
              "min     -50.700000  -174.000000    -3.000000    -1.025988  \n",
              "25%       4.600000    37.000000     0.000000     1.000000  \n",
              "50%       7.400000    67.000000     0.000000     1.000000  \n",
              "75%      10.900000   100.000000     1.000000     1.000000  \n",
              "max     101.400000   357.000000     3.000000     5.000000  "
            ],
            "text/html": [
              "\n",
              "  <div id=\"df-7399918a-9781-474d-bd77-82f149bd7322\" class=\"colab-df-container\">\n",
              "    <div>\n",
              "<style scoped>\n",
              "    .dataframe tbody tr th:only-of-type {\n",
              "        vertical-align: middle;\n",
              "    }\n",
              "\n",
              "    .dataframe tbody tr th {\n",
              "        vertical-align: top;\n",
              "    }\n",
              "\n",
              "    .dataframe thead th {\n",
              "        text-align: right;\n",
              "    }\n",
              "</style>\n",
              "<table border=\"1\" class=\"dataframe\">\n",
              "  <thead>\n",
              "    <tr style=\"text-align: right;\">\n",
              "      <th></th>\n",
              "      <th>LB</th>\n",
              "      <th>AC</th>\n",
              "      <th>FM</th>\n",
              "      <th>UC</th>\n",
              "      <th>DL</th>\n",
              "      <th>DS</th>\n",
              "      <th>DP</th>\n",
              "      <th>ASTV</th>\n",
              "      <th>MSTV</th>\n",
              "      <th>ALTV</th>\n",
              "      <th>MLTV</th>\n",
              "      <th>Width</th>\n",
              "      <th>Tendency</th>\n",
              "      <th>NSP</th>\n",
              "    </tr>\n",
              "  </thead>\n",
              "  <tbody>\n",
              "    <tr>\n",
              "      <th>count</th>\n",
              "      <td>2105.000000</td>\n",
              "      <td>2106.000000</td>\n",
              "      <td>2126.000000</td>\n",
              "      <td>2126.000000</td>\n",
              "      <td>2126.000000</td>\n",
              "      <td>2105.000000</td>\n",
              "      <td>2105.000000</td>\n",
              "      <td>2126.000000</td>\n",
              "      <td>2126.000000</td>\n",
              "      <td>2126.000000</td>\n",
              "      <td>2105.000000</td>\n",
              "      <td>2105.000000</td>\n",
              "      <td>2105.000000</td>\n",
              "      <td>2105.000000</td>\n",
              "    </tr>\n",
              "    <tr>\n",
              "      <th>mean</th>\n",
              "      <td>133.343598</td>\n",
              "      <td>0.003219</td>\n",
              "      <td>0.009894</td>\n",
              "      <td>0.004391</td>\n",
              "      <td>0.001895</td>\n",
              "      <td>0.000003</td>\n",
              "      <td>0.000175</td>\n",
              "      <td>46.995984</td>\n",
              "      <td>1.364378</td>\n",
              "      <td>10.285964</td>\n",
              "      <td>8.284887</td>\n",
              "      <td>70.429260</td>\n",
              "      <td>0.316371</td>\n",
              "      <td>1.304507</td>\n",
              "    </tr>\n",
              "    <tr>\n",
              "      <th>std</th>\n",
              "      <td>11.270154</td>\n",
              "      <td>0.004391</td>\n",
              "      <td>0.067540</td>\n",
              "      <td>0.003340</td>\n",
              "      <td>0.003343</td>\n",
              "      <td>0.000142</td>\n",
              "      <td>0.000840</td>\n",
              "      <td>18.813973</td>\n",
              "      <td>1.173632</td>\n",
              "      <td>21.205041</td>\n",
              "      <td>7.772858</td>\n",
              "      <td>42.931822</td>\n",
              "      <td>0.645622</td>\n",
              "      <td>0.644619</td>\n",
              "    </tr>\n",
              "    <tr>\n",
              "      <th>min</th>\n",
              "      <td>51.842487</td>\n",
              "      <td>-0.019284</td>\n",
              "      <td>-0.480634</td>\n",
              "      <td>-0.014925</td>\n",
              "      <td>-0.015393</td>\n",
              "      <td>-0.001353</td>\n",
              "      <td>-0.005348</td>\n",
              "      <td>-63.000000</td>\n",
              "      <td>-6.600000</td>\n",
              "      <td>-91.000000</td>\n",
              "      <td>-50.700000</td>\n",
              "      <td>-174.000000</td>\n",
              "      <td>-3.000000</td>\n",
              "      <td>-1.025988</td>\n",
              "    </tr>\n",
              "    <tr>\n",
              "      <th>25%</th>\n",
              "      <td>126.000000</td>\n",
              "      <td>0.000000</td>\n",
              "      <td>0.000000</td>\n",
              "      <td>0.001851</td>\n",
              "      <td>0.000000</td>\n",
              "      <td>0.000000</td>\n",
              "      <td>0.000000</td>\n",
              "      <td>32.000000</td>\n",
              "      <td>0.700000</td>\n",
              "      <td>0.000000</td>\n",
              "      <td>4.600000</td>\n",
              "      <td>37.000000</td>\n",
              "      <td>0.000000</td>\n",
              "      <td>1.000000</td>\n",
              "    </tr>\n",
              "    <tr>\n",
              "      <th>50%</th>\n",
              "      <td>133.000000</td>\n",
              "      <td>0.001634</td>\n",
              "      <td>0.000000</td>\n",
              "      <td>0.004484</td>\n",
              "      <td>0.000000</td>\n",
              "      <td>0.000000</td>\n",
              "      <td>0.000000</td>\n",
              "      <td>49.000000</td>\n",
              "      <td>1.200000</td>\n",
              "      <td>0.000000</td>\n",
              "      <td>7.400000</td>\n",
              "      <td>67.000000</td>\n",
              "      <td>0.000000</td>\n",
              "      <td>1.000000</td>\n",
              "    </tr>\n",
              "    <tr>\n",
              "      <th>75%</th>\n",
              "      <td>140.000000</td>\n",
              "      <td>0.005650</td>\n",
              "      <td>0.002567</td>\n",
              "      <td>0.006536</td>\n",
              "      <td>0.003289</td>\n",
              "      <td>0.000000</td>\n",
              "      <td>0.000000</td>\n",
              "      <td>61.000000</td>\n",
              "      <td>1.700000</td>\n",
              "      <td>11.000000</td>\n",
              "      <td>10.900000</td>\n",
              "      <td>100.000000</td>\n",
              "      <td>1.000000</td>\n",
              "      <td>1.000000</td>\n",
              "    </tr>\n",
              "    <tr>\n",
              "      <th>max</th>\n",
              "      <td>214.000000</td>\n",
              "      <td>0.038567</td>\n",
              "      <td>0.961268</td>\n",
              "      <td>0.030002</td>\n",
              "      <td>0.030769</td>\n",
              "      <td>0.002706</td>\n",
              "      <td>0.010695</td>\n",
              "      <td>162.000000</td>\n",
              "      <td>13.800000</td>\n",
              "      <td>182.000000</td>\n",
              "      <td>101.400000</td>\n",
              "      <td>357.000000</td>\n",
              "      <td>3.000000</td>\n",
              "      <td>5.000000</td>\n",
              "    </tr>\n",
              "  </tbody>\n",
              "</table>\n",
              "</div>\n",
              "    <div class=\"colab-df-buttons\">\n",
              "\n",
              "  <div class=\"colab-df-container\">\n",
              "    <button class=\"colab-df-convert\" onclick=\"convertToInteractive('df-7399918a-9781-474d-bd77-82f149bd7322')\"\n",
              "            title=\"Convert this dataframe to an interactive table.\"\n",
              "            style=\"display:none;\">\n",
              "\n",
              "  <svg xmlns=\"http://www.w3.org/2000/svg\" height=\"24px\" viewBox=\"0 -960 960 960\">\n",
              "    <path d=\"M120-120v-720h720v720H120Zm60-500h600v-160H180v160Zm220 220h160v-160H400v160Zm0 220h160v-160H400v160ZM180-400h160v-160H180v160Zm440 0h160v-160H620v160ZM180-180h160v-160H180v160Zm440 0h160v-160H620v160Z\"/>\n",
              "  </svg>\n",
              "    </button>\n",
              "\n",
              "  <style>\n",
              "    .colab-df-container {\n",
              "      display:flex;\n",
              "      gap: 12px;\n",
              "    }\n",
              "\n",
              "    .colab-df-convert {\n",
              "      background-color: #E8F0FE;\n",
              "      border: none;\n",
              "      border-radius: 50%;\n",
              "      cursor: pointer;\n",
              "      display: none;\n",
              "      fill: #1967D2;\n",
              "      height: 32px;\n",
              "      padding: 0 0 0 0;\n",
              "      width: 32px;\n",
              "    }\n",
              "\n",
              "    .colab-df-convert:hover {\n",
              "      background-color: #E2EBFA;\n",
              "      box-shadow: 0px 1px 2px rgba(60, 64, 67, 0.3), 0px 1px 3px 1px rgba(60, 64, 67, 0.15);\n",
              "      fill: #174EA6;\n",
              "    }\n",
              "\n",
              "    .colab-df-buttons div {\n",
              "      margin-bottom: 4px;\n",
              "    }\n",
              "\n",
              "    [theme=dark] .colab-df-convert {\n",
              "      background-color: #3B4455;\n",
              "      fill: #D2E3FC;\n",
              "    }\n",
              "\n",
              "    [theme=dark] .colab-df-convert:hover {\n",
              "      background-color: #434B5C;\n",
              "      box-shadow: 0px 1px 3px 1px rgba(0, 0, 0, 0.15);\n",
              "      filter: drop-shadow(0px 1px 2px rgba(0, 0, 0, 0.3));\n",
              "      fill: #FFFFFF;\n",
              "    }\n",
              "  </style>\n",
              "\n",
              "    <script>\n",
              "      const buttonEl =\n",
              "        document.querySelector('#df-7399918a-9781-474d-bd77-82f149bd7322 button.colab-df-convert');\n",
              "      buttonEl.style.display =\n",
              "        google.colab.kernel.accessAllowed ? 'block' : 'none';\n",
              "\n",
              "      async function convertToInteractive(key) {\n",
              "        const element = document.querySelector('#df-7399918a-9781-474d-bd77-82f149bd7322');\n",
              "        const dataTable =\n",
              "          await google.colab.kernel.invokeFunction('convertToInteractive',\n",
              "                                                    [key], {});\n",
              "        if (!dataTable) return;\n",
              "\n",
              "        const docLinkHtml = 'Like what you see? Visit the ' +\n",
              "          '<a target=\"_blank\" href=https://colab.research.google.com/notebooks/data_table.ipynb>data table notebook</a>'\n",
              "          + ' to learn more about interactive tables.';\n",
              "        element.innerHTML = '';\n",
              "        dataTable['output_type'] = 'display_data';\n",
              "        await google.colab.output.renderOutput(dataTable, element);\n",
              "        const docLink = document.createElement('div');\n",
              "        docLink.innerHTML = docLinkHtml;\n",
              "        element.appendChild(docLink);\n",
              "      }\n",
              "    </script>\n",
              "  </div>\n",
              "\n",
              "\n",
              "<div id=\"df-6b2dece8-0936-47e0-b685-800cc6b87432\">\n",
              "  <button class=\"colab-df-quickchart\" onclick=\"quickchart('df-6b2dece8-0936-47e0-b685-800cc6b87432')\"\n",
              "            title=\"Suggest charts\"\n",
              "            style=\"display:none;\">\n",
              "\n",
              "<svg xmlns=\"http://www.w3.org/2000/svg\" height=\"24px\"viewBox=\"0 0 24 24\"\n",
              "     width=\"24px\">\n",
              "    <g>\n",
              "        <path d=\"M19 3H5c-1.1 0-2 .9-2 2v14c0 1.1.9 2 2 2h14c1.1 0 2-.9 2-2V5c0-1.1-.9-2-2-2zM9 17H7v-7h2v7zm4 0h-2V7h2v10zm4 0h-2v-4h2v4z\"/>\n",
              "    </g>\n",
              "</svg>\n",
              "  </button>\n",
              "\n",
              "<style>\n",
              "  .colab-df-quickchart {\n",
              "      --bg-color: #E8F0FE;\n",
              "      --fill-color: #1967D2;\n",
              "      --hover-bg-color: #E2EBFA;\n",
              "      --hover-fill-color: #174EA6;\n",
              "      --disabled-fill-color: #AAA;\n",
              "      --disabled-bg-color: #DDD;\n",
              "  }\n",
              "\n",
              "  [theme=dark] .colab-df-quickchart {\n",
              "      --bg-color: #3B4455;\n",
              "      --fill-color: #D2E3FC;\n",
              "      --hover-bg-color: #434B5C;\n",
              "      --hover-fill-color: #FFFFFF;\n",
              "      --disabled-bg-color: #3B4455;\n",
              "      --disabled-fill-color: #666;\n",
              "  }\n",
              "\n",
              "  .colab-df-quickchart {\n",
              "    background-color: var(--bg-color);\n",
              "    border: none;\n",
              "    border-radius: 50%;\n",
              "    cursor: pointer;\n",
              "    display: none;\n",
              "    fill: var(--fill-color);\n",
              "    height: 32px;\n",
              "    padding: 0;\n",
              "    width: 32px;\n",
              "  }\n",
              "\n",
              "  .colab-df-quickchart:hover {\n",
              "    background-color: var(--hover-bg-color);\n",
              "    box-shadow: 0 1px 2px rgba(60, 64, 67, 0.3), 0 1px 3px 1px rgba(60, 64, 67, 0.15);\n",
              "    fill: var(--button-hover-fill-color);\n",
              "  }\n",
              "\n",
              "  .colab-df-quickchart-complete:disabled,\n",
              "  .colab-df-quickchart-complete:disabled:hover {\n",
              "    background-color: var(--disabled-bg-color);\n",
              "    fill: var(--disabled-fill-color);\n",
              "    box-shadow: none;\n",
              "  }\n",
              "\n",
              "  .colab-df-spinner {\n",
              "    border: 2px solid var(--fill-color);\n",
              "    border-color: transparent;\n",
              "    border-bottom-color: var(--fill-color);\n",
              "    animation:\n",
              "      spin 1s steps(1) infinite;\n",
              "  }\n",
              "\n",
              "  @keyframes spin {\n",
              "    0% {\n",
              "      border-color: transparent;\n",
              "      border-bottom-color: var(--fill-color);\n",
              "      border-left-color: var(--fill-color);\n",
              "    }\n",
              "    20% {\n",
              "      border-color: transparent;\n",
              "      border-left-color: var(--fill-color);\n",
              "      border-top-color: var(--fill-color);\n",
              "    }\n",
              "    30% {\n",
              "      border-color: transparent;\n",
              "      border-left-color: var(--fill-color);\n",
              "      border-top-color: var(--fill-color);\n",
              "      border-right-color: var(--fill-color);\n",
              "    }\n",
              "    40% {\n",
              "      border-color: transparent;\n",
              "      border-right-color: var(--fill-color);\n",
              "      border-top-color: var(--fill-color);\n",
              "    }\n",
              "    60% {\n",
              "      border-color: transparent;\n",
              "      border-right-color: var(--fill-color);\n",
              "    }\n",
              "    80% {\n",
              "      border-color: transparent;\n",
              "      border-right-color: var(--fill-color);\n",
              "      border-bottom-color: var(--fill-color);\n",
              "    }\n",
              "    90% {\n",
              "      border-color: transparent;\n",
              "      border-bottom-color: var(--fill-color);\n",
              "    }\n",
              "  }\n",
              "</style>\n",
              "\n",
              "  <script>\n",
              "    async function quickchart(key) {\n",
              "      const quickchartButtonEl =\n",
              "        document.querySelector('#' + key + ' button');\n",
              "      quickchartButtonEl.disabled = true;  // To prevent multiple clicks.\n",
              "      quickchartButtonEl.classList.add('colab-df-spinner');\n",
              "      try {\n",
              "        const charts = await google.colab.kernel.invokeFunction(\n",
              "            'suggestCharts', [key], {});\n",
              "      } catch (error) {\n",
              "        console.error('Error during call to suggestCharts:', error);\n",
              "      }\n",
              "      quickchartButtonEl.classList.remove('colab-df-spinner');\n",
              "      quickchartButtonEl.classList.add('colab-df-quickchart-complete');\n",
              "    }\n",
              "    (() => {\n",
              "      let quickchartButtonEl =\n",
              "        document.querySelector('#df-6b2dece8-0936-47e0-b685-800cc6b87432 button');\n",
              "      quickchartButtonEl.style.display =\n",
              "        google.colab.kernel.accessAllowed ? 'block' : 'none';\n",
              "    })();\n",
              "  </script>\n",
              "</div>\n",
              "\n",
              "    </div>\n",
              "  </div>\n"
            ],
            "application/vnd.google.colaboratory.intrinsic+json": {
              "type": "dataframe",
              "summary": "{\n  \"name\": \"data\",\n  \"rows\": 8,\n  \"fields\": [\n    {\n      \"column\": \"LB\",\n      \"properties\": {\n        \"dtype\": \"number\",\n        \"std\": 705.976960239646,\n        \"min\": 11.270154059450766,\n        \"max\": 2105.0,\n        \"num_unique_values\": 8,\n        \"samples\": [\n          133.3435983550352,\n          133.0,\n          2105.0\n        ],\n        \"semantic_type\": \"\",\n        \"description\": \"\"\n      }\n    },\n    {\n      \"column\": \"AC\",\n      \"properties\": {\n        \"dtype\": \"number\",\n        \"std\": 744.5817145483406,\n        \"min\": -0.019283747,\n        \"max\": 2106.0,\n        \"num_unique_values\": 8,\n        \"samples\": [\n          0.0032189782438000465,\n          0.001633991,\n          2106.0\n        ],\n        \"semantic_type\": \"\",\n        \"description\": \"\"\n      }\n    },\n    {\n      \"column\": \"FM\",\n      \"properties\": {\n        \"dtype\": \"number\",\n        \"std\": 751.6262980235842,\n        \"min\": -0.480633803,\n        \"max\": 2126.0,\n        \"num_unique_values\": 7,\n        \"samples\": [\n          2126.0,\n          0.009894484174097834,\n          0.00256657125\n        ],\n        \"semantic_type\": \"\",\n        \"description\": \"\"\n      }\n    },\n    {\n      \"column\": \"UC\",\n      \"properties\": {\n        \"dtype\": \"number\",\n        \"std\": 751.6527064698538,\n        \"min\": -0.014925373,\n        \"max\": 2126.0,\n        \"num_unique_values\": 8,\n        \"samples\": [\n          0.004390615424744109,\n          0.004484305,\n          2126.0\n        ],\n        \"semantic_type\": \"\",\n        \"description\": \"\"\n      }\n    },\n    {\n      \"column\": \"DL\",\n      \"properties\": {\n        \"dtype\": \"number\",\n        \"std\": 751.6533012114116,\n        \"min\": -0.015393469,\n        \"max\": 2126.0,\n        \"num_unique_values\": 7,\n        \"samples\": [\n          2126.0,\n          0.0018953447635069313,\n          0.003289474\n        ],\n        \"semantic_type\": \"\",\n        \"description\": \"\"\n      }\n    },\n    {\n      \"column\": \"DS\",\n      \"properties\": {\n        \"dtype\": \"number\",\n        \"std\": 744.2298115784365,\n        \"min\": -0.00135318,\n        \"max\": 2105.0,\n        \"num_unique_values\": 6,\n        \"samples\": [\n          2105.0,\n          2.5089835057102827e-06,\n          0.00270636\n        ],\n        \"semantic_type\": \"\",\n        \"description\": \"\"\n      }\n    },\n    {\n      \"column\": \"DP\",\n      \"properties\": {\n        \"dtype\": \"number\",\n        \"std\": 744.2295658564647,\n        \"min\": -0.005347594,\n        \"max\": 2105.0,\n        \"num_unique_values\": 6,\n        \"samples\": [\n          2105.0,\n          0.00017515121174634704,\n          0.010695188\n        ],\n        \"semantic_type\": \"\",\n        \"description\": \"\"\n      }\n    },\n    {\n      \"column\": \"ASTV\",\n      \"properties\": {\n        \"dtype\": \"number\",\n        \"std\": 738.7225510813913,\n        \"min\": -63.0,\n        \"max\": 2126.0,\n        \"num_unique_values\": 8,\n        \"samples\": [\n          46.99598415495999,\n          49.0,\n          2126.0\n        ],\n        \"semantic_type\": \"\",\n        \"description\": \"\"\n      }\n    },\n    {\n      \"column\": \"MSTV\",\n      \"properties\": {\n        \"dtype\": \"number\",\n        \"std\": 751.0014426971692,\n        \"min\": -6.6,\n        \"max\": 2126.0,\n        \"num_unique_values\": 8,\n        \"samples\": [\n          1.3643783514792533,\n          1.2,\n          2126.0\n        ],\n        \"semantic_type\": \"\",\n        \"description\": \"\"\n      }\n    },\n    {\n      \"column\": \"ALTV\",\n      \"properties\": {\n        \"dtype\": \"number\",\n        \"std\": 748.6936245789847,\n        \"min\": -91.0,\n        \"max\": 2126.0,\n        \"num_unique_values\": 7,\n        \"samples\": [\n          2126.0,\n          10.285964066432834,\n          11.0\n        ],\n        \"semantic_type\": \"\",\n        \"description\": \"\"\n      }\n    },\n    {\n      \"column\": \"MLTV\",\n      \"properties\": {\n        \"dtype\": \"number\",\n        \"std\": 740.8620374039182,\n        \"min\": -50.7,\n        \"max\": 2105.0,\n        \"num_unique_values\": 8,\n        \"samples\": [\n          8.28488742706321,\n          7.4,\n          2105.0\n        ],\n        \"semantic_type\": \"\",\n        \"description\": \"\"\n      }\n    },\n    {\n      \"column\": \"Width\",\n      \"properties\": {\n        \"dtype\": \"number\",\n        \"std\": 733.1851379774172,\n        \"min\": -174.0,\n        \"max\": 2105.0,\n        \"num_unique_values\": 8,\n        \"samples\": [\n          70.42926049411918,\n          67.0,\n          2105.0\n        ],\n        \"semantic_type\": \"\",\n        \"description\": \"\"\n      }\n    },\n    {\n      \"column\": \"Tendency\",\n      \"properties\": {\n        \"dtype\": \"number\",\n        \"std\": 744.1326122013164,\n        \"min\": -3.0,\n        \"max\": 2105.0,\n        \"num_unique_values\": 7,\n        \"samples\": [\n          2105.0,\n          0.3163714038702473,\n          1.0\n        ],\n        \"semantic_type\": \"\",\n        \"description\": \"\"\n      }\n    },\n    {\n      \"column\": \"NSP\",\n      \"properties\": {\n        \"dtype\": \"number\",\n        \"std\": 743.7811016830624,\n        \"min\": -1.025988003,\n        \"max\": 2105.0,\n        \"num_unique_values\": 6,\n        \"samples\": [\n          2105.0,\n          1.304507175110962,\n          5.0\n        ],\n        \"semantic_type\": \"\",\n        \"description\": \"\"\n      }\n    }\n  ]\n}"
            }
          },
          "metadata": {},
          "execution_count": 7
        }
      ]
    },
    {
      "cell_type": "code",
      "source": [
        "data.dtypes"
      ],
      "metadata": {
        "colab": {
          "base_uri": "https://localhost:8080/",
          "height": 523
        },
        "id": "3Y-bwxrGdldX",
        "outputId": "4c5980d3-7691-4f9d-a6c1-3be10f221fbd"
      },
      "execution_count": 8,
      "outputs": [
        {
          "output_type": "execute_result",
          "data": {
            "text/plain": [
              "LB          float64\n",
              "AC          float64\n",
              "FM          float64\n",
              "UC          float64\n",
              "DL          float64\n",
              "DS          float64\n",
              "DP          float64\n",
              "ASTV        float64\n",
              "MSTV        float64\n",
              "ALTV        float64\n",
              "MLTV        float64\n",
              "Width       float64\n",
              "Tendency    float64\n",
              "NSP         float64\n",
              "dtype: object"
            ],
            "text/html": [
              "<div>\n",
              "<style scoped>\n",
              "    .dataframe tbody tr th:only-of-type {\n",
              "        vertical-align: middle;\n",
              "    }\n",
              "\n",
              "    .dataframe tbody tr th {\n",
              "        vertical-align: top;\n",
              "    }\n",
              "\n",
              "    .dataframe thead th {\n",
              "        text-align: right;\n",
              "    }\n",
              "</style>\n",
              "<table border=\"1\" class=\"dataframe\">\n",
              "  <thead>\n",
              "    <tr style=\"text-align: right;\">\n",
              "      <th></th>\n",
              "      <th>0</th>\n",
              "    </tr>\n",
              "  </thead>\n",
              "  <tbody>\n",
              "    <tr>\n",
              "      <th>LB</th>\n",
              "      <td>float64</td>\n",
              "    </tr>\n",
              "    <tr>\n",
              "      <th>AC</th>\n",
              "      <td>float64</td>\n",
              "    </tr>\n",
              "    <tr>\n",
              "      <th>FM</th>\n",
              "      <td>float64</td>\n",
              "    </tr>\n",
              "    <tr>\n",
              "      <th>UC</th>\n",
              "      <td>float64</td>\n",
              "    </tr>\n",
              "    <tr>\n",
              "      <th>DL</th>\n",
              "      <td>float64</td>\n",
              "    </tr>\n",
              "    <tr>\n",
              "      <th>DS</th>\n",
              "      <td>float64</td>\n",
              "    </tr>\n",
              "    <tr>\n",
              "      <th>DP</th>\n",
              "      <td>float64</td>\n",
              "    </tr>\n",
              "    <tr>\n",
              "      <th>ASTV</th>\n",
              "      <td>float64</td>\n",
              "    </tr>\n",
              "    <tr>\n",
              "      <th>MSTV</th>\n",
              "      <td>float64</td>\n",
              "    </tr>\n",
              "    <tr>\n",
              "      <th>ALTV</th>\n",
              "      <td>float64</td>\n",
              "    </tr>\n",
              "    <tr>\n",
              "      <th>MLTV</th>\n",
              "      <td>float64</td>\n",
              "    </tr>\n",
              "    <tr>\n",
              "      <th>Width</th>\n",
              "      <td>float64</td>\n",
              "    </tr>\n",
              "    <tr>\n",
              "      <th>Tendency</th>\n",
              "      <td>float64</td>\n",
              "    </tr>\n",
              "    <tr>\n",
              "      <th>NSP</th>\n",
              "      <td>float64</td>\n",
              "    </tr>\n",
              "  </tbody>\n",
              "</table>\n",
              "</div><br><label><b>dtype:</b> object</label>"
            ]
          },
          "metadata": {},
          "execution_count": 8
        }
      ]
    },
    {
      "cell_type": "code",
      "source": [
        "data.isnull().sum()"
      ],
      "metadata": {
        "colab": {
          "base_uri": "https://localhost:8080/",
          "height": 523
        },
        "id": "_sKsVgTUdpb0",
        "outputId": "9e39de5d-af30-4576-99d1-a650f8f81dd9"
      },
      "execution_count": 9,
      "outputs": [
        {
          "output_type": "execute_result",
          "data": {
            "text/plain": [
              "LB          21\n",
              "AC          20\n",
              "FM           0\n",
              "UC           0\n",
              "DL           0\n",
              "DS          21\n",
              "DP          21\n",
              "ASTV         0\n",
              "MSTV         0\n",
              "ALTV         0\n",
              "MLTV        21\n",
              "Width       21\n",
              "Tendency    21\n",
              "NSP         21\n",
              "dtype: int64"
            ],
            "text/html": [
              "<div>\n",
              "<style scoped>\n",
              "    .dataframe tbody tr th:only-of-type {\n",
              "        vertical-align: middle;\n",
              "    }\n",
              "\n",
              "    .dataframe tbody tr th {\n",
              "        vertical-align: top;\n",
              "    }\n",
              "\n",
              "    .dataframe thead th {\n",
              "        text-align: right;\n",
              "    }\n",
              "</style>\n",
              "<table border=\"1\" class=\"dataframe\">\n",
              "  <thead>\n",
              "    <tr style=\"text-align: right;\">\n",
              "      <th></th>\n",
              "      <th>0</th>\n",
              "    </tr>\n",
              "  </thead>\n",
              "  <tbody>\n",
              "    <tr>\n",
              "      <th>LB</th>\n",
              "      <td>21</td>\n",
              "    </tr>\n",
              "    <tr>\n",
              "      <th>AC</th>\n",
              "      <td>20</td>\n",
              "    </tr>\n",
              "    <tr>\n",
              "      <th>FM</th>\n",
              "      <td>0</td>\n",
              "    </tr>\n",
              "    <tr>\n",
              "      <th>UC</th>\n",
              "      <td>0</td>\n",
              "    </tr>\n",
              "    <tr>\n",
              "      <th>DL</th>\n",
              "      <td>0</td>\n",
              "    </tr>\n",
              "    <tr>\n",
              "      <th>DS</th>\n",
              "      <td>21</td>\n",
              "    </tr>\n",
              "    <tr>\n",
              "      <th>DP</th>\n",
              "      <td>21</td>\n",
              "    </tr>\n",
              "    <tr>\n",
              "      <th>ASTV</th>\n",
              "      <td>0</td>\n",
              "    </tr>\n",
              "    <tr>\n",
              "      <th>MSTV</th>\n",
              "      <td>0</td>\n",
              "    </tr>\n",
              "    <tr>\n",
              "      <th>ALTV</th>\n",
              "      <td>0</td>\n",
              "    </tr>\n",
              "    <tr>\n",
              "      <th>MLTV</th>\n",
              "      <td>21</td>\n",
              "    </tr>\n",
              "    <tr>\n",
              "      <th>Width</th>\n",
              "      <td>21</td>\n",
              "    </tr>\n",
              "    <tr>\n",
              "      <th>Tendency</th>\n",
              "      <td>21</td>\n",
              "    </tr>\n",
              "    <tr>\n",
              "      <th>NSP</th>\n",
              "      <td>21</td>\n",
              "    </tr>\n",
              "  </tbody>\n",
              "</table>\n",
              "</div><br><label><b>dtype:</b> int64</label>"
            ]
          },
          "metadata": {},
          "execution_count": 9
        }
      ]
    },
    {
      "cell_type": "code",
      "source": [
        "data.shape"
      ],
      "metadata": {
        "colab": {
          "base_uri": "https://localhost:8080/"
        },
        "id": "9gJjuDXjdtfl",
        "outputId": "cb7ae118-3a36-4c70-cf8b-b88aaecaae64"
      },
      "execution_count": 10,
      "outputs": [
        {
          "output_type": "execute_result",
          "data": {
            "text/plain": [
              "(2126, 14)"
            ]
          },
          "metadata": {},
          "execution_count": 10
        }
      ]
    },
    {
      "cell_type": "code",
      "source": [
        "data[data.duplicated(keep=False)]"
      ],
      "metadata": {
        "colab": {
          "base_uri": "https://localhost:8080/",
          "height": 175
        },
        "id": "4EeUDu55dxSB",
        "outputId": "0edb0670-822a-480d-a109-502a95ed535a"
      },
      "execution_count": 11,
      "outputs": [
        {
          "output_type": "execute_result",
          "data": {
            "text/plain": [
              "         LB        AC   FM        UC   DL   DS   DP  ASTV  MSTV  ALTV  MLTV  \\\n",
              "1113  122.0  0.000000  0.0  0.000000  0.0  0.0  0.0  19.0   1.9   0.0  15.1   \n",
              "1115  122.0  0.000000  0.0  0.000000  0.0  0.0  0.0  19.0   1.9   0.0  15.1   \n",
              "1457  148.0  0.004717  0.0  0.002358  0.0  0.0  0.0  40.0   0.9   0.0  10.6   \n",
              "1458  148.0  0.004717  0.0  0.002358  0.0  0.0  0.0  40.0   0.9   0.0  10.6   \n",
              "\n",
              "      Width  Tendency  NSP  \n",
              "1113   39.0       0.0  1.0  \n",
              "1115   39.0       0.0  1.0  \n",
              "1457   35.0       0.0  1.0  \n",
              "1458   35.0       0.0  1.0  "
            ],
            "text/html": [
              "\n",
              "  <div id=\"df-c0b44ea1-2cbb-40f2-af85-ee28b08b8beb\" class=\"colab-df-container\">\n",
              "    <div>\n",
              "<style scoped>\n",
              "    .dataframe tbody tr th:only-of-type {\n",
              "        vertical-align: middle;\n",
              "    }\n",
              "\n",
              "    .dataframe tbody tr th {\n",
              "        vertical-align: top;\n",
              "    }\n",
              "\n",
              "    .dataframe thead th {\n",
              "        text-align: right;\n",
              "    }\n",
              "</style>\n",
              "<table border=\"1\" class=\"dataframe\">\n",
              "  <thead>\n",
              "    <tr style=\"text-align: right;\">\n",
              "      <th></th>\n",
              "      <th>LB</th>\n",
              "      <th>AC</th>\n",
              "      <th>FM</th>\n",
              "      <th>UC</th>\n",
              "      <th>DL</th>\n",
              "      <th>DS</th>\n",
              "      <th>DP</th>\n",
              "      <th>ASTV</th>\n",
              "      <th>MSTV</th>\n",
              "      <th>ALTV</th>\n",
              "      <th>MLTV</th>\n",
              "      <th>Width</th>\n",
              "      <th>Tendency</th>\n",
              "      <th>NSP</th>\n",
              "    </tr>\n",
              "  </thead>\n",
              "  <tbody>\n",
              "    <tr>\n",
              "      <th>1113</th>\n",
              "      <td>122.0</td>\n",
              "      <td>0.000000</td>\n",
              "      <td>0.0</td>\n",
              "      <td>0.000000</td>\n",
              "      <td>0.0</td>\n",
              "      <td>0.0</td>\n",
              "      <td>0.0</td>\n",
              "      <td>19.0</td>\n",
              "      <td>1.9</td>\n",
              "      <td>0.0</td>\n",
              "      <td>15.1</td>\n",
              "      <td>39.0</td>\n",
              "      <td>0.0</td>\n",
              "      <td>1.0</td>\n",
              "    </tr>\n",
              "    <tr>\n",
              "      <th>1115</th>\n",
              "      <td>122.0</td>\n",
              "      <td>0.000000</td>\n",
              "      <td>0.0</td>\n",
              "      <td>0.000000</td>\n",
              "      <td>0.0</td>\n",
              "      <td>0.0</td>\n",
              "      <td>0.0</td>\n",
              "      <td>19.0</td>\n",
              "      <td>1.9</td>\n",
              "      <td>0.0</td>\n",
              "      <td>15.1</td>\n",
              "      <td>39.0</td>\n",
              "      <td>0.0</td>\n",
              "      <td>1.0</td>\n",
              "    </tr>\n",
              "    <tr>\n",
              "      <th>1457</th>\n",
              "      <td>148.0</td>\n",
              "      <td>0.004717</td>\n",
              "      <td>0.0</td>\n",
              "      <td>0.002358</td>\n",
              "      <td>0.0</td>\n",
              "      <td>0.0</td>\n",
              "      <td>0.0</td>\n",
              "      <td>40.0</td>\n",
              "      <td>0.9</td>\n",
              "      <td>0.0</td>\n",
              "      <td>10.6</td>\n",
              "      <td>35.0</td>\n",
              "      <td>0.0</td>\n",
              "      <td>1.0</td>\n",
              "    </tr>\n",
              "    <tr>\n",
              "      <th>1458</th>\n",
              "      <td>148.0</td>\n",
              "      <td>0.004717</td>\n",
              "      <td>0.0</td>\n",
              "      <td>0.002358</td>\n",
              "      <td>0.0</td>\n",
              "      <td>0.0</td>\n",
              "      <td>0.0</td>\n",
              "      <td>40.0</td>\n",
              "      <td>0.9</td>\n",
              "      <td>0.0</td>\n",
              "      <td>10.6</td>\n",
              "      <td>35.0</td>\n",
              "      <td>0.0</td>\n",
              "      <td>1.0</td>\n",
              "    </tr>\n",
              "  </tbody>\n",
              "</table>\n",
              "</div>\n",
              "    <div class=\"colab-df-buttons\">\n",
              "\n",
              "  <div class=\"colab-df-container\">\n",
              "    <button class=\"colab-df-convert\" onclick=\"convertToInteractive('df-c0b44ea1-2cbb-40f2-af85-ee28b08b8beb')\"\n",
              "            title=\"Convert this dataframe to an interactive table.\"\n",
              "            style=\"display:none;\">\n",
              "\n",
              "  <svg xmlns=\"http://www.w3.org/2000/svg\" height=\"24px\" viewBox=\"0 -960 960 960\">\n",
              "    <path d=\"M120-120v-720h720v720H120Zm60-500h600v-160H180v160Zm220 220h160v-160H400v160Zm0 220h160v-160H400v160ZM180-400h160v-160H180v160Zm440 0h160v-160H620v160ZM180-180h160v-160H180v160Zm440 0h160v-160H620v160Z\"/>\n",
              "  </svg>\n",
              "    </button>\n",
              "\n",
              "  <style>\n",
              "    .colab-df-container {\n",
              "      display:flex;\n",
              "      gap: 12px;\n",
              "    }\n",
              "\n",
              "    .colab-df-convert {\n",
              "      background-color: #E8F0FE;\n",
              "      border: none;\n",
              "      border-radius: 50%;\n",
              "      cursor: pointer;\n",
              "      display: none;\n",
              "      fill: #1967D2;\n",
              "      height: 32px;\n",
              "      padding: 0 0 0 0;\n",
              "      width: 32px;\n",
              "    }\n",
              "\n",
              "    .colab-df-convert:hover {\n",
              "      background-color: #E2EBFA;\n",
              "      box-shadow: 0px 1px 2px rgba(60, 64, 67, 0.3), 0px 1px 3px 1px rgba(60, 64, 67, 0.15);\n",
              "      fill: #174EA6;\n",
              "    }\n",
              "\n",
              "    .colab-df-buttons div {\n",
              "      margin-bottom: 4px;\n",
              "    }\n",
              "\n",
              "    [theme=dark] .colab-df-convert {\n",
              "      background-color: #3B4455;\n",
              "      fill: #D2E3FC;\n",
              "    }\n",
              "\n",
              "    [theme=dark] .colab-df-convert:hover {\n",
              "      background-color: #434B5C;\n",
              "      box-shadow: 0px 1px 3px 1px rgba(0, 0, 0, 0.15);\n",
              "      filter: drop-shadow(0px 1px 2px rgba(0, 0, 0, 0.3));\n",
              "      fill: #FFFFFF;\n",
              "    }\n",
              "  </style>\n",
              "\n",
              "    <script>\n",
              "      const buttonEl =\n",
              "        document.querySelector('#df-c0b44ea1-2cbb-40f2-af85-ee28b08b8beb button.colab-df-convert');\n",
              "      buttonEl.style.display =\n",
              "        google.colab.kernel.accessAllowed ? 'block' : 'none';\n",
              "\n",
              "      async function convertToInteractive(key) {\n",
              "        const element = document.querySelector('#df-c0b44ea1-2cbb-40f2-af85-ee28b08b8beb');\n",
              "        const dataTable =\n",
              "          await google.colab.kernel.invokeFunction('convertToInteractive',\n",
              "                                                    [key], {});\n",
              "        if (!dataTable) return;\n",
              "\n",
              "        const docLinkHtml = 'Like what you see? Visit the ' +\n",
              "          '<a target=\"_blank\" href=https://colab.research.google.com/notebooks/data_table.ipynb>data table notebook</a>'\n",
              "          + ' to learn more about interactive tables.';\n",
              "        element.innerHTML = '';\n",
              "        dataTable['output_type'] = 'display_data';\n",
              "        await google.colab.output.renderOutput(dataTable, element);\n",
              "        const docLink = document.createElement('div');\n",
              "        docLink.innerHTML = docLinkHtml;\n",
              "        element.appendChild(docLink);\n",
              "      }\n",
              "    </script>\n",
              "  </div>\n",
              "\n",
              "\n",
              "<div id=\"df-906e820d-c7dc-44f8-a07c-a71f852dd9d3\">\n",
              "  <button class=\"colab-df-quickchart\" onclick=\"quickchart('df-906e820d-c7dc-44f8-a07c-a71f852dd9d3')\"\n",
              "            title=\"Suggest charts\"\n",
              "            style=\"display:none;\">\n",
              "\n",
              "<svg xmlns=\"http://www.w3.org/2000/svg\" height=\"24px\"viewBox=\"0 0 24 24\"\n",
              "     width=\"24px\">\n",
              "    <g>\n",
              "        <path d=\"M19 3H5c-1.1 0-2 .9-2 2v14c0 1.1.9 2 2 2h14c1.1 0 2-.9 2-2V5c0-1.1-.9-2-2-2zM9 17H7v-7h2v7zm4 0h-2V7h2v10zm4 0h-2v-4h2v4z\"/>\n",
              "    </g>\n",
              "</svg>\n",
              "  </button>\n",
              "\n",
              "<style>\n",
              "  .colab-df-quickchart {\n",
              "      --bg-color: #E8F0FE;\n",
              "      --fill-color: #1967D2;\n",
              "      --hover-bg-color: #E2EBFA;\n",
              "      --hover-fill-color: #174EA6;\n",
              "      --disabled-fill-color: #AAA;\n",
              "      --disabled-bg-color: #DDD;\n",
              "  }\n",
              "\n",
              "  [theme=dark] .colab-df-quickchart {\n",
              "      --bg-color: #3B4455;\n",
              "      --fill-color: #D2E3FC;\n",
              "      --hover-bg-color: #434B5C;\n",
              "      --hover-fill-color: #FFFFFF;\n",
              "      --disabled-bg-color: #3B4455;\n",
              "      --disabled-fill-color: #666;\n",
              "  }\n",
              "\n",
              "  .colab-df-quickchart {\n",
              "    background-color: var(--bg-color);\n",
              "    border: none;\n",
              "    border-radius: 50%;\n",
              "    cursor: pointer;\n",
              "    display: none;\n",
              "    fill: var(--fill-color);\n",
              "    height: 32px;\n",
              "    padding: 0;\n",
              "    width: 32px;\n",
              "  }\n",
              "\n",
              "  .colab-df-quickchart:hover {\n",
              "    background-color: var(--hover-bg-color);\n",
              "    box-shadow: 0 1px 2px rgba(60, 64, 67, 0.3), 0 1px 3px 1px rgba(60, 64, 67, 0.15);\n",
              "    fill: var(--button-hover-fill-color);\n",
              "  }\n",
              "\n",
              "  .colab-df-quickchart-complete:disabled,\n",
              "  .colab-df-quickchart-complete:disabled:hover {\n",
              "    background-color: var(--disabled-bg-color);\n",
              "    fill: var(--disabled-fill-color);\n",
              "    box-shadow: none;\n",
              "  }\n",
              "\n",
              "  .colab-df-spinner {\n",
              "    border: 2px solid var(--fill-color);\n",
              "    border-color: transparent;\n",
              "    border-bottom-color: var(--fill-color);\n",
              "    animation:\n",
              "      spin 1s steps(1) infinite;\n",
              "  }\n",
              "\n",
              "  @keyframes spin {\n",
              "    0% {\n",
              "      border-color: transparent;\n",
              "      border-bottom-color: var(--fill-color);\n",
              "      border-left-color: var(--fill-color);\n",
              "    }\n",
              "    20% {\n",
              "      border-color: transparent;\n",
              "      border-left-color: var(--fill-color);\n",
              "      border-top-color: var(--fill-color);\n",
              "    }\n",
              "    30% {\n",
              "      border-color: transparent;\n",
              "      border-left-color: var(--fill-color);\n",
              "      border-top-color: var(--fill-color);\n",
              "      border-right-color: var(--fill-color);\n",
              "    }\n",
              "    40% {\n",
              "      border-color: transparent;\n",
              "      border-right-color: var(--fill-color);\n",
              "      border-top-color: var(--fill-color);\n",
              "    }\n",
              "    60% {\n",
              "      border-color: transparent;\n",
              "      border-right-color: var(--fill-color);\n",
              "    }\n",
              "    80% {\n",
              "      border-color: transparent;\n",
              "      border-right-color: var(--fill-color);\n",
              "      border-bottom-color: var(--fill-color);\n",
              "    }\n",
              "    90% {\n",
              "      border-color: transparent;\n",
              "      border-bottom-color: var(--fill-color);\n",
              "    }\n",
              "  }\n",
              "</style>\n",
              "\n",
              "  <script>\n",
              "    async function quickchart(key) {\n",
              "      const quickchartButtonEl =\n",
              "        document.querySelector('#' + key + ' button');\n",
              "      quickchartButtonEl.disabled = true;  // To prevent multiple clicks.\n",
              "      quickchartButtonEl.classList.add('colab-df-spinner');\n",
              "      try {\n",
              "        const charts = await google.colab.kernel.invokeFunction(\n",
              "            'suggestCharts', [key], {});\n",
              "      } catch (error) {\n",
              "        console.error('Error during call to suggestCharts:', error);\n",
              "      }\n",
              "      quickchartButtonEl.classList.remove('colab-df-spinner');\n",
              "      quickchartButtonEl.classList.add('colab-df-quickchart-complete');\n",
              "    }\n",
              "    (() => {\n",
              "      let quickchartButtonEl =\n",
              "        document.querySelector('#df-906e820d-c7dc-44f8-a07c-a71f852dd9d3 button');\n",
              "      quickchartButtonEl.style.display =\n",
              "        google.colab.kernel.accessAllowed ? 'block' : 'none';\n",
              "    })();\n",
              "  </script>\n",
              "</div>\n",
              "\n",
              "    </div>\n",
              "  </div>\n"
            ],
            "application/vnd.google.colaboratory.intrinsic+json": {
              "type": "dataframe",
              "summary": "{\n  \"name\": \"data[data\",\n  \"rows\": 4,\n  \"fields\": [\n    {\n      \"column\": \"LB\",\n      \"properties\": {\n        \"dtype\": \"number\",\n        \"std\": 15.01110699893027,\n        \"min\": 122.0,\n        \"max\": 148.0,\n        \"num_unique_values\": 2,\n        \"samples\": [\n          148.0,\n          122.0\n        ],\n        \"semantic_type\": \"\",\n        \"description\": \"\"\n      }\n    },\n    {\n      \"column\": \"AC\",\n      \"properties\": {\n        \"dtype\": \"number\",\n        \"std\": 0.0027233502501123504,\n        \"min\": 0.0,\n        \"max\": 0.004716981,\n        \"num_unique_values\": 2,\n        \"samples\": [\n          0.004716981,\n          0.0\n        ],\n        \"semantic_type\": \"\",\n        \"description\": \"\"\n      }\n    },\n    {\n      \"column\": \"FM\",\n      \"properties\": {\n        \"dtype\": \"number\",\n        \"std\": 0.0,\n        \"min\": 0.0,\n        \"max\": 0.0,\n        \"num_unique_values\": 1,\n        \"samples\": [\n          0.0\n        ],\n        \"semantic_type\": \"\",\n        \"description\": \"\"\n      }\n    },\n    {\n      \"column\": \"UC\",\n      \"properties\": {\n        \"dtype\": \"number\",\n        \"std\": 0.0013616754137313095,\n        \"min\": 0.0,\n        \"max\": 0.002358491,\n        \"num_unique_values\": 2,\n        \"samples\": [\n          0.002358491\n        ],\n        \"semantic_type\": \"\",\n        \"description\": \"\"\n      }\n    },\n    {\n      \"column\": \"DL\",\n      \"properties\": {\n        \"dtype\": \"number\",\n        \"std\": 0.0,\n        \"min\": 0.0,\n        \"max\": 0.0,\n        \"num_unique_values\": 1,\n        \"samples\": [\n          0.0\n        ],\n        \"semantic_type\": \"\",\n        \"description\": \"\"\n      }\n    },\n    {\n      \"column\": \"DS\",\n      \"properties\": {\n        \"dtype\": \"number\",\n        \"std\": 0.0,\n        \"min\": 0.0,\n        \"max\": 0.0,\n        \"num_unique_values\": 1,\n        \"samples\": [\n          0.0\n        ],\n        \"semantic_type\": \"\",\n        \"description\": \"\"\n      }\n    },\n    {\n      \"column\": \"DP\",\n      \"properties\": {\n        \"dtype\": \"number\",\n        \"std\": 0.0,\n        \"min\": 0.0,\n        \"max\": 0.0,\n        \"num_unique_values\": 1,\n        \"samples\": [\n          0.0\n        ],\n        \"semantic_type\": \"\",\n        \"description\": \"\"\n      }\n    },\n    {\n      \"column\": \"ASTV\",\n      \"properties\": {\n        \"dtype\": \"number\",\n        \"std\": 12.12435565298214,\n        \"min\": 19.0,\n        \"max\": 40.0,\n        \"num_unique_values\": 2,\n        \"samples\": [\n          40.0\n        ],\n        \"semantic_type\": \"\",\n        \"description\": \"\"\n      }\n    },\n    {\n      \"column\": \"MSTV\",\n      \"properties\": {\n        \"dtype\": \"number\",\n        \"std\": 0.5773502691896257,\n        \"min\": 0.9,\n        \"max\": 1.9,\n        \"num_unique_values\": 2,\n        \"samples\": [\n          0.9\n        ],\n        \"semantic_type\": \"\",\n        \"description\": \"\"\n      }\n    },\n    {\n      \"column\": \"ALTV\",\n      \"properties\": {\n        \"dtype\": \"number\",\n        \"std\": 0.0,\n        \"min\": 0.0,\n        \"max\": 0.0,\n        \"num_unique_values\": 1,\n        \"samples\": [\n          0.0\n        ],\n        \"semantic_type\": \"\",\n        \"description\": \"\"\n      }\n    },\n    {\n      \"column\": \"MLTV\",\n      \"properties\": {\n        \"dtype\": \"number\",\n        \"std\": 2.598076211353316,\n        \"min\": 10.6,\n        \"max\": 15.1,\n        \"num_unique_values\": 2,\n        \"samples\": [\n          10.6\n        ],\n        \"semantic_type\": \"\",\n        \"description\": \"\"\n      }\n    },\n    {\n      \"column\": \"Width\",\n      \"properties\": {\n        \"dtype\": \"number\",\n        \"std\": 2.309401076758503,\n        \"min\": 35.0,\n        \"max\": 39.0,\n        \"num_unique_values\": 2,\n        \"samples\": [\n          35.0\n        ],\n        \"semantic_type\": \"\",\n        \"description\": \"\"\n      }\n    },\n    {\n      \"column\": \"Tendency\",\n      \"properties\": {\n        \"dtype\": \"number\",\n        \"std\": 0.0,\n        \"min\": 0.0,\n        \"max\": 0.0,\n        \"num_unique_values\": 1,\n        \"samples\": [\n          0.0\n        ],\n        \"semantic_type\": \"\",\n        \"description\": \"\"\n      }\n    },\n    {\n      \"column\": \"NSP\",\n      \"properties\": {\n        \"dtype\": \"number\",\n        \"std\": 0.0,\n        \"min\": 1.0,\n        \"max\": 1.0,\n        \"num_unique_values\": 1,\n        \"samples\": [\n          1.0\n        ],\n        \"semantic_type\": \"\",\n        \"description\": \"\"\n      }\n    }\n  ]\n}"
            }
          },
          "metadata": {},
          "execution_count": 11
        }
      ]
    },
    {
      "cell_type": "code",
      "source": [
        "data.reset_index()"
      ],
      "metadata": {
        "colab": {
          "base_uri": "https://localhost:8080/",
          "height": 423
        },
        "id": "D_ffTsqcd28o",
        "outputId": "5da67a8d-3bcc-4340-d0c8-ab7b73ee66af"
      },
      "execution_count": 12,
      "outputs": [
        {
          "output_type": "execute_result",
          "data": {
            "text/plain": [
              "      index          LB        AC        FM        UC        DL   DS   DP  \\\n",
              "0         0  120.000000  0.000000  0.000000  0.000000  0.000000  0.0  0.0   \n",
              "1         1  132.000000  0.006380  0.000000  0.006380  0.003190  0.0  0.0   \n",
              "2         2  133.000000  0.003322  0.000000  0.008306  0.003322  0.0  0.0   \n",
              "3         3  134.000000  0.002561  0.000000  0.007742  0.002561  0.0  0.0   \n",
              "4         4  131.948232  0.006515  0.000000  0.008143  0.000000  0.0  0.0   \n",
              "...     ...         ...       ...       ...       ...       ...  ...  ...   \n",
              "2121   2121  140.000000  0.000000  0.961268  0.007426  0.000000  0.0  0.0   \n",
              "2122   2122  140.000000  0.000775  0.000000  0.006979  0.000000  0.0  0.0   \n",
              "2123   2123  140.000000  0.000980  0.000000  0.006863  0.000000  0.0  0.0   \n",
              "2124   2124  140.000000  0.000679  0.000000  0.006110  0.000000  0.0  0.0   \n",
              "2125   2125  142.000000  0.001616 -0.000188  0.008078  0.000000  0.0  0.0   \n",
              "\n",
              "      ASTV  MSTV       ALTV  MLTV  Width  Tendency       NSP  \n",
              "0     73.0   0.5  43.000000   2.4   64.0  0.999926  2.000000  \n",
              "1     17.0   2.1   0.000000  10.4  130.0  0.000000  1.000000  \n",
              "2     16.0   2.1   0.000000  13.4  130.0  0.000000  1.000000  \n",
              "3     16.0   2.4   0.000000  23.0  117.0  1.000000  1.000000  \n",
              "4     16.0   2.4   0.000000  19.9  117.0  1.000000  1.000000  \n",
              "...    ...   ...        ...   ...    ...       ...       ...  \n",
              "2121  79.0   0.2  25.000000   7.2   40.0  0.000000  2.000000  \n",
              "2122  78.0   0.4  22.000000   7.1   66.0  1.000000  2.000000  \n",
              "2123  79.0   0.4  20.000000   6.1   67.0  1.000000  1.990464  \n",
              "2124  78.0   0.4  27.000000   7.0   66.0  1.000000  2.000000  \n",
              "2125  74.0   0.4  35.857183   5.0   42.0  0.000000  1.000000  \n",
              "\n",
              "[2126 rows x 15 columns]"
            ],
            "text/html": [
              "\n",
              "  <div id=\"df-cc4484fe-76ea-49d3-962f-2ede6191a9f4\" class=\"colab-df-container\">\n",
              "    <div>\n",
              "<style scoped>\n",
              "    .dataframe tbody tr th:only-of-type {\n",
              "        vertical-align: middle;\n",
              "    }\n",
              "\n",
              "    .dataframe tbody tr th {\n",
              "        vertical-align: top;\n",
              "    }\n",
              "\n",
              "    .dataframe thead th {\n",
              "        text-align: right;\n",
              "    }\n",
              "</style>\n",
              "<table border=\"1\" class=\"dataframe\">\n",
              "  <thead>\n",
              "    <tr style=\"text-align: right;\">\n",
              "      <th></th>\n",
              "      <th>index</th>\n",
              "      <th>LB</th>\n",
              "      <th>AC</th>\n",
              "      <th>FM</th>\n",
              "      <th>UC</th>\n",
              "      <th>DL</th>\n",
              "      <th>DS</th>\n",
              "      <th>DP</th>\n",
              "      <th>ASTV</th>\n",
              "      <th>MSTV</th>\n",
              "      <th>ALTV</th>\n",
              "      <th>MLTV</th>\n",
              "      <th>Width</th>\n",
              "      <th>Tendency</th>\n",
              "      <th>NSP</th>\n",
              "    </tr>\n",
              "  </thead>\n",
              "  <tbody>\n",
              "    <tr>\n",
              "      <th>0</th>\n",
              "      <td>0</td>\n",
              "      <td>120.000000</td>\n",
              "      <td>0.000000</td>\n",
              "      <td>0.000000</td>\n",
              "      <td>0.000000</td>\n",
              "      <td>0.000000</td>\n",
              "      <td>0.0</td>\n",
              "      <td>0.0</td>\n",
              "      <td>73.0</td>\n",
              "      <td>0.5</td>\n",
              "      <td>43.000000</td>\n",
              "      <td>2.4</td>\n",
              "      <td>64.0</td>\n",
              "      <td>0.999926</td>\n",
              "      <td>2.000000</td>\n",
              "    </tr>\n",
              "    <tr>\n",
              "      <th>1</th>\n",
              "      <td>1</td>\n",
              "      <td>132.000000</td>\n",
              "      <td>0.006380</td>\n",
              "      <td>0.000000</td>\n",
              "      <td>0.006380</td>\n",
              "      <td>0.003190</td>\n",
              "      <td>0.0</td>\n",
              "      <td>0.0</td>\n",
              "      <td>17.0</td>\n",
              "      <td>2.1</td>\n",
              "      <td>0.000000</td>\n",
              "      <td>10.4</td>\n",
              "      <td>130.0</td>\n",
              "      <td>0.000000</td>\n",
              "      <td>1.000000</td>\n",
              "    </tr>\n",
              "    <tr>\n",
              "      <th>2</th>\n",
              "      <td>2</td>\n",
              "      <td>133.000000</td>\n",
              "      <td>0.003322</td>\n",
              "      <td>0.000000</td>\n",
              "      <td>0.008306</td>\n",
              "      <td>0.003322</td>\n",
              "      <td>0.0</td>\n",
              "      <td>0.0</td>\n",
              "      <td>16.0</td>\n",
              "      <td>2.1</td>\n",
              "      <td>0.000000</td>\n",
              "      <td>13.4</td>\n",
              "      <td>130.0</td>\n",
              "      <td>0.000000</td>\n",
              "      <td>1.000000</td>\n",
              "    </tr>\n",
              "    <tr>\n",
              "      <th>3</th>\n",
              "      <td>3</td>\n",
              "      <td>134.000000</td>\n",
              "      <td>0.002561</td>\n",
              "      <td>0.000000</td>\n",
              "      <td>0.007742</td>\n",
              "      <td>0.002561</td>\n",
              "      <td>0.0</td>\n",
              "      <td>0.0</td>\n",
              "      <td>16.0</td>\n",
              "      <td>2.4</td>\n",
              "      <td>0.000000</td>\n",
              "      <td>23.0</td>\n",
              "      <td>117.0</td>\n",
              "      <td>1.000000</td>\n",
              "      <td>1.000000</td>\n",
              "    </tr>\n",
              "    <tr>\n",
              "      <th>4</th>\n",
              "      <td>4</td>\n",
              "      <td>131.948232</td>\n",
              "      <td>0.006515</td>\n",
              "      <td>0.000000</td>\n",
              "      <td>0.008143</td>\n",
              "      <td>0.000000</td>\n",
              "      <td>0.0</td>\n",
              "      <td>0.0</td>\n",
              "      <td>16.0</td>\n",
              "      <td>2.4</td>\n",
              "      <td>0.000000</td>\n",
              "      <td>19.9</td>\n",
              "      <td>117.0</td>\n",
              "      <td>1.000000</td>\n",
              "      <td>1.000000</td>\n",
              "    </tr>\n",
              "    <tr>\n",
              "      <th>...</th>\n",
              "      <td>...</td>\n",
              "      <td>...</td>\n",
              "      <td>...</td>\n",
              "      <td>...</td>\n",
              "      <td>...</td>\n",
              "      <td>...</td>\n",
              "      <td>...</td>\n",
              "      <td>...</td>\n",
              "      <td>...</td>\n",
              "      <td>...</td>\n",
              "      <td>...</td>\n",
              "      <td>...</td>\n",
              "      <td>...</td>\n",
              "      <td>...</td>\n",
              "      <td>...</td>\n",
              "    </tr>\n",
              "    <tr>\n",
              "      <th>2121</th>\n",
              "      <td>2121</td>\n",
              "      <td>140.000000</td>\n",
              "      <td>0.000000</td>\n",
              "      <td>0.961268</td>\n",
              "      <td>0.007426</td>\n",
              "      <td>0.000000</td>\n",
              "      <td>0.0</td>\n",
              "      <td>0.0</td>\n",
              "      <td>79.0</td>\n",
              "      <td>0.2</td>\n",
              "      <td>25.000000</td>\n",
              "      <td>7.2</td>\n",
              "      <td>40.0</td>\n",
              "      <td>0.000000</td>\n",
              "      <td>2.000000</td>\n",
              "    </tr>\n",
              "    <tr>\n",
              "      <th>2122</th>\n",
              "      <td>2122</td>\n",
              "      <td>140.000000</td>\n",
              "      <td>0.000775</td>\n",
              "      <td>0.000000</td>\n",
              "      <td>0.006979</td>\n",
              "      <td>0.000000</td>\n",
              "      <td>0.0</td>\n",
              "      <td>0.0</td>\n",
              "      <td>78.0</td>\n",
              "      <td>0.4</td>\n",
              "      <td>22.000000</td>\n",
              "      <td>7.1</td>\n",
              "      <td>66.0</td>\n",
              "      <td>1.000000</td>\n",
              "      <td>2.000000</td>\n",
              "    </tr>\n",
              "    <tr>\n",
              "      <th>2123</th>\n",
              "      <td>2123</td>\n",
              "      <td>140.000000</td>\n",
              "      <td>0.000980</td>\n",
              "      <td>0.000000</td>\n",
              "      <td>0.006863</td>\n",
              "      <td>0.000000</td>\n",
              "      <td>0.0</td>\n",
              "      <td>0.0</td>\n",
              "      <td>79.0</td>\n",
              "      <td>0.4</td>\n",
              "      <td>20.000000</td>\n",
              "      <td>6.1</td>\n",
              "      <td>67.0</td>\n",
              "      <td>1.000000</td>\n",
              "      <td>1.990464</td>\n",
              "    </tr>\n",
              "    <tr>\n",
              "      <th>2124</th>\n",
              "      <td>2124</td>\n",
              "      <td>140.000000</td>\n",
              "      <td>0.000679</td>\n",
              "      <td>0.000000</td>\n",
              "      <td>0.006110</td>\n",
              "      <td>0.000000</td>\n",
              "      <td>0.0</td>\n",
              "      <td>0.0</td>\n",
              "      <td>78.0</td>\n",
              "      <td>0.4</td>\n",
              "      <td>27.000000</td>\n",
              "      <td>7.0</td>\n",
              "      <td>66.0</td>\n",
              "      <td>1.000000</td>\n",
              "      <td>2.000000</td>\n",
              "    </tr>\n",
              "    <tr>\n",
              "      <th>2125</th>\n",
              "      <td>2125</td>\n",
              "      <td>142.000000</td>\n",
              "      <td>0.001616</td>\n",
              "      <td>-0.000188</td>\n",
              "      <td>0.008078</td>\n",
              "      <td>0.000000</td>\n",
              "      <td>0.0</td>\n",
              "      <td>0.0</td>\n",
              "      <td>74.0</td>\n",
              "      <td>0.4</td>\n",
              "      <td>35.857183</td>\n",
              "      <td>5.0</td>\n",
              "      <td>42.0</td>\n",
              "      <td>0.000000</td>\n",
              "      <td>1.000000</td>\n",
              "    </tr>\n",
              "  </tbody>\n",
              "</table>\n",
              "<p>2126 rows × 15 columns</p>\n",
              "</div>\n",
              "    <div class=\"colab-df-buttons\">\n",
              "\n",
              "  <div class=\"colab-df-container\">\n",
              "    <button class=\"colab-df-convert\" onclick=\"convertToInteractive('df-cc4484fe-76ea-49d3-962f-2ede6191a9f4')\"\n",
              "            title=\"Convert this dataframe to an interactive table.\"\n",
              "            style=\"display:none;\">\n",
              "\n",
              "  <svg xmlns=\"http://www.w3.org/2000/svg\" height=\"24px\" viewBox=\"0 -960 960 960\">\n",
              "    <path d=\"M120-120v-720h720v720H120Zm60-500h600v-160H180v160Zm220 220h160v-160H400v160Zm0 220h160v-160H400v160ZM180-400h160v-160H180v160Zm440 0h160v-160H620v160ZM180-180h160v-160H180v160Zm440 0h160v-160H620v160Z\"/>\n",
              "  </svg>\n",
              "    </button>\n",
              "\n",
              "  <style>\n",
              "    .colab-df-container {\n",
              "      display:flex;\n",
              "      gap: 12px;\n",
              "    }\n",
              "\n",
              "    .colab-df-convert {\n",
              "      background-color: #E8F0FE;\n",
              "      border: none;\n",
              "      border-radius: 50%;\n",
              "      cursor: pointer;\n",
              "      display: none;\n",
              "      fill: #1967D2;\n",
              "      height: 32px;\n",
              "      padding: 0 0 0 0;\n",
              "      width: 32px;\n",
              "    }\n",
              "\n",
              "    .colab-df-convert:hover {\n",
              "      background-color: #E2EBFA;\n",
              "      box-shadow: 0px 1px 2px rgba(60, 64, 67, 0.3), 0px 1px 3px 1px rgba(60, 64, 67, 0.15);\n",
              "      fill: #174EA6;\n",
              "    }\n",
              "\n",
              "    .colab-df-buttons div {\n",
              "      margin-bottom: 4px;\n",
              "    }\n",
              "\n",
              "    [theme=dark] .colab-df-convert {\n",
              "      background-color: #3B4455;\n",
              "      fill: #D2E3FC;\n",
              "    }\n",
              "\n",
              "    [theme=dark] .colab-df-convert:hover {\n",
              "      background-color: #434B5C;\n",
              "      box-shadow: 0px 1px 3px 1px rgba(0, 0, 0, 0.15);\n",
              "      filter: drop-shadow(0px 1px 2px rgba(0, 0, 0, 0.3));\n",
              "      fill: #FFFFFF;\n",
              "    }\n",
              "  </style>\n",
              "\n",
              "    <script>\n",
              "      const buttonEl =\n",
              "        document.querySelector('#df-cc4484fe-76ea-49d3-962f-2ede6191a9f4 button.colab-df-convert');\n",
              "      buttonEl.style.display =\n",
              "        google.colab.kernel.accessAllowed ? 'block' : 'none';\n",
              "\n",
              "      async function convertToInteractive(key) {\n",
              "        const element = document.querySelector('#df-cc4484fe-76ea-49d3-962f-2ede6191a9f4');\n",
              "        const dataTable =\n",
              "          await google.colab.kernel.invokeFunction('convertToInteractive',\n",
              "                                                    [key], {});\n",
              "        if (!dataTable) return;\n",
              "\n",
              "        const docLinkHtml = 'Like what you see? Visit the ' +\n",
              "          '<a target=\"_blank\" href=https://colab.research.google.com/notebooks/data_table.ipynb>data table notebook</a>'\n",
              "          + ' to learn more about interactive tables.';\n",
              "        element.innerHTML = '';\n",
              "        dataTable['output_type'] = 'display_data';\n",
              "        await google.colab.output.renderOutput(dataTable, element);\n",
              "        const docLink = document.createElement('div');\n",
              "        docLink.innerHTML = docLinkHtml;\n",
              "        element.appendChild(docLink);\n",
              "      }\n",
              "    </script>\n",
              "  </div>\n",
              "\n",
              "\n",
              "<div id=\"df-68c2a884-3b6a-44cc-b48e-e12d06f4f63d\">\n",
              "  <button class=\"colab-df-quickchart\" onclick=\"quickchart('df-68c2a884-3b6a-44cc-b48e-e12d06f4f63d')\"\n",
              "            title=\"Suggest charts\"\n",
              "            style=\"display:none;\">\n",
              "\n",
              "<svg xmlns=\"http://www.w3.org/2000/svg\" height=\"24px\"viewBox=\"0 0 24 24\"\n",
              "     width=\"24px\">\n",
              "    <g>\n",
              "        <path d=\"M19 3H5c-1.1 0-2 .9-2 2v14c0 1.1.9 2 2 2h14c1.1 0 2-.9 2-2V5c0-1.1-.9-2-2-2zM9 17H7v-7h2v7zm4 0h-2V7h2v10zm4 0h-2v-4h2v4z\"/>\n",
              "    </g>\n",
              "</svg>\n",
              "  </button>\n",
              "\n",
              "<style>\n",
              "  .colab-df-quickchart {\n",
              "      --bg-color: #E8F0FE;\n",
              "      --fill-color: #1967D2;\n",
              "      --hover-bg-color: #E2EBFA;\n",
              "      --hover-fill-color: #174EA6;\n",
              "      --disabled-fill-color: #AAA;\n",
              "      --disabled-bg-color: #DDD;\n",
              "  }\n",
              "\n",
              "  [theme=dark] .colab-df-quickchart {\n",
              "      --bg-color: #3B4455;\n",
              "      --fill-color: #D2E3FC;\n",
              "      --hover-bg-color: #434B5C;\n",
              "      --hover-fill-color: #FFFFFF;\n",
              "      --disabled-bg-color: #3B4455;\n",
              "      --disabled-fill-color: #666;\n",
              "  }\n",
              "\n",
              "  .colab-df-quickchart {\n",
              "    background-color: var(--bg-color);\n",
              "    border: none;\n",
              "    border-radius: 50%;\n",
              "    cursor: pointer;\n",
              "    display: none;\n",
              "    fill: var(--fill-color);\n",
              "    height: 32px;\n",
              "    padding: 0;\n",
              "    width: 32px;\n",
              "  }\n",
              "\n",
              "  .colab-df-quickchart:hover {\n",
              "    background-color: var(--hover-bg-color);\n",
              "    box-shadow: 0 1px 2px rgba(60, 64, 67, 0.3), 0 1px 3px 1px rgba(60, 64, 67, 0.15);\n",
              "    fill: var(--button-hover-fill-color);\n",
              "  }\n",
              "\n",
              "  .colab-df-quickchart-complete:disabled,\n",
              "  .colab-df-quickchart-complete:disabled:hover {\n",
              "    background-color: var(--disabled-bg-color);\n",
              "    fill: var(--disabled-fill-color);\n",
              "    box-shadow: none;\n",
              "  }\n",
              "\n",
              "  .colab-df-spinner {\n",
              "    border: 2px solid var(--fill-color);\n",
              "    border-color: transparent;\n",
              "    border-bottom-color: var(--fill-color);\n",
              "    animation:\n",
              "      spin 1s steps(1) infinite;\n",
              "  }\n",
              "\n",
              "  @keyframes spin {\n",
              "    0% {\n",
              "      border-color: transparent;\n",
              "      border-bottom-color: var(--fill-color);\n",
              "      border-left-color: var(--fill-color);\n",
              "    }\n",
              "    20% {\n",
              "      border-color: transparent;\n",
              "      border-left-color: var(--fill-color);\n",
              "      border-top-color: var(--fill-color);\n",
              "    }\n",
              "    30% {\n",
              "      border-color: transparent;\n",
              "      border-left-color: var(--fill-color);\n",
              "      border-top-color: var(--fill-color);\n",
              "      border-right-color: var(--fill-color);\n",
              "    }\n",
              "    40% {\n",
              "      border-color: transparent;\n",
              "      border-right-color: var(--fill-color);\n",
              "      border-top-color: var(--fill-color);\n",
              "    }\n",
              "    60% {\n",
              "      border-color: transparent;\n",
              "      border-right-color: var(--fill-color);\n",
              "    }\n",
              "    80% {\n",
              "      border-color: transparent;\n",
              "      border-right-color: var(--fill-color);\n",
              "      border-bottom-color: var(--fill-color);\n",
              "    }\n",
              "    90% {\n",
              "      border-color: transparent;\n",
              "      border-bottom-color: var(--fill-color);\n",
              "    }\n",
              "  }\n",
              "</style>\n",
              "\n",
              "  <script>\n",
              "    async function quickchart(key) {\n",
              "      const quickchartButtonEl =\n",
              "        document.querySelector('#' + key + ' button');\n",
              "      quickchartButtonEl.disabled = true;  // To prevent multiple clicks.\n",
              "      quickchartButtonEl.classList.add('colab-df-spinner');\n",
              "      try {\n",
              "        const charts = await google.colab.kernel.invokeFunction(\n",
              "            'suggestCharts', [key], {});\n",
              "      } catch (error) {\n",
              "        console.error('Error during call to suggestCharts:', error);\n",
              "      }\n",
              "      quickchartButtonEl.classList.remove('colab-df-spinner');\n",
              "      quickchartButtonEl.classList.add('colab-df-quickchart-complete');\n",
              "    }\n",
              "    (() => {\n",
              "      let quickchartButtonEl =\n",
              "        document.querySelector('#df-68c2a884-3b6a-44cc-b48e-e12d06f4f63d button');\n",
              "      quickchartButtonEl.style.display =\n",
              "        google.colab.kernel.accessAllowed ? 'block' : 'none';\n",
              "    })();\n",
              "  </script>\n",
              "</div>\n",
              "\n",
              "    </div>\n",
              "  </div>\n"
            ],
            "application/vnd.google.colaboratory.intrinsic+json": {
              "type": "dataframe",
              "summary": "{\n  \"name\": \"data\",\n  \"rows\": 2126,\n  \"fields\": [\n    {\n      \"column\": \"index\",\n      \"properties\": {\n        \"dtype\": \"number\",\n        \"std\": 613,\n        \"min\": 0,\n        \"max\": 2125,\n        \"num_unique_values\": 2126,\n        \"samples\": [\n          282,\n          1999,\n          1709\n        ],\n        \"semantic_type\": \"\",\n        \"description\": \"\"\n      }\n    },\n    {\n      \"column\": \"LB\",\n      \"properties\": {\n        \"dtype\": \"number\",\n        \"std\": 11.270154059450766,\n        \"min\": 51.84248683343552,\n        \"max\": 214.0,\n        \"num_unique_values\": 153,\n        \"samples\": [\n          146.50794322307013,\n          152.0,\n          121.91810433770668\n        ],\n        \"semantic_type\": \"\",\n        \"description\": \"\"\n      }\n    },\n    {\n      \"column\": \"AC\",\n      \"properties\": {\n        \"dtype\": \"number\",\n        \"std\": 0.004390772421026121,\n        \"min\": -0.019283747,\n        \"max\": 0.038567494,\n        \"num_unique_values\": 1067,\n        \"samples\": [\n          0.008637236,\n          0.005106383,\n          0.00120048\n        ],\n        \"semantic_type\": \"\",\n        \"description\": \"\"\n      }\n    },\n    {\n      \"column\": \"FM\",\n      \"properties\": {\n        \"dtype\": \"number\",\n        \"std\": 0.06753967969018713,\n        \"min\": -0.480633803,\n        \"max\": 0.961267606,\n        \"num_unique_values\": 776,\n        \"samples\": [\n          -0.001372087,\n          0.00084674,\n          0.000834725\n        ],\n        \"semantic_type\": \"\",\n        \"description\": \"\"\n      }\n    },\n    {\n      \"column\": \"UC\",\n      \"properties\": {\n        \"dtype\": \"number\",\n        \"std\": 0.0033404622309868236,\n        \"min\": -0.014925373,\n        \"max\": 0.0300018264803428,\n        \"num_unique_values\": 1364,\n        \"samples\": [\n          0.004273504,\n          0.006071119,\n          0.003872217\n        ],\n        \"semantic_type\": \"\",\n        \"description\": \"\"\n      }\n    },\n    {\n      \"column\": \"DL\",\n      \"properties\": {\n        \"dtype\": \"number\",\n        \"std\": 0.003342682284130469,\n        \"min\": -0.015393469,\n        \"max\": 0.03076923,\n        \"num_unique_values\": 822,\n        \"samples\": [\n          0.005035971,\n          0.010628019,\n          0.005838198\n        ],\n        \"semantic_type\": \"\",\n        \"description\": \"\"\n      }\n    },\n    {\n      \"column\": \"DS\",\n      \"properties\": {\n        \"dtype\": \"number\",\n        \"std\": 0.00014153547187795593,\n        \"min\": -0.00135318,\n        \"max\": 0.00270636,\n        \"num_unique_values\": 114,\n        \"samples\": [\n          2.397299121323118e-06,\n          2.542969274806832e-06,\n          1.9496291617907063e-06\n        ],\n        \"semantic_type\": \"\",\n        \"description\": \"\"\n      }\n    },\n    {\n      \"column\": \"DP\",\n      \"properties\": {\n        \"dtype\": \"number\",\n        \"std\": 0.0008397713621559576,\n        \"min\": -0.005347594,\n        \"max\": 0.010695188,\n        \"num_unique_values\": 264,\n        \"samples\": [\n          7.775850633283119e-06,\n          0.001170275,\n          -4.03e-06\n        ],\n        \"semantic_type\": \"\",\n        \"description\": \"\"\n      }\n    },\n    {\n      \"column\": \"ASTV\",\n      \"properties\": {\n        \"dtype\": \"number\",\n        \"std\": 18.813972683314418,\n        \"min\": -63.0,\n        \"max\": 162.0,\n        \"num_unique_values\": 183,\n        \"samples\": [\n          26.487809451885557,\n          36.0,\n          47.51908979134646\n        ],\n        \"semantic_type\": \"\",\n        \"description\": \"\"\n      }\n    },\n    {\n      \"column\": \"MSTV\",\n      \"properties\": {\n        \"dtype\": \"number\",\n        \"std\": 1.1736321707514894,\n        \"min\": -6.6,\n        \"max\": 13.8,\n        \"num_unique_values\": 165,\n        \"samples\": [\n          4.008749059383254,\n          1.2287337895608368,\n          1.1848404108423356\n        ],\n        \"semantic_type\": \"\",\n        \"description\": \"\"\n      }\n    },\n    {\n      \"column\": \"ALTV\",\n      \"properties\": {\n        \"dtype\": \"number\",\n        \"std\": 21.20504133887537,\n        \"min\": -91.0,\n        \"max\": 182.0,\n        \"num_unique_values\": 195,\n        \"samples\": [\n          0.4411770852442044,\n          53.0,\n          0.341165901\n        ],\n        \"semantic_type\": \"\",\n        \"description\": \"\"\n      }\n    },\n    {\n      \"column\": \"MLTV\",\n      \"properties\": {\n        \"dtype\": \"number\",\n        \"std\": 7.7728579471039865,\n        \"min\": -50.7,\n        \"max\": 101.4,\n        \"num_unique_values\": 351,\n        \"samples\": [\n          19.7,\n          1.0291857688046322,\n          0.202007259\n        ],\n        \"semantic_type\": \"\",\n        \"description\": \"\"\n      }\n    },\n    {\n      \"column\": \"Width\",\n      \"properties\": {\n        \"dtype\": \"number\",\n        \"std\": 42.93182190339606,\n        \"min\": -174.0,\n        \"max\": 357.0,\n        \"num_unique_values\": 261,\n        \"samples\": [\n          120.0,\n          102.0,\n          101.0\n        ],\n        \"semantic_type\": \"\",\n        \"description\": \"\"\n      }\n    },\n    {\n      \"column\": \"Tendency\",\n      \"properties\": {\n        \"dtype\": \"number\",\n        \"std\": 0.645621850981845,\n        \"min\": -3.0,\n        \"max\": 3.0,\n        \"num_unique_values\": 111,\n        \"samples\": [\n          -0.012293818,\n          -0.005991072,\n          0.0110922945753652\n        ],\n        \"semantic_type\": \"\",\n        \"description\": \"\"\n      }\n    },\n    {\n      \"column\": \"NSP\",\n      \"properties\": {\n        \"dtype\": \"number\",\n        \"std\": 0.6446192190649244,\n        \"min\": -1.025988003,\n        \"max\": 5.0,\n        \"num_unique_values\": 111,\n        \"samples\": [\n          1.007153967573045,\n          0.9979205771192056,\n          1.0108488214986289\n        ],\n        \"semantic_type\": \"\",\n        \"description\": \"\"\n      }\n    }\n  ]\n}"
            }
          },
          "metadata": {},
          "execution_count": 12
        }
      ]
    },
    {
      "cell_type": "code",
      "source": [
        "data=data.drop_duplicates()"
      ],
      "metadata": {
        "id": "6ypBm1kYd7bZ"
      },
      "execution_count": 13,
      "outputs": []
    },
    {
      "cell_type": "code",
      "source": [
        "colours = ['pink', 'black']\n",
        "sns.heatmap(data.isnull(),cmap=colours)"
      ],
      "metadata": {
        "colab": {
          "base_uri": "https://localhost:8080/",
          "height": 506
        },
        "id": "Q3-UaZAXd_Oc",
        "outputId": "d3d2de67-5f4d-4008-f528-153c341d3b4f"
      },
      "execution_count": 14,
      "outputs": [
        {
          "output_type": "execute_result",
          "data": {
            "text/plain": [
              "<Axes: >"
            ]
          },
          "metadata": {},
          "execution_count": 14
        },
        {
          "output_type": "display_data",
          "data": {
            "text/plain": [
              "<Figure size 640x480 with 2 Axes>"
            ],
            "image/png": "[encoded data removed]"
          },
          "metadata": {}
        }
      ]
    },
    {
      "cell_type": "markdown",
      "source": [
        "## Data Visualization"
      ],
      "metadata": {
        "id": "pvRqcWW0eNBy"
      }
    },
    {
      "cell_type": "code",
      "source": [
        "box=plt.boxplot(data)"
      ],
      "metadata": {
        "colab": {
          "base_uri": "https://localhost:8080/",
          "height": 430
        },
        "id": "JAHpE2qE6XBh",
        "outputId": "b38b81c0-64bd-4922-dd3e-33f38bd1451e"
      },
      "execution_count": 15,
      "outputs": [
        {
          "output_type": "display_data",
          "data": {
            "text/plain": [
              "<Figure size 640x480 with 1 Axes>"
            ],
            "image/png": "[encoded data removed]"
          },
          "metadata": {}
        }
      ]
    },
    {
      "cell_type": "code",
      "source": [
        "for i,j in box.items():\n",
        "  print(i,j)"
      ],
      "metadata": {
        "colab": {
          "base_uri": "https://localhost:8080/"
        },
        "id": "Bybc2cr3xqgx",
        "outputId": "3591eb0a-546c-4e9f-9e3c-be5988230b1d"
      },
      "execution_count": 16,
      "outputs": [
        {
          "output_type": "stream",
          "name": "stdout",
          "text": [
            "whiskers [<matplotlib.lines.Line2D object at 0x7a5520401660>, <matplotlib.lines.Line2D object at 0x7a5520401150>, <matplotlib.lines.Line2D object at 0x7a5520403700>, <matplotlib.lines.Line2D object at 0x7a5520403460>, <matplotlib.lines.Line2D object at 0x7a5521552a10>, <matplotlib.lines.Line2D object at 0x7a5521551d80>, <matplotlib.lines.Line2D object at 0x7a55215509a0>, <matplotlib.lines.Line2D object at 0x7a5521550e80>, <matplotlib.lines.Line2D object at 0x7a55215522f0>, <matplotlib.lines.Line2D object at 0x7a55215527a0>, <matplotlib.lines.Line2D object at 0x7a5521ec82e0>, <matplotlib.lines.Line2D object at 0x7a5521ec8bb0>, <matplotlib.lines.Line2D object at 0x7a551dc41a20>, <matplotlib.lines.Line2D object at 0x7a551dc41cc0>, <matplotlib.lines.Line2D object at 0x7a551dc42cb0>, <matplotlib.lines.Line2D object at 0x7a551dc42f50>, <matplotlib.lines.Line2D object at 0x7a551dc43f10>, <matplotlib.lines.Line2D object at 0x7a551dc415a0>, <matplotlib.lines.Line2D object at 0x7a551dc405e0>, <matplotlib.lines.Line2D object at 0x7a551dc40340>, <matplotlib.lines.Line2D object at 0x7a551dc3f010>, <matplotlib.lines.Line2D object at 0x7a551dc3ed70>, <matplotlib.lines.Line2D object at 0x7a551dc3ddb0>, <matplotlib.lines.Line2D object at 0x7a551dc3db10>, <matplotlib.lines.Line2D object at 0x7a551dc3cb50>, <matplotlib.lines.Line2D object at 0x7a551dc3c8b0>, <matplotlib.lines.Line2D object at 0x7a5521054430>, <matplotlib.lines.Line2D object at 0x7a55210554e0>]\n",
            "caps [<matplotlib.lines.Line2D object at 0x7a5520403790>, <matplotlib.lines.Line2D object at 0x7a55204010f0>, <matplotlib.lines.Line2D object at 0x7a55204000d0>, <matplotlib.lines.Line2D object at 0x7a5520401ba0>, <matplotlib.lines.Line2D object at 0x7a55215504c0>, <matplotlib.lines.Line2D object at 0x7a5521553d60>, <matplotlib.lines.Line2D object at 0x7a5521550ac0>, <matplotlib.lines.Line2D object at 0x7a55215528f0>, <matplotlib.lines.Line2D object at 0x7a5521eca290>, <matplotlib.lines.Line2D object at 0x7a5521ecb820>, <matplotlib.lines.Line2D object at 0x7a5521ec97e0>, <matplotlib.lines.Line2D object at 0x7a5521ec9600>, <matplotlib.lines.Line2D object at 0x7a551dc41f60>, <matplotlib.lines.Line2D object at 0x7a551dc42200>, <matplotlib.lines.Line2D object at 0x7a551dc431f0>, <matplotlib.lines.Line2D object at 0x7a551dc43490>, <matplotlib.lines.Line2D object at 0x7a551dc41300>, <matplotlib.lines.Line2D object at 0x7a551dc41060>, <matplotlib.lines.Line2D object at 0x7a551dc400a0>, <matplotlib.lines.Line2D object at 0x7a551dc3f6a0>, <matplotlib.lines.Line2D object at 0x7a551dc3ead0>, <matplotlib.lines.Line2D object at 0x7a551dc3e830>, <matplotlib.lines.Line2D object at 0x7a551dc3d870>, <matplotlib.lines.Line2D object at 0x7a551dc3d5d0>, <matplotlib.lines.Line2D object at 0x7a551dc3c610>, <matplotlib.lines.Line2D object at 0x7a551dc3c1f0>, <matplotlib.lines.Line2D object at 0x7a5521055930>, <matplotlib.lines.Line2D object at 0x7a5521055210>]\n",
            "boxes [<matplotlib.lines.Line2D object at 0x7a5520401e10>, <matplotlib.lines.Line2D object at 0x7a55204000a0>, <matplotlib.lines.Line2D object at 0x7a5520400c10>, <matplotlib.lines.Line2D object at 0x7a5521551f30>, <matplotlib.lines.Line2D object at 0x7a5521552620>, <matplotlib.lines.Line2D object at 0x7a5521ecb880>, <matplotlib.lines.Line2D object at 0x7a551dc40070>, <matplotlib.lines.Line2D object at 0x7a551dc42a10>, <matplotlib.lines.Line2D object at 0x7a551dc43c70>, <matplotlib.lines.Line2D object at 0x7a551dc40880>, <matplotlib.lines.Line2D object at 0x7a551dc3fe80>, <matplotlib.lines.Line2D object at 0x7a551dc3e050>, <matplotlib.lines.Line2D object at 0x7a551dc3cdf0>, <matplotlib.lines.Line2D object at 0x7a5521055540>]\n",
            "medians [<matplotlib.lines.Line2D object at 0x7a5520402b90>, <matplotlib.lines.Line2D object at 0x7a55204023b0>, <matplotlib.lines.Line2D object at 0x7a5521550160>, <matplotlib.lines.Line2D object at 0x7a5521550670>, <matplotlib.lines.Line2D object at 0x7a5521ec92a0>, <matplotlib.lines.Line2D object at 0x7a5521ecaf80>, <matplotlib.lines.Line2D object at 0x7a551dc424a0>, <matplotlib.lines.Line2D object at 0x7a551dc43730>, <matplotlib.lines.Line2D object at 0x7a551dc40dc0>, <matplotlib.lines.Line2D object at 0x7a551dc3f940>, <matplotlib.lines.Line2D object at 0x7a551dc3e590>, <matplotlib.lines.Line2D object at 0x7a551dc3d330>, <matplotlib.lines.Line2D object at 0x7a551dc3c490>, <matplotlib.lines.Line2D object at 0x7a5521056ec0>]\n",
            "fliers [<matplotlib.lines.Line2D object at 0x7a5520403ac0>, <matplotlib.lines.Line2D object at 0x7a5520401ff0>, <matplotlib.lines.Line2D object at 0x7a55215521d0>, <matplotlib.lines.Line2D object at 0x7a5521552c50>, <matplotlib.lines.Line2D object at 0x7a5521ecaad0>, <matplotlib.lines.Line2D object at 0x7a55203bba30>, <matplotlib.lines.Line2D object at 0x7a551dc42770>, <matplotlib.lines.Line2D object at 0x7a551dc439d0>, <matplotlib.lines.Line2D object at 0x7a551dc40b20>, <matplotlib.lines.Line2D object at 0x7a551dc3fbe0>, <matplotlib.lines.Line2D object at 0x7a551dc3e2f0>, <matplotlib.lines.Line2D object at 0x7a551dc3d090>, <matplotlib.lines.Line2D object at 0x7a5521056590>, <matplotlib.lines.Line2D object at 0x7a5521054940>]\n",
            "means []\n"
          ]
        }
      ]
    },
    {
      "cell_type": "code",
      "source": [
        "out=[]\n",
        "for item in box[\"fliers\"]:\n",
        "    out.append(item.get_ydata())\n",
        "else:\n",
        "    print(\"Warning: 'fliers' key not found in box dictionary.\")\n",
        "\n",
        "out\n"
      ],
      "metadata": {
        "colab": {
          "base_uri": "https://localhost:8080/"
        },
        "id": "Ka4kZZSqx4zx",
        "outputId": "ce751be2-a40b-4a5a-cceb-c7b0c15fc8b3"
      },
      "execution_count": 17,
      "outputs": [
        {
          "output_type": "stream",
          "name": "stdout",
          "text": [
            "Warning: 'fliers' key not found in box dictionary.\n"
          ]
        },
        {
          "output_type": "execute_result",
          "data": {
            "text/plain": [
              "[array([], dtype=float64),\n",
              " array([], dtype=float64),\n",
              " array([-0.4806338 , -0.4806338 , -0.4806338 , -0.4806338 , -0.4806338 ,\n",
              "        -0.4806338 , -0.00510554,  0.07233502,  0.22239032,  0.40783987,\n",
              "         0.38022284,  0.4414003 ,  0.38262195,  0.45092461,  0.46925021,\n",
              "         0.34004474,  0.425     ,  0.33512066,  0.13511259,  0.0987842 ,\n",
              "         0.10758966,  0.11189802,  0.08864266,  0.10258549,  0.08497724,\n",
              "         0.10909091,  0.07923269,  0.06491885,  0.05465587,  0.05754796,\n",
              "         0.04704097,  0.03793627,  0.01158301,  0.01799486,  0.02014389,\n",
              "         0.00891266,  0.00977199,  0.00766871,  0.00721154,  0.00840336,\n",
              "         0.02991692,  0.02587322,  0.1070615 ,  0.00911162,  0.00653595,\n",
              "         0.00834028,  0.01251956,  0.01582278,  0.02919099,  0.04979253,\n",
              "         0.0531401 ,  0.05752961,  0.00865801,  0.01098901,  0.00750625,\n",
              "         0.00703235,  0.00724638,  0.01334445,  0.01270417,  0.01639344,\n",
              "         0.00770713,  0.01481482,  0.00755667,  0.01026694,  0.02228412,\n",
              "         0.02631579,  0.01515152,  0.00696864,  0.01501251,  0.00958466,\n",
              "         0.00990099,  0.02105263,  0.00750625,  0.01584654,  0.01771653,\n",
              "         0.01279318,  0.01675978,  0.015625  ,  0.01890756,  0.008     ,\n",
              "         0.00890869,  0.00667223,  0.00867052,  0.00997538,  0.0091638 ,\n",
              "         0.00834028,  0.00856164,  0.01013513,  0.00652528,  0.0090703 ,\n",
              "         0.0125523 ,  0.01334445,  0.01825558,  0.01501251,  0.0120919 ,\n",
              "         0.01911765,  0.0251046 ,  0.0116764 ,  0.00649351,  0.02040816,\n",
              "         0.01834862,  0.02024922,  0.02061856,  0.02024922,  0.00697211,\n",
              "         0.00672646,  0.01417848,  0.020558  ,  0.02168474,  0.0245098 ,\n",
              "         0.02168474,  0.02409639,  0.02830189,  0.015625  ,  0.01501251,\n",
              "         0.01854141,  0.02421308,  0.00903615,  0.01854141,  0.01061947,\n",
              "         0.01584654,  0.01915709,  0.0212766 ,  0.00659341,  0.00721154,\n",
              "         0.01000834,  0.01882845,  0.00784314,  0.01944895,  0.02204409,\n",
              "         0.00702988,  0.00755763,  0.00852879,  0.00917431,  0.00890869,\n",
              "         0.00887574,  0.01142857,  0.01251043,  0.01330377,  0.01554404,\n",
              "         0.00643087,  0.01864802,  0.01260504,  0.00824176,  0.009585  ,\n",
              "         0.00932401,  0.01201201,  0.00931099,  0.0171875 ,  0.02335279,\n",
              "         0.02272727,  0.02010724,  0.01995012,  0.024     ,  0.03502919,\n",
              "         0.05420054,  0.02967359,  0.04807692,  0.08823529,  0.03021978,\n",
              "         0.05371901,  0.04255319,  0.96126761,  0.00877193,  0.00678733,\n",
              "         0.05380117,  0.00736648,  0.01125176,  0.05838198,  0.05243446,\n",
              "         0.08572743,  0.09104704,  0.02634593,  0.03312303,  0.09174312,\n",
              "         0.08398134,  0.11502347,  0.08417085,  0.01501251,  0.01740294,\n",
              "         0.01334445,  0.01381215,  0.01375516,  0.01610423,  0.03502919,\n",
              "         0.03299857,  0.02946274,  0.04052288,  0.02418682,  0.03975535,\n",
              "         0.02668891,  0.02900553,  0.03064516,  0.02564103,  0.06255213,\n",
              "         0.0604782 ,  0.05042017,  0.08539945,  0.07126949,  0.06021898,\n",
              "         0.02870813,  0.00741347,  0.00791296,  0.00750625,  0.01959114,\n",
              "         0.0101626 ,  0.02694611,  0.01729107,  0.01846966,  0.01004304,\n",
              "         0.00834028,  0.01011804,  0.00744048,  0.00651891,  0.00917431,\n",
              "         0.01369863,  0.00974659,  0.01295337,  0.02505695,  0.00917431,\n",
              "         0.01342282,  0.01668057,  0.01692708,  0.02085071,  0.02453988,\n",
              "         0.00667223,  0.01762115,  0.01251043,  0.01666667,  0.00986842,\n",
              "         0.00667223,  0.00766871,  0.3057554 ,  0.29945571,  0.13928274,\n",
              "         0.18932039,  0.0136612 ,  0.15686274,  0.23548922,  0.40783987,\n",
              "         0.36041667,  0.45532646,  0.44272446,  0.47039199,  0.47720365,\n",
              "         0.44566712,  0.4806338 ,  0.36947456,  0.33489828,  0.42989418,\n",
              "         0.34611289,  0.32274247,  0.3754386 ,  0.34591195,  0.35294118,\n",
              "         0.00722892,  0.00955794,  0.00749064,  0.02111111,  0.01669244,\n",
              "         0.96126761,  0.01584654,  0.01092896,  0.00798403,  0.01727862,\n",
              "         0.01662971,  0.02006173,  0.03005465,  0.0121396 ,  0.04251701,\n",
              "         0.03481013,  0.03969129,  0.0484521 ,  0.0116764 ,  0.01388889,\n",
              "         0.01334445,  0.0109375 ,  0.00665188,  0.96126761,  0.00764007,\n",
              "         0.00954654,  0.01007557,  0.00704846,  0.00669344,  0.01183432,\n",
              "         0.01174743,  0.01153213,  0.01443299,  0.00736842,  0.00782269,\n",
              "         0.01038961,  0.01206897,  0.00933707,  0.01084011,  0.00964067,\n",
              "         0.01361868,  0.01053556,  0.00968054,  0.00967352,  0.00972447,\n",
              "         0.01020408,  0.00675105,  0.0100365 ,  0.01145038,  0.00990991,\n",
              "         0.01553398,  0.00970018,  0.00791557,  0.00851789,  0.00827423,\n",
              "         0.01056338,  0.01078167,  0.01686341,  0.01928934,  0.01851852,\n",
              "         0.02484472,  0.02793296,  0.04813478,  0.04305284,  0.03158934,\n",
              "         0.04      ,  0.05090862,  0.03629537,  0.03703704,  0.04994451,\n",
              "         0.03488372,  0.0486565 ,  0.04912837,  0.04071247,  0.05      ,\n",
              "         0.04808362,  0.05432099,  0.05168776,  0.00766871,  0.00711744,\n",
              "         0.00656455,  0.00660377,  0.00767544,  0.01549464,  0.01681759,\n",
              "         0.00819672,  0.00943396,  0.00886076,  0.00865266,  0.0098401 ,\n",
              "         0.00935672,  0.96126761]),\n",
              " array([-0.01492537, -0.01492537, -0.01492537, -0.01492537,  0.02985075,\n",
              "         0.02985075,  0.02985075,  0.01492537,  0.02993591,  0.02985075,\n",
              "         0.03000183,  0.01386139,  0.01437372]),\n",
              " array([-0.01538462, -0.01538462, -0.01538462, -0.01539347, -0.01538462,\n",
              "        -0.01538462,  0.00944386,  0.00841515,  0.00834028,  0.01215805,\n",
              "         0.01000834,  0.01416431,  0.00963698,  0.00849858,  0.00829875,\n",
              "         0.01154401,  0.01538462,  0.03076923,  0.03062062,  0.03076923,\n",
              "         0.01385042,  0.01062802,  0.01362398,  0.01165803,  0.00933489,\n",
              "         0.01076716,  0.03076923,  0.01      ,  0.00920245,  0.00887574,\n",
              "         0.00876095,  0.00831601,  0.01089325,  0.01231527,  0.01144165,\n",
              "         0.00847458,  0.00921659,  0.0106383 ,  0.00824176,  0.00877193,\n",
              "         0.00944206,  0.01144984,  0.01415094,  0.01474202,  0.00824742,\n",
              "         0.0105042 ,  0.01259446,  0.0089251 ,  0.00862952,  0.00917431,\n",
              "         0.00896861,  0.00847458,  0.0087146 ,  0.00843882,  0.01224847,\n",
              "         0.01237345,  0.01263158,  0.01119403,  0.01352657,  0.00853242,\n",
              "         0.00829016,  0.00926843,  0.01034929,  0.00935829,  0.01227679,\n",
              "         0.01306413,  0.01179941,  0.01057579,  0.00865385,  0.0096238 ,\n",
              "         0.00834202,  0.01016636,  0.00890869,  0.00940681,  0.0094697 ,\n",
              "         0.00871249,  0.01468189,  0.01042654,  0.01131687,  0.01177856,\n",
              "         0.01029748,  0.00944384,  0.00825472,  0.00845411,  0.00915565,\n",
              "         0.00846433,  0.00880503,  0.01046338,  0.01360544,  0.0106383 ,\n",
              "         0.01303538,  0.01181102,  0.01183682,  0.01437372,  0.01340033,\n",
              "         0.01313869,  0.01045752,  0.00928793,  0.00847458,  0.00870827,\n",
              "         0.00840336,  0.00894877,  0.00870511,  0.00928793,  0.00904393,\n",
              "         0.00943396,  0.00956938,  0.01129235,  0.00892857,  0.00838323,\n",
              "         0.01089588,  0.01091703,  0.01268116,  0.01345362,  0.01008827,\n",
              "         0.00909091,  0.00829493,  0.00826446,  0.00916031,  0.00883392,\n",
              "         0.00977778,  0.00943396,  0.00986842,  0.01004016,  0.00869565]),\n",
              " array([], dtype=float64),\n",
              " array([], dtype=float64),\n",
              " array([-63., -63., -63., -63., -63., 162., 162., 162., 162., 162.]),\n",
              " array([-6.6       , -6.6       , -6.6       ,  5.9       ,  6.3       ,\n",
              "         4.4       ,  6.        ,  4.5       ,  6.9       ,  3.4       ,\n",
              "         3.7       ,  3.4       ,  3.6       ,  4.4       ,  4.7       ,\n",
              "         4.9       ,  5.        ,  7.        ,  4.1       ,  5.4       ,\n",
              "         3.9       ,  5.2       ,  4.8       ,  4.3       ,  3.7       ,\n",
              "         5.3       ,  4.8       ,  3.4       ,  3.3       ,  3.4       ,\n",
              "         3.4       ,  3.8       , 13.8       ,  3.7       , 13.8       ,\n",
              "         5.7       ,  4.9       ,  5.        ,  4.        ,  5.4       ,\n",
              "         3.5       ,  3.4       ,  3.4       ,  3.8       ,  3.78426342,\n",
              "         4.1       ,  4.9       ,  6.3       ,  4.5       ,  3.6       ,\n",
              "         3.3       ,  3.4       , 13.8       ,  3.6       , 13.8       ,\n",
              "         3.5       ,  3.8       ,  3.4       ,  3.4       , 13.8       ,\n",
              "         3.8       ,  4.2       ,  3.3       ,  3.6       ,  3.40163125,\n",
              "         3.3       ,  3.5       ,  4.00874906,  3.8       ,  3.4       ,\n",
              "         3.3001459 , 13.8       , 13.8       ,  3.3       ,  4.3       ,\n",
              "         3.9       ,  3.3       ,  4.2       ,  4.1       ,  4.2       ]),\n",
              " array([-91.        , -91.        , -91.        ,  43.        ,\n",
              "         79.        ,  72.        ,  71.        ,  40.        ,\n",
              "         69.        ,  54.        ,  53.        ,  38.        ,\n",
              "         29.        ,  36.64007017,  29.        ,  67.        ,\n",
              "         68.        ,  75.        ,  74.        ,  30.        ,\n",
              "         49.        ,  39.        ,  30.19893853,  32.        ,\n",
              "        182.        ,  34.        ,  38.        ,  31.        ,\n",
              "         58.        ,  39.        ,  46.        ,  57.        ,\n",
              "         75.        ,  28.85072021,  33.        ,  40.        ,\n",
              "         51.        ,  37.        , 182.        ,  34.40761222,\n",
              "         34.        ,  54.        ,  58.        ,  52.        ,\n",
              "         32.        ,  38.        ,  59.        ,  78.        ,\n",
              "         84.        ,  71.        ,  59.        ,  52.        ,\n",
              "         62.        ,  39.        ,  45.        ,  30.        ,\n",
              "         45.        ,  35.        ,  67.        ,  71.54948564,\n",
              "         45.        ,  58.        ,  32.        ,  41.        ,\n",
              "         61.        ,  56.        ,  84.        ,  56.        ,\n",
              "         84.        ,  44.        ,  39.        ,  71.        ,\n",
              "         71.        ,  61.        ,  67.        ,  81.        ,\n",
              "         42.        ,  57.        ,  56.        ,  61.        ,\n",
              "         77.        ,  67.        ,  88.        ,  91.        ,\n",
              "         78.        ,  84.        ,  47.32227685,  41.        ,\n",
              "         59.        ,  55.        ,  61.        ,  49.        ,\n",
              "         49.11053429,  82.        ,  86.        ,  29.        ,\n",
              "         67.        ,  78.        ,  84.        ,  60.        ,\n",
              "         68.        ,  30.        ,  32.        ,  41.        ,\n",
              "         28.        ,  38.        ,  29.        ,  49.        ,\n",
              "         35.        ,  62.        ,  68.        ,  70.        ,\n",
              "         47.        ,  48.        ,  51.        ,  31.        ,\n",
              "         43.        ,  50.        ,  47.        ,  71.        ,\n",
              "         48.        ,  39.        ,  39.        ,  37.3412646 ,\n",
              "         31.        ,  31.        ,  34.        ,  28.        ,\n",
              "         29.        ,  38.        ,  32.        ,  37.        ,\n",
              "         32.        ,  37.        ,  36.        ,  28.        ,\n",
              "         28.        ,  31.        ,  40.        ,  72.        ,\n",
              "         85.        ,  64.        ,  58.        ,  66.        ,\n",
              "         91.        ,  90.        ,  54.        ,  70.        ,\n",
              "         77.        ,  58.        ,  81.        ,  29.        ,\n",
              "         40.        ,  38.        ,  54.        ,  73.        ,\n",
              "         43.        ,  50.        ,  42.        ,  53.        ,\n",
              "         64.        ,  41.        ,  34.        ,  33.        ,\n",
              "         34.        ,  37.        ,  44.        ,  62.        ,\n",
              "         29.        ,  69.        ,  72.        ,  91.        ,\n",
              "         90.        ,  84.        ,  42.        ,  91.        ,\n",
              "         66.        ,  40.        ,  34.        ,  32.        ,\n",
              "         30.        ,  32.        ,  38.        ,  32.        ,\n",
              "         45.        ,  32.        ,  32.        ,  32.        ,\n",
              "         31.        ,  33.        ,  39.        ,  39.        ,\n",
              "         44.        ,  55.        ,  41.        ,  31.        ,\n",
              "         32.        ,  32.        ,  35.        ,  53.5022591 ,\n",
              "         44.        ,  31.        ,  33.        ,  57.        ,\n",
              "         50.        ,  64.        ,  59.        ,  67.        ,\n",
              "         62.        ,  71.        ,  74.        ,  59.        ,\n",
              "         48.        ,  45.        ,  62.        ,  59.        ,\n",
              "         50.        ,  61.        ,  39.        ,  43.38982541,\n",
              "         56.        ,  62.        ,  53.        ,  44.        ,\n",
              "         48.        ,  61.        ,  54.        ,  37.        ,\n",
              "         58.        ,  40.        ,  30.        ,  37.        ,\n",
              "         42.        ,  28.        ,  47.        ,  48.        ,\n",
              "         28.        ,  43.26308264,  38.        ,  28.        ,\n",
              "         39.        , 182.        ,  32.51268535,  61.        ,\n",
              "         48.        ,  35.        ,  33.5293818 ,  45.        ,\n",
              "         49.        ,  42.        ,  33.        ,  32.        ,\n",
              "         30.37093001,  31.        ,  33.        ,  35.        ,\n",
              "        182.        ,  32.        ,  31.        ,  28.        ,\n",
              "         33.        ,  36.        ,  49.        ,  52.        ,\n",
              "         46.        ,  41.        ,  37.        ,  54.        ,\n",
              "         60.        ,  62.        ,  59.        ,  62.        ,\n",
              "         56.        ,  49.        , 181.60503216,  38.        ,\n",
              "         32.        ,  45.        ,  30.        ,  44.        ,\n",
              "         30.        ,  46.        ,  37.        ,  40.        ,\n",
              "         54.        ,  65.        ,  46.        ,  34.        ,\n",
              "        182.        , 182.        ,  44.        ,  46.        ,\n",
              "         55.        ,  58.        ,  59.        ,  64.        ,\n",
              "         60.        ,  61.        ,  73.        ,  71.        ,\n",
              "         67.        ,  63.        ,  52.        ,  58.        ,\n",
              "         35.        ,  28.        ,  73.        ,  70.        ,\n",
              "         59.        ,  44.        ,  34.        ,  29.        ,\n",
              "         40.        ,  36.        ,  33.        ,  48.        ,\n",
              "         36.        ,  35.85718328]),\n",
              " array([], dtype=float64),\n",
              " array([], dtype=float64),\n",
              " array([], dtype=float64),\n",
              " array([], dtype=float64)]"
            ]
          },
          "metadata": {},
          "execution_count": 17
        }
      ]
    },
    {
      "cell_type": "code",
      "source": [
        "data.hist()"
      ],
      "metadata": {
        "id": "Vo0NPKeqyO1V",
        "colab": {
          "base_uri": "https://localhost:8080/",
          "height": 655
        },
        "outputId": "309864b6-c7fd-44d9-c5ce-8505edfd3aa4"
      },
      "execution_count": 18,
      "outputs": [
        {
          "output_type": "execute_result",
          "data": {
            "text/plain": [
              "array([[<Axes: title={'center': 'LB'}>, <Axes: title={'center': 'AC'}>,\n",
              "        <Axes: title={'center': 'FM'}>, <Axes: title={'center': 'UC'}>],\n",
              "       [<Axes: title={'center': 'DL'}>, <Axes: title={'center': 'DS'}>,\n",
              "        <Axes: title={'center': 'DP'}>, <Axes: title={'center': 'ASTV'}>],\n",
              "       [<Axes: title={'center': 'MSTV'}>,\n",
              "        <Axes: title={'center': 'ALTV'}>,\n",
              "        <Axes: title={'center': 'MLTV'}>,\n",
              "        <Axes: title={'center': 'Width'}>],\n",
              "       [<Axes: title={'center': 'Tendency'}>,\n",
              "        <Axes: title={'center': 'NSP'}>, <Axes: >, <Axes: >]],\n",
              "      dtype=object)"
            ]
          },
          "metadata": {},
          "execution_count": 18
        },
        {
          "output_type": "display_data",
          "data": {
            "text/plain": [
              "<Figure size 640x480 with 16 Axes>"
            ],
            "image/png": "[encoded data removed]"
          },
          "metadata": {}
        }
      ]
    },
    {
      "cell_type": "code",
      "source": [
        "sns.stripplot(y='Width',data=data,jitter=True)"
      ],
      "metadata": {
        "colab": {
          "base_uri": "https://localhost:8080/",
          "height": 432
        },
        "id": "Pe-MSe7t7HTU",
        "outputId": "f7becf1f-1846-4dea-a4aa-57f76533ad68"
      },
      "execution_count": 19,
      "outputs": [
        {
          "output_type": "execute_result",
          "data": {
            "text/plain": [
              "<Axes: ylabel='Width'>"
            ]
          },
          "metadata": {},
          "execution_count": 19
        },
        {
          "output_type": "display_data",
          "data": {
            "text/plain": [
              "<Figure size 640x480 with 1 Axes>"
            ],
            "image/png": "[encoded data removed]"
          },
          "metadata": {}
        }
      ]
    },
    {
      "cell_type": "code",
      "source": [
        "#box=data.DL.plot(kind='box')\n",
        "box=plt.boxplot(data['DL'])"
      ],
      "metadata": {
        "colab": {
          "base_uri": "https://localhost:8080/",
          "height": 430
        },
        "id": "xROJzK3f7Shv",
        "outputId": "e8d7e28f-394c-44c7-eb83-43ffd5966ff1"
      },
      "execution_count": 20,
      "outputs": [
        {
          "output_type": "display_data",
          "data": {
            "text/plain": [
              "<Figure size 640x480 with 1 Axes>"
            ],
            "image/png": "[encoded data removed]"
          },
          "metadata": {}
        }
      ]
    },
    {
      "cell_type": "code",
      "source": [
        "plt.violinplot(data['MSTV'])"
      ],
      "metadata": {
        "colab": {
          "base_uri": "https://localhost:8080/",
          "height": 504
        },
        "id": "RkaZpBuo7UAK",
        "outputId": "28b3fc82-12c2-4714-ec36-e0a95cdb6ae0"
      },
      "execution_count": 21,
      "outputs": [
        {
          "output_type": "execute_result",
          "data": {
            "text/plain": [
              "{'bodies': [<matplotlib.collections.PolyCollection at 0x7a551d1677f0>],\n",
              " 'cmaxes': <matplotlib.collections.LineCollection at 0x7a551d1677c0>,\n",
              " 'cmins': <matplotlib.collections.LineCollection at 0x7a551d167cd0>,\n",
              " 'cbars': <matplotlib.collections.LineCollection at 0x7a551d1a4040>}"
            ]
          },
          "metadata": {},
          "execution_count": 21
        },
        {
          "output_type": "display_data",
          "data": {
            "text/plain": [
              "<Figure size 640x480 with 1 Axes>"
            ],
            "image/png": "[encoded data removed]"
          },
          "metadata": {}
        }
      ]
    },
    {
      "cell_type": "markdown",
      "source": [
        "## correlation between the **variables**"
      ],
      "metadata": {
        "id": "z0nxKVLf7lpI"
      }
    },
    {
      "cell_type": "code",
      "source": [
        "sns.heatmap(data.corr(),annot=True)"
      ],
      "metadata": {
        "colab": {
          "base_uri": "https://localhost:8080/",
          "height": 505
        },
        "id": "nNqa2dap7hYs",
        "outputId": "10f274b0-5369-45eb-e730-327f8eea6800"
      },
      "execution_count": 22,
      "outputs": [
        {
          "output_type": "execute_result",
          "data": {
            "text/plain": [
              "<Axes: >"
            ]
          },
          "metadata": {},
          "execution_count": 22
        },
        {
          "output_type": "display_data",
          "data": {
            "text/plain": [
              "<Figure size 640x480 with 2 Axes>"
            ],
            "image/png": "[encoded data removed]"
          },
          "metadata": {}
        }
      ]
    },
    {
      "cell_type": "code",
      "source": [
        "data.corr()"
      ],
      "metadata": {
        "colab": {
          "base_uri": "https://localhost:8080/",
          "height": 488
        },
        "id": "fqqH_jJa75V9",
        "outputId": "3a3fe2a9-6eed-418f-b5f1-1619d8dc9a16"
      },
      "execution_count": 23,
      "outputs": [
        {
          "output_type": "execute_result",
          "data": {
            "text/plain": [
              "                LB        AC        FM        UC        DL        DS  \\\n",
              "LB        1.000000 -0.064452  0.018810 -0.167012 -0.126981 -0.005439   \n",
              "AC       -0.064452  1.000000  0.009407  0.071700 -0.093641 -0.033632   \n",
              "FM        0.018810  0.009407  1.000000 -0.053386  0.009641  0.029899   \n",
              "UC       -0.167012  0.071700 -0.053386  1.000000  0.189737 -0.006957   \n",
              "DL       -0.126981 -0.093641  0.009641  0.189737  1.000000  0.058625   \n",
              "DS       -0.005439 -0.033632  0.029899 -0.006957  0.058625  1.000000   \n",
              "DP       -0.047726 -0.084644  0.121259  0.070504  0.145338  0.004282   \n",
              "ASTV      0.242435 -0.231725 -0.032838 -0.182379 -0.069907  0.008441   \n",
              "MSTV     -0.170134  0.134423  0.017061  0.189685  0.410216  0.016165   \n",
              "ALTV      0.210955 -0.271554 -0.012005 -0.227881 -0.187275 -0.004406   \n",
              "MLTV     -0.003225 -0.106308 -0.006157 -0.048862 -0.165494  0.034366   \n",
              "Width    -0.118375  0.238422  0.097133  0.106787  0.409793  0.040831   \n",
              "Tendency  0.237112  0.032399 -0.018410 -0.067098 -0.023838 -0.015408   \n",
              "NSP       0.132008 -0.317113  0.073997 -0.185953  0.025179  0.065399   \n",
              "\n",
              "                DP      ASTV      MSTV      ALTV      MLTV     Width  \\\n",
              "LB       -0.047726  0.242435 -0.170134  0.210955 -0.003225 -0.118375   \n",
              "AC       -0.084644 -0.231725  0.134423 -0.271554 -0.106308  0.238422   \n",
              "FM        0.121259 -0.032838  0.017061 -0.012005 -0.006157  0.097133   \n",
              "UC        0.070504 -0.182379  0.189685 -0.227881 -0.048862  0.106787   \n",
              "DL        0.145338 -0.069907  0.410216 -0.187275 -0.165494  0.409793   \n",
              "DS        0.004282  0.008441  0.016165 -0.004406  0.034366  0.040831   \n",
              "DP        1.000000  0.038076  0.119911 -0.077865 -0.113993  0.175240   \n",
              "ASTV      0.038076  1.000000 -0.293820  0.357310 -0.219922 -0.208439   \n",
              "MSTV      0.119911 -0.293820  1.000000 -0.291979  0.028807  0.435563   \n",
              "ALTV     -0.077865  0.357310 -0.291979  1.000000 -0.107475 -0.346960   \n",
              "MLTV     -0.113993 -0.219922  0.028807 -0.107475  1.000000  0.059031   \n",
              "Width     0.175240 -0.208439  0.435563 -0.346960  0.059031  1.000000   \n",
              "Tendency -0.130510 -0.011367 -0.036849  0.036552  0.116672  0.081025   \n",
              "NSP       0.294416  0.422515 -0.095143  0.365708 -0.113445 -0.067799   \n",
              "\n",
              "          Tendency       NSP  \n",
              "LB        0.237112  0.132008  \n",
              "AC        0.032399 -0.317113  \n",
              "FM       -0.018410  0.073997  \n",
              "UC       -0.067098 -0.185953  \n",
              "DL       -0.023838  0.025179  \n",
              "DS       -0.015408  0.065399  \n",
              "DP       -0.130510  0.294416  \n",
              "ASTV     -0.011367  0.422515  \n",
              "MSTV     -0.036849 -0.095143  \n",
              "ALTV      0.036552  0.365708  \n",
              "MLTV      0.116672 -0.113445  \n",
              "Width     0.081025 -0.067799  \n",
              "Tendency  1.000000 -0.106481  \n",
              "NSP      -0.106481  1.000000  "
            ],
            "text/html": [
              "\n",
              "  <div id=\"df-c84efa45-ea54-41c8-9d96-0d7589648f82\" class=\"colab-df-container\">\n",
              "    <div>\n",
              "<style scoped>\n",
              "    .dataframe tbody tr th:only-of-type {\n",
              "        vertical-align: middle;\n",
              "    }\n",
              "\n",
              "    .dataframe tbody tr th {\n",
              "        vertical-align: top;\n",
              "    }\n",
              "\n",
              "    .dataframe thead th {\n",
              "        text-align: right;\n",
              "    }\n",
              "</style>\n",
              "<table border=\"1\" class=\"dataframe\">\n",
              "  <thead>\n",
              "    <tr style=\"text-align: right;\">\n",
              "      <th></th>\n",
              "      <th>LB</th>\n",
              "      <th>AC</th>\n",
              "      <th>FM</th>\n",
              "      <th>UC</th>\n",
              "      <th>DL</th>\n",
              "      <th>DS</th>\n",
              "      <th>DP</th>\n",
              "      <th>ASTV</th>\n",
              "      <th>MSTV</th>\n",
              "      <th>ALTV</th>\n",
              "      <th>MLTV</th>\n",
              "      <th>Width</th>\n",
              "      <th>Tendency</th>\n",
              "      <th>NSP</th>\n",
              "    </tr>\n",
              "  </thead>\n",
              "  <tbody>\n",
              "    <tr>\n",
              "      <th>LB</th>\n",
              "      <td>1.000000</td>\n",
              "      <td>-0.064452</td>\n",
              "      <td>0.018810</td>\n",
              "      <td>-0.167012</td>\n",
              "      <td>-0.126981</td>\n",
              "      <td>-0.005439</td>\n",
              "      <td>-0.047726</td>\n",
              "      <td>0.242435</td>\n",
              "      <td>-0.170134</td>\n",
              "      <td>0.210955</td>\n",
              "      <td>-0.003225</td>\n",
              "      <td>-0.118375</td>\n",
              "      <td>0.237112</td>\n",
              "      <td>0.132008</td>\n",
              "    </tr>\n",
              "    <tr>\n",
              "      <th>AC</th>\n",
              "      <td>-0.064452</td>\n",
              "      <td>1.000000</td>\n",
              "      <td>0.009407</td>\n",
              "      <td>0.071700</td>\n",
              "      <td>-0.093641</td>\n",
              "      <td>-0.033632</td>\n",
              "      <td>-0.084644</td>\n",
              "      <td>-0.231725</td>\n",
              "      <td>0.134423</td>\n",
              "      <td>-0.271554</td>\n",
              "      <td>-0.106308</td>\n",
              "      <td>0.238422</td>\n",
              "      <td>0.032399</td>\n",
              "      <td>-0.317113</td>\n",
              "    </tr>\n",
              "    <tr>\n",
              "      <th>FM</th>\n",
              "      <td>0.018810</td>\n",
              "      <td>0.009407</td>\n",
              "      <td>1.000000</td>\n",
              "      <td>-0.053386</td>\n",
              "      <td>0.009641</td>\n",
              "      <td>0.029899</td>\n",
              "      <td>0.121259</td>\n",
              "      <td>-0.032838</td>\n",
              "      <td>0.017061</td>\n",
              "      <td>-0.012005</td>\n",
              "      <td>-0.006157</td>\n",
              "      <td>0.097133</td>\n",
              "      <td>-0.018410</td>\n",
              "      <td>0.073997</td>\n",
              "    </tr>\n",
              "    <tr>\n",
              "      <th>UC</th>\n",
              "      <td>-0.167012</td>\n",
              "      <td>0.071700</td>\n",
              "      <td>-0.053386</td>\n",
              "      <td>1.000000</td>\n",
              "      <td>0.189737</td>\n",
              "      <td>-0.006957</td>\n",
              "      <td>0.070504</td>\n",
              "      <td>-0.182379</td>\n",
              "      <td>0.189685</td>\n",
              "      <td>-0.227881</td>\n",
              "      <td>-0.048862</td>\n",
              "      <td>0.106787</td>\n",
              "      <td>-0.067098</td>\n",
              "      <td>-0.185953</td>\n",
              "    </tr>\n",
              "    <tr>\n",
              "      <th>DL</th>\n",
              "      <td>-0.126981</td>\n",
              "      <td>-0.093641</td>\n",
              "      <td>0.009641</td>\n",
              "      <td>0.189737</td>\n",
              "      <td>1.000000</td>\n",
              "      <td>0.058625</td>\n",
              "      <td>0.145338</td>\n",
              "      <td>-0.069907</td>\n",
              "      <td>0.410216</td>\n",
              "      <td>-0.187275</td>\n",
              "      <td>-0.165494</td>\n",
              "      <td>0.409793</td>\n",
              "      <td>-0.023838</td>\n",
              "      <td>0.025179</td>\n",
              "    </tr>\n",
              "    <tr>\n",
              "      <th>DS</th>\n",
              "      <td>-0.005439</td>\n",
              "      <td>-0.033632</td>\n",
              "      <td>0.029899</td>\n",
              "      <td>-0.006957</td>\n",
              "      <td>0.058625</td>\n",
              "      <td>1.000000</td>\n",
              "      <td>0.004282</td>\n",
              "      <td>0.008441</td>\n",
              "      <td>0.016165</td>\n",
              "      <td>-0.004406</td>\n",
              "      <td>0.034366</td>\n",
              "      <td>0.040831</td>\n",
              "      <td>-0.015408</td>\n",
              "      <td>0.065399</td>\n",
              "    </tr>\n",
              "    <tr>\n",
              "      <th>DP</th>\n",
              "      <td>-0.047726</td>\n",
              "      <td>-0.084644</td>\n",
              "      <td>0.121259</td>\n",
              "      <td>0.070504</td>\n",
              "      <td>0.145338</td>\n",
              "      <td>0.004282</td>\n",
              "      <td>1.000000</td>\n",
              "      <td>0.038076</td>\n",
              "      <td>0.119911</td>\n",
              "      <td>-0.077865</td>\n",
              "      <td>-0.113993</td>\n",
              "      <td>0.175240</td>\n",
              "      <td>-0.130510</td>\n",
              "      <td>0.294416</td>\n",
              "    </tr>\n",
              "    <tr>\n",
              "      <th>ASTV</th>\n",
              "      <td>0.242435</td>\n",
              "      <td>-0.231725</td>\n",
              "      <td>-0.032838</td>\n",
              "      <td>-0.182379</td>\n",
              "      <td>-0.069907</td>\n",
              "      <td>0.008441</td>\n",
              "      <td>0.038076</td>\n",
              "      <td>1.000000</td>\n",
              "      <td>-0.293820</td>\n",
              "      <td>0.357310</td>\n",
              "      <td>-0.219922</td>\n",
              "      <td>-0.208439</td>\n",
              "      <td>-0.011367</td>\n",
              "      <td>0.422515</td>\n",
              "    </tr>\n",
              "    <tr>\n",
              "      <th>MSTV</th>\n",
              "      <td>-0.170134</td>\n",
              "      <td>0.134423</td>\n",
              "      <td>0.017061</td>\n",
              "      <td>0.189685</td>\n",
              "      <td>0.410216</td>\n",
              "      <td>0.016165</td>\n",
              "      <td>0.119911</td>\n",
              "      <td>-0.293820</td>\n",
              "      <td>1.000000</td>\n",
              "      <td>-0.291979</td>\n",
              "      <td>0.028807</td>\n",
              "      <td>0.435563</td>\n",
              "      <td>-0.036849</td>\n",
              "      <td>-0.095143</td>\n",
              "    </tr>\n",
              "    <tr>\n",
              "      <th>ALTV</th>\n",
              "      <td>0.210955</td>\n",
              "      <td>-0.271554</td>\n",
              "      <td>-0.012005</td>\n",
              "      <td>-0.227881</td>\n",
              "      <td>-0.187275</td>\n",
              "      <td>-0.004406</td>\n",
              "      <td>-0.077865</td>\n",
              "      <td>0.357310</td>\n",
              "      <td>-0.291979</td>\n",
              "      <td>1.000000</td>\n",
              "      <td>-0.107475</td>\n",
              "      <td>-0.346960</td>\n",
              "      <td>0.036552</td>\n",
              "      <td>0.365708</td>\n",
              "    </tr>\n",
              "    <tr>\n",
              "      <th>MLTV</th>\n",
              "      <td>-0.003225</td>\n",
              "      <td>-0.106308</td>\n",
              "      <td>-0.006157</td>\n",
              "      <td>-0.048862</td>\n",
              "      <td>-0.165494</td>\n",
              "      <td>0.034366</td>\n",
              "      <td>-0.113993</td>\n",
              "      <td>-0.219922</td>\n",
              "      <td>0.028807</td>\n",
              "      <td>-0.107475</td>\n",
              "      <td>1.000000</td>\n",
              "      <td>0.059031</td>\n",
              "      <td>0.116672</td>\n",
              "      <td>-0.113445</td>\n",
              "    </tr>\n",
              "    <tr>\n",
              "      <th>Width</th>\n",
              "      <td>-0.118375</td>\n",
              "      <td>0.238422</td>\n",
              "      <td>0.097133</td>\n",
              "      <td>0.106787</td>\n",
              "      <td>0.409793</td>\n",
              "      <td>0.040831</td>\n",
              "      <td>0.175240</td>\n",
              "      <td>-0.208439</td>\n",
              "      <td>0.435563</td>\n",
              "      <td>-0.346960</td>\n",
              "      <td>0.059031</td>\n",
              "      <td>1.000000</td>\n",
              "      <td>0.081025</td>\n",
              "      <td>-0.067799</td>\n",
              "    </tr>\n",
              "    <tr>\n",
              "      <th>Tendency</th>\n",
              "      <td>0.237112</td>\n",
              "      <td>0.032399</td>\n",
              "      <td>-0.018410</td>\n",
              "      <td>-0.067098</td>\n",
              "      <td>-0.023838</td>\n",
              "      <td>-0.015408</td>\n",
              "      <td>-0.130510</td>\n",
              "      <td>-0.011367</td>\n",
              "      <td>-0.036849</td>\n",
              "      <td>0.036552</td>\n",
              "      <td>0.116672</td>\n",
              "      <td>0.081025</td>\n",
              "      <td>1.000000</td>\n",
              "      <td>-0.106481</td>\n",
              "    </tr>\n",
              "    <tr>\n",
              "      <th>NSP</th>\n",
              "      <td>0.132008</td>\n",
              "      <td>-0.317113</td>\n",
              "      <td>0.073997</td>\n",
              "      <td>-0.185953</td>\n",
              "      <td>0.025179</td>\n",
              "      <td>0.065399</td>\n",
              "      <td>0.294416</td>\n",
              "      <td>0.422515</td>\n",
              "      <td>-0.095143</td>\n",
              "      <td>0.365708</td>\n",
              "      <td>-0.113445</td>\n",
              "      <td>-0.067799</td>\n",
              "      <td>-0.106481</td>\n",
              "      <td>1.000000</td>\n",
              "    </tr>\n",
              "  </tbody>\n",
              "</table>\n",
              "</div>\n",
              "    <div class=\"colab-df-buttons\">\n",
              "\n",
              "  <div class=\"colab-df-container\">\n",
              "    <button class=\"colab-df-convert\" onclick=\"convertToInteractive('df-c84efa45-ea54-41c8-9d96-0d7589648f82')\"\n",
              "            title=\"Convert this dataframe to an interactive table.\"\n",
              "            style=\"display:none;\">\n",
              "\n",
              "  <svg xmlns=\"http://www.w3.org/2000/svg\" height=\"24px\" viewBox=\"0 -960 960 960\">\n",
              "    <path d=\"M120-120v-720h720v720H120Zm60-500h600v-160H180v160Zm220 220h160v-160H400v160Zm0 220h160v-160H400v160ZM180-400h160v-160H180v160Zm440 0h160v-160H620v160ZM180-180h160v-160H180v160Zm440 0h160v-160H620v160Z\"/>\n",
              "  </svg>\n",
              "    </button>\n",
              "\n",
              "  <style>\n",
              "    .colab-df-container {\n",
              "      display:flex;\n",
              "      gap: 12px;\n",
              "    }\n",
              "\n",
              "    .colab-df-convert {\n",
              "      background-color: #E8F0FE;\n",
              "      border: none;\n",
              "      border-radius: 50%;\n",
              "      cursor: pointer;\n",
              "      display: none;\n",
              "      fill: #1967D2;\n",
              "      height: 32px;\n",
              "      padding: 0 0 0 0;\n",
              "      width: 32px;\n",
              "    }\n",
              "\n",
              "    .colab-df-convert:hover {\n",
              "      background-color: #E2EBFA;\n",
              "      box-shadow: 0px 1px 2px rgba(60, 64, 67, 0.3), 0px 1px 3px 1px rgba(60, 64, 67, 0.15);\n",
              "      fill: #174EA6;\n",
              "    }\n",
              "\n",
              "    .colab-df-buttons div {\n",
              "      margin-bottom: 4px;\n",
              "    }\n",
              "\n",
              "    [theme=dark] .colab-df-convert {\n",
              "      background-color: #3B4455;\n",
              "      fill: #D2E3FC;\n",
              "    }\n",
              "\n",
              "    [theme=dark] .colab-df-convert:hover {\n",
              "      background-color: #434B5C;\n",
              "      box-shadow: 0px 1px 3px 1px rgba(0, 0, 0, 0.15);\n",
              "      filter: drop-shadow(0px 1px 2px rgba(0, 0, 0, 0.3));\n",
              "      fill: #FFFFFF;\n",
              "    }\n",
              "  </style>\n",
              "\n",
              "    <script>\n",
              "      const buttonEl =\n",
              "        document.querySelector('#df-c84efa45-ea54-41c8-9d96-0d7589648f82 button.colab-df-convert');\n",
              "      buttonEl.style.display =\n",
              "        google.colab.kernel.accessAllowed ? 'block' : 'none';\n",
              "\n",
              "      async function convertToInteractive(key) {\n",
              "        const element = document.querySelector('#df-c84efa45-ea54-41c8-9d96-0d7589648f82');\n",
              "        const dataTable =\n",
              "          await google.colab.kernel.invokeFunction('convertToInteractive',\n",
              "                                                    [key], {});\n",
              "        if (!dataTable) return;\n",
              "\n",
              "        const docLinkHtml = 'Like what you see? Visit the ' +\n",
              "          '<a target=\"_blank\" href=https://colab.research.google.com/notebooks/data_table.ipynb>data table notebook</a>'\n",
              "          + ' to learn more about interactive tables.';\n",
              "        element.innerHTML = '';\n",
              "        dataTable['output_type'] = 'display_data';\n",
              "        await google.colab.output.renderOutput(dataTable, element);\n",
              "        const docLink = document.createElement('div');\n",
              "        docLink.innerHTML = docLinkHtml;\n",
              "        element.appendChild(docLink);\n",
              "      }\n",
              "    </script>\n",
              "  </div>\n",
              "\n",
              "\n",
              "<div id=\"df-29c5624b-ddf1-44de-a182-2010db5fc571\">\n",
              "  <button class=\"colab-df-quickchart\" onclick=\"quickchart('df-29c5624b-ddf1-44de-a182-2010db5fc571')\"\n",
              "            title=\"Suggest charts\"\n",
              "            style=\"display:none;\">\n",
              "\n",
              "<svg xmlns=\"http://www.w3.org/2000/svg\" height=\"24px\"viewBox=\"0 0 24 24\"\n",
              "     width=\"24px\">\n",
              "    <g>\n",
              "        <path d=\"M19 3H5c-1.1 0-2 .9-2 2v14c0 1.1.9 2 2 2h14c1.1 0 2-.9 2-2V5c0-1.1-.9-2-2-2zM9 17H7v-7h2v7zm4 0h-2V7h2v10zm4 0h-2v-4h2v4z\"/>\n",
              "    </g>\n",
              "</svg>\n",
              "  </button>\n",
              "\n",
              "<style>\n",
              "  .colab-df-quickchart {\n",
              "      --bg-color: #E8F0FE;\n",
              "      --fill-color: #1967D2;\n",
              "      --hover-bg-color: #E2EBFA;\n",
              "      --hover-fill-color: #174EA6;\n",
              "      --disabled-fill-color: #AAA;\n",
              "      --disabled-bg-color: #DDD;\n",
              "  }\n",
              "\n",
              "  [theme=dark] .colab-df-quickchart {\n",
              "      --bg-color: #3B4455;\n",
              "      --fill-color: #D2E3FC;\n",
              "      --hover-bg-color: #434B5C;\n",
              "      --hover-fill-color: #FFFFFF;\n",
              "      --disabled-bg-color: #3B4455;\n",
              "      --disabled-fill-color: #666;\n",
              "  }\n",
              "\n",
              "  .colab-df-quickchart {\n",
              "    background-color: var(--bg-color);\n",
              "    border: none;\n",
              "    border-radius: 50%;\n",
              "    cursor: pointer;\n",
              "    display: none;\n",
              "    fill: var(--fill-color);\n",
              "    height: 32px;\n",
              "    padding: 0;\n",
              "    width: 32px;\n",
              "  }\n",
              "\n",
              "  .colab-df-quickchart:hover {\n",
              "    background-color: var(--hover-bg-color);\n",
              "    box-shadow: 0 1px 2px rgba(60, 64, 67, 0.3), 0 1px 3px 1px rgba(60, 64, 67, 0.15);\n",
              "    fill: var(--button-hover-fill-color);\n",
              "  }\n",
              "\n",
              "  .colab-df-quickchart-complete:disabled,\n",
              "  .colab-df-quickchart-complete:disabled:hover {\n",
              "    background-color: var(--disabled-bg-color);\n",
              "    fill: var(--disabled-fill-color);\n",
              "    box-shadow: none;\n",
              "  }\n",
              "\n",
              "  .colab-df-spinner {\n",
              "    border: 2px solid var(--fill-color);\n",
              "    border-color: transparent;\n",
              "    border-bottom-color: var(--fill-color);\n",
              "    animation:\n",
              "      spin 1s steps(1) infinite;\n",
              "  }\n",
              "\n",
              "  @keyframes spin {\n",
              "    0% {\n",
              "      border-color: transparent;\n",
              "      border-bottom-color: var(--fill-color);\n",
              "      border-left-color: var(--fill-color);\n",
              "    }\n",
              "    20% {\n",
              "      border-color: transparent;\n",
              "      border-left-color: var(--fill-color);\n",
              "      border-top-color: var(--fill-color);\n",
              "    }\n",
              "    30% {\n",
              "      border-color: transparent;\n",
              "      border-left-color: var(--fill-color);\n",
              "      border-top-color: var(--fill-color);\n",
              "      border-right-color: var(--fill-color);\n",
              "    }\n",
              "    40% {\n",
              "      border-color: transparent;\n",
              "      border-right-color: var(--fill-color);\n",
              "      border-top-color: var(--fill-color);\n",
              "    }\n",
              "    60% {\n",
              "      border-color: transparent;\n",
              "      border-right-color: var(--fill-color);\n",
              "    }\n",
              "    80% {\n",
              "      border-color: transparent;\n",
              "      border-right-color: var(--fill-color);\n",
              "      border-bottom-color: var(--fill-color);\n",
              "    }\n",
              "    90% {\n",
              "      border-color: transparent;\n",
              "      border-bottom-color: var(--fill-color);\n",
              "    }\n",
              "  }\n",
              "</style>\n",
              "\n",
              "  <script>\n",
              "    async function quickchart(key) {\n",
              "      const quickchartButtonEl =\n",
              "        document.querySelector('#' + key + ' button');\n",
              "      quickchartButtonEl.disabled = true;  // To prevent multiple clicks.\n",
              "      quickchartButtonEl.classList.add('colab-df-spinner');\n",
              "      try {\n",
              "        const charts = await google.colab.kernel.invokeFunction(\n",
              "            'suggestCharts', [key], {});\n",
              "      } catch (error) {\n",
              "        console.error('Error during call to suggestCharts:', error);\n",
              "      }\n",
              "      quickchartButtonEl.classList.remove('colab-df-spinner');\n",
              "      quickchartButtonEl.classList.add('colab-df-quickchart-complete');\n",
              "    }\n",
              "    (() => {\n",
              "      let quickchartButtonEl =\n",
              "        document.querySelector('#df-29c5624b-ddf1-44de-a182-2010db5fc571 button');\n",
              "      quickchartButtonEl.style.display =\n",
              "        google.colab.kernel.accessAllowed ? 'block' : 'none';\n",
              "    })();\n",
              "  </script>\n",
              "</div>\n",
              "\n",
              "    </div>\n",
              "  </div>\n"
            ],
            "application/vnd.google.colaboratory.intrinsic+json": {
              "type": "dataframe",
              "summary": "{\n  \"name\": \"data\",\n  \"rows\": 14,\n  \"fields\": [\n    {\n      \"column\": \"LB\",\n      \"properties\": {\n        \"dtype\": \"number\",\n        \"std\": 0.30105288236929423,\n        \"min\": -0.1701343124564911,\n        \"max\": 1.0,\n        \"num_unique_values\": 14,\n        \"samples\": [\n          0.21095542771025952,\n          -0.11837525518601848,\n          1.0\n        ],\n        \"semantic_type\": \"\",\n        \"description\": \"\"\n      }\n    },\n    {\n      \"column\": \"AC\",\n      \"properties\": {\n        \"dtype\": \"number\",\n        \"std\": 0.32057407102296054,\n        \"min\": -0.31711328238321906,\n        \"max\": 1.0,\n        \"num_unique_values\": 14,\n        \"samples\": [\n          -0.27155352818992706,\n          0.2384223984114953,\n          -0.06445235625821555\n        ],\n        \"semantic_type\": \"\",\n        \"description\": \"\"\n      }\n    },\n    {\n      \"column\": \"FM\",\n      \"properties\": {\n        \"dtype\": \"number\",\n        \"std\": 0.26651413300822224,\n        \"min\": -0.05338560062022022,\n        \"max\": 1.0,\n        \"num_unique_values\": 14,\n        \"samples\": [\n          -0.0120045588143226,\n          0.09713291707932116,\n          0.018810129905973503\n        ],\n        \"semantic_type\": \"\",\n        \"description\": \"\"\n      }\n    },\n    {\n      \"column\": \"UC\",\n      \"properties\": {\n        \"dtype\": \"number\",\n        \"std\": 0.3059726267693975,\n        \"min\": -0.22788136165003237,\n        \"max\": 1.0,\n        \"num_unique_values\": 14,\n        \"samples\": [\n          -0.22788136165003237,\n          0.10678665276495207,\n          -0.16701188279944937\n        ],\n        \"semantic_type\": \"\",\n        \"description\": \"\"\n      }\n    },\n    {\n      \"column\": \"DL\",\n      \"properties\": {\n        \"dtype\": \"number\",\n        \"std\": 0.3176443768576711,\n        \"min\": -0.1872747765701692,\n        \"max\": 1.0,\n        \"num_unique_values\": 14,\n        \"samples\": [\n          -0.1872747765701692,\n          0.4097929685458607,\n          -0.12698060083726015\n        ],\n        \"semantic_type\": \"\",\n        \"description\": \"\"\n      }\n    },\n    {\n      \"column\": \"DS\",\n      \"properties\": {\n        \"dtype\": \"number\",\n        \"std\": 0.2648300217907989,\n        \"min\": -0.03363151333540703,\n        \"max\": 1.0,\n        \"num_unique_values\": 14,\n        \"samples\": [\n          -0.004406215268570068,\n          0.04083111774867898,\n          -0.005438555397486781\n        ],\n        \"semantic_type\": \"\",\n        \"description\": \"\"\n      }\n    },\n    {\n      \"column\": \"DP\",\n      \"properties\": {\n        \"dtype\": \"number\",\n        \"std\": 0.2849799516148571,\n        \"min\": -0.13050989910272448,\n        \"max\": 1.0,\n        \"num_unique_values\": 14,\n        \"samples\": [\n          -0.07786471321323492,\n          0.17524007434158856,\n          -0.0477261736353767\n        ],\n        \"semantic_type\": \"\",\n        \"description\": \"\"\n      }\n    },\n    {\n      \"column\": \"ASTV\",\n      \"properties\": {\n        \"dtype\": \"number\",\n        \"std\": 0.3497078101561652,\n        \"min\": -0.2938201061478764,\n        \"max\": 1.0,\n        \"num_unique_values\": 14,\n        \"samples\": [\n          0.35730953866213583,\n          -0.20843903381889975,\n          0.2424352671936304\n        ],\n        \"semantic_type\": \"\",\n        \"description\": \"\"\n      }\n    },\n    {\n      \"column\": \"MSTV\",\n      \"properties\": {\n        \"dtype\": \"number\",\n        \"std\": 0.3380563973289883,\n        \"min\": -0.2938201061478764,\n        \"max\": 1.0,\n        \"num_unique_values\": 14,\n        \"samples\": [\n          -0.2919790425737929,\n          0.4355629607305359,\n          -0.1701343124564911\n        ],\n        \"semantic_type\": \"\",\n        \"description\": \"\"\n      }\n    },\n    {\n      \"column\": \"ALTV\",\n      \"properties\": {\n        \"dtype\": \"number\",\n        \"std\": 0.3592062037670322,\n        \"min\": -0.34696036105737615,\n        \"max\": 1.0,\n        \"num_unique_values\": 14,\n        \"samples\": [\n          1.0,\n          -0.34696036105737615,\n          0.21095542771025952\n        ],\n        \"semantic_type\": \"\",\n        \"description\": \"\"\n      }\n    },\n    {\n      \"column\": \"MLTV\",\n      \"properties\": {\n        \"dtype\": \"number\",\n        \"std\": 0.2957471819901252,\n        \"min\": -0.21992208286980752,\n        \"max\": 1.0,\n        \"num_unique_values\": 14,\n        \"samples\": [\n          -0.10747456817693343,\n          0.059031492242709496,\n          -0.003224548284617804\n        ],\n        \"semantic_type\": \"\",\n        \"description\": \"\"\n      }\n    },\n    {\n      \"column\": \"Width\",\n      \"properties\": {\n        \"dtype\": \"number\",\n        \"std\": 0.328367053129006,\n        \"min\": -0.34696036105737615,\n        \"max\": 1.0,\n        \"num_unique_values\": 14,\n        \"samples\": [\n          -0.34696036105737615,\n          1.0,\n          -0.11837525518601848\n        ],\n        \"semantic_type\": \"\",\n        \"description\": \"\"\n      }\n    },\n    {\n      \"column\": \"Tendency\",\n      \"properties\": {\n        \"dtype\": \"number\",\n        \"std\": 0.28132012622539565,\n        \"min\": -0.13050989910272448,\n        \"max\": 1.0,\n        \"num_unique_values\": 14,\n        \"samples\": [\n          0.036552461828110984,\n          0.08102515584609365,\n          0.23711182767334715\n        ],\n        \"semantic_type\": \"\",\n        \"description\": \"\"\n      }\n    },\n    {\n      \"column\": \"NSP\",\n      \"properties\": {\n        \"dtype\": \"number\",\n        \"std\": 0.3328746327075666,\n        \"min\": -0.31711328238321906,\n        \"max\": 1.0,\n        \"num_unique_values\": 14,\n        \"samples\": [\n          0.36570765053940896,\n          -0.06779943878820016,\n          0.13200792468181302\n        ],\n        \"semantic_type\": \"\",\n        \"description\": \"\"\n      }\n    }\n  ]\n}"
            }
          },
          "metadata": {},
          "execution_count": 23
        }
      ]
    },
    {
      "cell_type": "markdown",
      "metadata": {
        "id": "26b368c8-1243-4b93-88e7-2b16c1891c7f"
      },
      "source": [
        "###  Filling null values"
      ]
    },
    {
      "cell_type": "code",
      "source": [
        "data.isnull().sum()"
      ],
      "metadata": {
        "colab": {
          "base_uri": "https://localhost:8080/",
          "height": 523
        },
        "id": "iD3XhpUP8XL_",
        "outputId": "ca7db259-fd7c-42c7-af2a-baaa0f413073"
      },
      "execution_count": 24,
      "outputs": [
        {
          "output_type": "execute_result",
          "data": {
            "text/plain": [
              "LB          21\n",
              "AC          20\n",
              "FM           0\n",
              "UC           0\n",
              "DL           0\n",
              "DS          21\n",
              "DP          21\n",
              "ASTV         0\n",
              "MSTV         0\n",
              "ALTV         0\n",
              "MLTV        21\n",
              "Width       21\n",
              "Tendency    21\n",
              "NSP         21\n",
              "dtype: int64"
            ],
            "text/html": [
              "<div>\n",
              "<style scoped>\n",
              "    .dataframe tbody tr th:only-of-type {\n",
              "        vertical-align: middle;\n",
              "    }\n",
              "\n",
              "    .dataframe tbody tr th {\n",
              "        vertical-align: top;\n",
              "    }\n",
              "\n",
              "    .dataframe thead th {\n",
              "        text-align: right;\n",
              "    }\n",
              "</style>\n",
              "<table border=\"1\" class=\"dataframe\">\n",
              "  <thead>\n",
              "    <tr style=\"text-align: right;\">\n",
              "      <th></th>\n",
              "      <th>0</th>\n",
              "    </tr>\n",
              "  </thead>\n",
              "  <tbody>\n",
              "    <tr>\n",
              "      <th>LB</th>\n",
              "      <td>21</td>\n",
              "    </tr>\n",
              "    <tr>\n",
              "      <th>AC</th>\n",
              "      <td>20</td>\n",
              "    </tr>\n",
              "    <tr>\n",
              "      <th>FM</th>\n",
              "      <td>0</td>\n",
              "    </tr>\n",
              "    <tr>\n",
              "      <th>UC</th>\n",
              "      <td>0</td>\n",
              "    </tr>\n",
              "    <tr>\n",
              "      <th>DL</th>\n",
              "      <td>0</td>\n",
              "    </tr>\n",
              "    <tr>\n",
              "      <th>DS</th>\n",
              "      <td>21</td>\n",
              "    </tr>\n",
              "    <tr>\n",
              "      <th>DP</th>\n",
              "      <td>21</td>\n",
              "    </tr>\n",
              "    <tr>\n",
              "      <th>ASTV</th>\n",
              "      <td>0</td>\n",
              "    </tr>\n",
              "    <tr>\n",
              "      <th>MSTV</th>\n",
              "      <td>0</td>\n",
              "    </tr>\n",
              "    <tr>\n",
              "      <th>ALTV</th>\n",
              "      <td>0</td>\n",
              "    </tr>\n",
              "    <tr>\n",
              "      <th>MLTV</th>\n",
              "      <td>21</td>\n",
              "    </tr>\n",
              "    <tr>\n",
              "      <th>Width</th>\n",
              "      <td>21</td>\n",
              "    </tr>\n",
              "    <tr>\n",
              "      <th>Tendency</th>\n",
              "      <td>21</td>\n",
              "    </tr>\n",
              "    <tr>\n",
              "      <th>NSP</th>\n",
              "      <td>21</td>\n",
              "    </tr>\n",
              "  </tbody>\n",
              "</table>\n",
              "</div><br><label><b>dtype:</b> int64</label>"
            ]
          },
          "metadata": {},
          "execution_count": 24
        }
      ]
    },
    {
      "cell_type": "code",
      "source": [
        "mean_lb=data['LB'].mean()\n",
        "print(mean_lb)\n",
        "data['LB']=data['LB'].fillna(mean_lb)"
      ],
      "metadata": {
        "colab": {
          "base_uri": "https://localhost:8080/"
        },
        "id": "x4KwRVfW8hiN",
        "outputId": "02f6eb1a-0a0a-4d15-9097-799f467dac6e"
      },
      "execution_count": 25,
      "outputs": [
        {
          "output_type": "stream",
          "name": "stdout",
          "text": [
            "133.3420230800519\n"
          ]
        }
      ]
    },
    {
      "cell_type": "code",
      "source": [
        "mean_ac=data['AC'].mean()\n",
        "print(mean_ac)\n",
        "data['AC']=data['AC'].fillna(mean_ac)"
      ],
      "metadata": {
        "colab": {
          "base_uri": "https://localhost:8080/"
        },
        "id": "nOl9K3Ak8qe_",
        "outputId": "8c27e352-8864-431f-9323-1fb7ce515b19"
      },
      "execution_count": 26,
      "outputs": [
        {
          "output_type": "stream",
          "name": "stdout",
          "text": [
            "0.0032197961979291345\n"
          ]
        }
      ]
    },
    {
      "cell_type": "code",
      "source": [
        "mean_ds=data['DS'].mean()\n",
        "print(mean_ds)\n",
        "data['DS']=data['DS'].fillna(mean_ds)"
      ],
      "metadata": {
        "colab": {
          "base_uri": "https://localhost:8080/"
        },
        "id": "AIyCqn8b8w1Y",
        "outputId": "078fb43f-860f-4c3f-8373-c236427656d6"
      },
      "execution_count": 27,
      "outputs": [
        {
          "output_type": "stream",
          "name": "stdout",
          "text": [
            "2.511369605097549e-06\n"
          ]
        }
      ]
    },
    {
      "cell_type": "code",
      "source": [
        "mean_dp=data['DP'].mean()\n",
        "print(mean_dp)\n",
        "data['DP']=data['DP'].fillna(mean_dp)"
      ],
      "metadata": {
        "colab": {
          "base_uri": "https://localhost:8080/"
        },
        "id": "2Ig7KYtS87GK",
        "outputId": "6b2cecd3-50a5-4b2c-de93-814e1322aa66"
      },
      "execution_count": 28,
      "outputs": [
        {
          "output_type": "stream",
          "name": "stdout",
          "text": [
            "0.00017531778446317666\n"
          ]
        }
      ]
    },
    {
      "cell_type": "code",
      "source": [
        "mean_mltv=data['MLTV'].mean()\n",
        "print(mean_mltv)\n",
        "data['MLTV']=data['MLTV'].fillna(mean_mltv)"
      ],
      "metadata": {
        "colab": {
          "base_uri": "https://localhost:8080/"
        },
        "id": "6cTBsi7R8-0v",
        "outputId": "408ff3f4-1391-4558-9fad-a05d391d24dc"
      },
      "execution_count": 29,
      "outputs": [
        {
          "output_type": "stream",
          "name": "stdout",
          "text": [
            "8.28054590298053\n"
          ]
        }
      ]
    },
    {
      "cell_type": "code",
      "source": [
        "mean_width=data['Width'].mean()\n",
        "print(mean_width)\n",
        "data['Width']=data['Width'].fillna(mean_width)"
      ],
      "metadata": {
        "colab": {
          "base_uri": "https://localhost:8080/"
        },
        "id": "_VEQEf-q9Eft",
        "outputId": "992b4e27-a22c-4493-a7c1-c4d926b382ac"
      },
      "execution_count": 30,
      "outputs": [
        {
          "output_type": "stream",
          "name": "stdout",
          "text": [
            "70.46105246796047\n"
          ]
        }
      ]
    },
    {
      "cell_type": "code",
      "source": [
        "mean_tendency=data['Tendency'].mean()\n",
        "print(mean_tendency)\n",
        "data['Tendency']=data['Tendency'].fillna(mean_tendency)"
      ],
      "metadata": {
        "colab": {
          "base_uri": "https://localhost:8080/"
        },
        "id": "ErqvAn5a9IIO",
        "outputId": "9aafcb2e-8e87-45d8-b05c-c6a79192d06d"
      },
      "execution_count": 31,
      "outputs": [
        {
          "output_type": "stream",
          "name": "stdout",
          "text": [
            "0.31667228014592036\n"
          ]
        }
      ]
    },
    {
      "cell_type": "code",
      "source": [
        "mean_nsp=data['NSP'].mean()\n",
        "print(mean_nsp)\n",
        "data['NSP']=data['NSP'].fillna(mean_nsp)"
      ],
      "metadata": {
        "colab": {
          "base_uri": "https://localhost:8080/"
        },
        "id": "qQsgao2l9L7w",
        "outputId": "97d1904f-0332-4ee5-bc3c-94fd8263d22c"
      },
      "execution_count": 32,
      "outputs": [
        {
          "output_type": "stream",
          "name": "stdout",
          "text": [
            "1.304796768239931\n"
          ]
        }
      ]
    },
    {
      "cell_type": "code",
      "source": [
        "from sklearn.preprocessing import MinMaxScaler, StandardScaler"
      ],
      "metadata": {
        "id": "RxuoFjHb9RI2"
      },
      "execution_count": 33,
      "outputs": []
    },
    {
      "cell_type": "code",
      "source": [
        "# Min-Max Scaling\n",
        "minmax_scaler = MinMaxScaler()\n",
        "scaled_data_minmax = minmax_scaler.fit_transform(data)\n",
        "scaled_data_minmax"
      ],
      "metadata": {
        "colab": {
          "base_uri": "https://localhost:8080/"
        },
        "id": "9wFFMk9Z9UlL",
        "outputId": "3d44a921-d3de-4c04-8568-ab1c32f95e52"
      },
      "execution_count": 34,
      "outputs": [
        {
          "output_type": "execute_result",
          "data": {
            "text/plain": [
              "array([[0.42031671, 0.33333333, 0.33333333, ..., 0.44821092, 0.66665434,\n",
              "        0.50215633],\n",
              "       [0.49431884, 0.44360901, 0.33333333, ..., 0.57250471, 0.5       ,\n",
              "        0.33620844],\n",
              "       [0.50048568, 0.39076095, 0.33333333, ..., 0.57250471, 0.5       ,\n",
              "        0.33620844],\n",
              "       ...,\n",
              "       [0.54365358, 0.35028011, 0.33333333, ..., 0.45386064, 0.66666667,\n",
              "        0.50057385],\n",
              "       [0.54365358, 0.34506838, 0.33333333, ..., 0.4519774 , 0.66666667,\n",
              "        0.50215633],\n",
              "       [0.55598727, 0.36125856, 0.33320325, ..., 0.40677966, 0.5       ,\n",
              "        0.33620844]])"
            ]
          },
          "metadata": {},
          "execution_count": 34
        }
      ]
    },
    {
      "cell_type": "code",
      "source": [
        "# Standard Scaling\n",
        "standard_scaler = StandardScaler()\n",
        "scaled_data_standard = standard_scaler.fit_transform(data)\n",
        "scaled_data_standard"
      ],
      "metadata": {
        "colab": {
          "base_uri": "https://localhost:8080/"
        },
        "id": "IlpAWnYz9Y_c",
        "outputId": "ffdcccc1-b7c2-4933-d754-f64852b38a90"
      },
      "execution_count": 35,
      "outputs": [
        {
          "output_type": "execute_result",
          "data": {
            "text/plain": [
              "array([[-1.19021524, -0.73672623, -0.14660375, ..., -0.15125303,\n",
              "         1.06342729,  1.08369989],\n",
              "       [-0.1197192 ,  0.72299585, -0.14660375, ...,  1.39380487,\n",
              "        -0.49287392, -0.4751247 ],\n",
              "       [-0.0305112 ,  0.02344466, -0.14660375, ...,  1.39380487,\n",
              "        -0.49287392, -0.4751247 ],\n",
              "       ...,\n",
              "       [ 0.59394483, -0.51240132, -0.14660375, ..., -0.08102313,\n",
              "         1.06354244,  1.06883495],\n",
              "       [ 0.59394483, -0.58138911, -0.14660375, ..., -0.1044331 ,\n",
              "         1.06354244,  1.08369989],\n",
              "       [ 0.77236083, -0.36707928, -0.14938034, ..., -0.66627233,\n",
              "        -0.49287392, -0.4751247 ]])"
            ]
          },
          "metadata": {},
          "execution_count": 35
        }
      ]
    },
    {
      "cell_type": "markdown",
      "source": [
        "# Outliers Treatment"
      ],
      "metadata": {
        "id": "TIvDzxqJ9jHW"
      }
    },
    {
      "cell_type": "code",
      "source": [
        "plt.boxplot(x='DL',data=data)"
      ],
      "metadata": {
        "colab": {
          "base_uri": "https://localhost:8080/",
          "height": 578
        },
        "id": "rYdlmU_V9tM8",
        "outputId": "82ab6a99-fb0d-4172-a795-89635ef0ab91"
      },
      "execution_count": 36,
      "outputs": [
        {
          "output_type": "execute_result",
          "data": {
            "text/plain": [
              "{'whiskers': [<matplotlib.lines.Line2D at 0x7a551cdabd00>,\n",
              "  <matplotlib.lines.Line2D at 0x7a551cdabfd0>],\n",
              " 'caps': [<matplotlib.lines.Line2D at 0x7a551cdabd60>,\n",
              "  <matplotlib.lines.Line2D at 0x7a551cda8670>],\n",
              " 'boxes': [<matplotlib.lines.Line2D at 0x7a551cdab1c0>],\n",
              " 'medians': [<matplotlib.lines.Line2D at 0x7a551cda8490>],\n",
              " 'fliers': [<matplotlib.lines.Line2D at 0x7a551cdaafb0>],\n",
              " 'means': []}"
            ]
          },
          "metadata": {},
          "execution_count": 36
        },
        {
          "output_type": "display_data",
          "data": {
            "text/plain": [
              "<Figure size 640x480 with 1 Axes>"
            ],
            "image/png": "[encoded data removed]"
          },
          "metadata": {}
        }
      ]
    },
    {
      "cell_type": "code",
      "source": [
        "# Detect and treat outliers (if necessary)\n",
        "# Using IQR method (adjust thresholds as needed)\n",
        "Q1 = data['DL'].quantile(0.25)\n",
        "Q3 = data['DL'].quantile(0.75)\n",
        "IQR = Q3 - Q1\n",
        "lower_bound = Q1 - 1.5 * IQR\n",
        "upper_bound = Q3 + 1.5 * IQR\n",
        "data = data[(data['DL'] >= lower_bound) & (data['DL'] <= upper_bound)]"
      ],
      "metadata": {
        "id": "CbQy1nNU9wB1"
      },
      "execution_count": 37,
      "outputs": []
    },
    {
      "cell_type": "code",
      "source": [
        "plt.boxplot(x='DL',data=data)"
      ],
      "metadata": {
        "colab": {
          "base_uri": "https://localhost:8080/",
          "height": 578
        },
        "id": "rpeOJFN39075",
        "outputId": "fd9fb4ec-220b-43a8-b192-068cdde51302"
      },
      "execution_count": 38,
      "outputs": [
        {
          "output_type": "execute_result",
          "data": {
            "text/plain": [
              "{'whiskers': [<matplotlib.lines.Line2D at 0x7a551b4861a0>,\n",
              "  <matplotlib.lines.Line2D at 0x7a551b486620>],\n",
              " 'caps': [<matplotlib.lines.Line2D at 0x7a551b486c50>,\n",
              "  <matplotlib.lines.Line2D at 0x7a551b448eb0>],\n",
              " 'boxes': [<matplotlib.lines.Line2D at 0x7a551b485f00>],\n",
              " 'medians': [<matplotlib.lines.Line2D at 0x7a551b44acb0>],\n",
              " 'fliers': [<matplotlib.lines.Line2D at 0x7a551b44ad10>],\n",
              " 'means': []}"
            ]
          },
          "metadata": {},
          "execution_count": 38
        },
        {
          "output_type": "display_data",
          "data": {
            "text/plain": [
              "<Figure size 640x480 with 1 Axes>"
            ],
            "image/png": "[encoded data removed]"
          },
          "metadata": {}
        }
      ]
    },
    {
      "cell_type": "code",
      "source": [
        "plt.boxplot(x='ALTV',data=data)"
      ],
      "metadata": {
        "colab": {
          "base_uri": "https://localhost:8080/",
          "height": 578
        },
        "id": "kriwG_oZ99rS",
        "outputId": "d85467a6-1bac-4502-c5c6-554c7b195389"
      },
      "execution_count": 39,
      "outputs": [
        {
          "output_type": "execute_result",
          "data": {
            "text/plain": [
              "{'whiskers': [<matplotlib.lines.Line2D at 0x7a551ceacdf0>,\n",
              "  <matplotlib.lines.Line2D at 0x7a551ceac970>],\n",
              " 'caps': [<matplotlib.lines.Line2D at 0x7a551ceaed40>,\n",
              "  <matplotlib.lines.Line2D at 0x7a551ceadbd0>],\n",
              " 'boxes': [<matplotlib.lines.Line2D at 0x7a551ceaf550>],\n",
              " 'medians': [<matplotlib.lines.Line2D at 0x7a551ceafa60>],\n",
              " 'fliers': [<matplotlib.lines.Line2D at 0x7a551ceaf1f0>],\n",
              " 'means': []}"
            ]
          },
          "metadata": {},
          "execution_count": 39
        },
        {
          "output_type": "display_data",
          "data": {
            "text/plain": [
              "<Figure size 640x480 with 1 Axes>"
            ],
            "image/png": "[encoded data removed]"
          },
          "metadata": {}
        }
      ]
    },
    {
      "cell_type": "code",
      "source": [
        "Q1 = data['ALTV'].quantile(0.25)\n",
        "Q3 = data['ALTV'].quantile(0.75)\n",
        "IQR = Q3 - Q1\n",
        "lower_bound = Q1 - 1.5 * IQR\n",
        "upper_bound = Q3 + 1.5 * IQR\n",
        "data = data[(data['ALTV'] >= lower_bound) & (data['ALTV'] <= upper_bound)]"
      ],
      "metadata": {
        "id": "2KU8u4rF-Bix"
      },
      "execution_count": 40,
      "outputs": []
    },
    {
      "cell_type": "code",
      "source": [
        "plt.boxplot(x='ALTV',data=data)"
      ],
      "metadata": {
        "colab": {
          "base_uri": "https://localhost:8080/",
          "height": 578
        },
        "id": "QY1-3OuH-Hk9",
        "outputId": "cd1194aa-46f2-416c-e9a1-eff7d099b10b"
      },
      "execution_count": 41,
      "outputs": [
        {
          "output_type": "execute_result",
          "data": {
            "text/plain": [
              "{'whiskers': [<matplotlib.lines.Line2D at 0x7a551d1ef070>,\n",
              "  <matplotlib.lines.Line2D at 0x7a551d1ee200>],\n",
              " 'caps': [<matplotlib.lines.Line2D at 0x7a551d2081f0>,\n",
              "  <matplotlib.lines.Line2D at 0x7a551d209030>],\n",
              " 'boxes': [<matplotlib.lines.Line2D at 0x7a551d1ed360>],\n",
              " 'medians': [<matplotlib.lines.Line2D at 0x7a551d209a80>],\n",
              " 'fliers': [<matplotlib.lines.Line2D at 0x7a551d2085b0>],\n",
              " 'means': []}"
            ]
          },
          "metadata": {},
          "execution_count": 41
        },
        {
          "output_type": "display_data",
          "data": {
            "text/plain": [
              "<Figure size 640x480 with 1 Axes>"
            ],
            "image/png": "[encoded data removed]"
          },
          "metadata": {}
        }
      ]
    },
    {
      "cell_type": "code",
      "source": [
        "plt.boxplot(x='LB',data=data)"
      ],
      "metadata": {
        "colab": {
          "base_uri": "https://localhost:8080/",
          "height": 579
        },
        "id": "dJPy4B7X-LNV",
        "outputId": "fb930c56-a233-42af-804a-e04c1d1d5890"
      },
      "execution_count": 42,
      "outputs": [
        {
          "output_type": "execute_result",
          "data": {
            "text/plain": [
              "{'whiskers': [<matplotlib.lines.Line2D at 0x7a551cd14220>,\n",
              "  <matplotlib.lines.Line2D at 0x7a551cd14880>],\n",
              " 'caps': [<matplotlib.lines.Line2D at 0x7a551cd15a50>,\n",
              "  <matplotlib.lines.Line2D at 0x7a551cd15630>],\n",
              " 'boxes': [<matplotlib.lines.Line2D at 0x7a551cd15210>],\n",
              " 'medians': [<matplotlib.lines.Line2D at 0x7a551cd16e90>],\n",
              " 'fliers': [<matplotlib.lines.Line2D at 0x7a551cd16bf0>],\n",
              " 'means': []}"
            ]
          },
          "metadata": {},
          "execution_count": 42
        },
        {
          "output_type": "display_data",
          "data": {
            "text/plain": [
              "<Figure size 640x480 with 1 Axes>"
            ],
            "image/png": "[encoded data removed]"
          },
          "metadata": {}
        }
      ]
    },
    {
      "cell_type": "code",
      "source": [
        "data.isnull().sum()"
      ],
      "metadata": {
        "colab": {
          "base_uri": "https://localhost:8080/",
          "height": 523
        },
        "id": "SJjjDoIn-NwV",
        "outputId": "549d8756-e767-48da-b0be-a76f49c5facc"
      },
      "execution_count": 43,
      "outputs": [
        {
          "output_type": "execute_result",
          "data": {
            "text/plain": [
              "LB          0\n",
              "AC          0\n",
              "FM          0\n",
              "UC          0\n",
              "DL          0\n",
              "DS          0\n",
              "DP          0\n",
              "ASTV        0\n",
              "MSTV        0\n",
              "ALTV        0\n",
              "MLTV        0\n",
              "Width       0\n",
              "Tendency    0\n",
              "NSP         0\n",
              "dtype: int64"
            ],
            "text/html": [
              "<div>\n",
              "<style scoped>\n",
              "    .dataframe tbody tr th:only-of-type {\n",
              "        vertical-align: middle;\n",
              "    }\n",
              "\n",
              "    .dataframe tbody tr th {\n",
              "        vertical-align: top;\n",
              "    }\n",
              "\n",
              "    .dataframe thead th {\n",
              "        text-align: right;\n",
              "    }\n",
              "</style>\n",
              "<table border=\"1\" class=\"dataframe\">\n",
              "  <thead>\n",
              "    <tr style=\"text-align: right;\">\n",
              "      <th></th>\n",
              "      <th>0</th>\n",
              "    </tr>\n",
              "  </thead>\n",
              "  <tbody>\n",
              "    <tr>\n",
              "      <th>LB</th>\n",
              "      <td>0</td>\n",
              "    </tr>\n",
              "    <tr>\n",
              "      <th>AC</th>\n",
              "      <td>0</td>\n",
              "    </tr>\n",
              "    <tr>\n",
              "      <th>FM</th>\n",
              "      <td>0</td>\n",
              "    </tr>\n",
              "    <tr>\n",
              "      <th>UC</th>\n",
              "      <td>0</td>\n",
              "    </tr>\n",
              "    <tr>\n",
              "      <th>DL</th>\n",
              "      <td>0</td>\n",
              "    </tr>\n",
              "    <tr>\n",
              "      <th>DS</th>\n",
              "      <td>0</td>\n",
              "    </tr>\n",
              "    <tr>\n",
              "      <th>DP</th>\n",
              "      <td>0</td>\n",
              "    </tr>\n",
              "    <tr>\n",
              "      <th>ASTV</th>\n",
              "      <td>0</td>\n",
              "    </tr>\n",
              "    <tr>\n",
              "      <th>MSTV</th>\n",
              "      <td>0</td>\n",
              "    </tr>\n",
              "    <tr>\n",
              "      <th>ALTV</th>\n",
              "      <td>0</td>\n",
              "    </tr>\n",
              "    <tr>\n",
              "      <th>MLTV</th>\n",
              "      <td>0</td>\n",
              "    </tr>\n",
              "    <tr>\n",
              "      <th>Width</th>\n",
              "      <td>0</td>\n",
              "    </tr>\n",
              "    <tr>\n",
              "      <th>Tendency</th>\n",
              "      <td>0</td>\n",
              "    </tr>\n",
              "    <tr>\n",
              "      <th>NSP</th>\n",
              "      <td>0</td>\n",
              "    </tr>\n",
              "  </tbody>\n",
              "</table>\n",
              "</div><br><label><b>dtype:</b> int64</label>"
            ]
          },
          "metadata": {},
          "execution_count": 43
        }
      ]
    },
    {
      "cell_type": "code",
      "source": [
        "Q1 = data['LB'].quantile(0.25)\n",
        "Q3 = data['LB'].quantile(0.75)\n",
        "IQR = Q3 - Q1\n",
        "lower_bound = Q1 - 1.5 * IQR\n",
        "upper_bound = Q3 + 1.5 * IQR\n",
        "data = data[(data['LB'] >= lower_bound) & (data['LB'] <= upper_bound)]"
      ],
      "metadata": {
        "id": "4JNbVgzf-RPH"
      },
      "execution_count": 44,
      "outputs": []
    },
    {
      "cell_type": "code",
      "source": [
        "plt.boxplot(x='LB',data=data)"
      ],
      "metadata": {
        "colab": {
          "base_uri": "https://localhost:8080/",
          "height": 578
        },
        "id": "SDnCvTkR-X0C",
        "outputId": "57964d0e-3a40-4691-ec0d-60912580250f"
      },
      "execution_count": 45,
      "outputs": [
        {
          "output_type": "execute_result",
          "data": {
            "text/plain": [
              "{'whiskers': [<matplotlib.lines.Line2D at 0x7a551b38eef0>,\n",
              "  <matplotlib.lines.Line2D at 0x7a551b38d4b0>],\n",
              " 'caps': [<matplotlib.lines.Line2D at 0x7a551b38ef50>,\n",
              "  <matplotlib.lines.Line2D at 0x7a551b38f1f0>],\n",
              " 'boxes': [<matplotlib.lines.Line2D at 0x7a551b38ec50>],\n",
              " 'medians': [<matplotlib.lines.Line2D at 0x7a551b38f490>],\n",
              " 'fliers': [<matplotlib.lines.Line2D at 0x7a551b38c6a0>],\n",
              " 'means': []}"
            ]
          },
          "metadata": {},
          "execution_count": 45
        },
        {
          "output_type": "display_data",
          "data": {
            "text/plain": [
              "<Figure size 640x480 with 1 Axes>"
            ],
            "image/png": "[encoded data removed]"
          },
          "metadata": {}
        }
      ]
    },
    {
      "cell_type": "code",
      "source": [
        "plt.boxplot(x='AC',data=data)"
      ],
      "metadata": {
        "colab": {
          "base_uri": "https://localhost:8080/",
          "height": 578
        },
        "id": "lYzS7RIO-h2u",
        "outputId": "04535475-c30d-46c9-e206-21886987e0f3"
      },
      "execution_count": 46,
      "outputs": [
        {
          "output_type": "execute_result",
          "data": {
            "text/plain": [
              "{'whiskers': [<matplotlib.lines.Line2D at 0x7a551cce5390>,\n",
              "  <matplotlib.lines.Line2D at 0x7a551cce6380>],\n",
              " 'caps': [<matplotlib.lines.Line2D at 0x7a551cce6e90>,\n",
              "  <matplotlib.lines.Line2D at 0x7a551cce4910>],\n",
              " 'boxes': [<matplotlib.lines.Line2D at 0x7a551cce6c80>],\n",
              " 'medians': [<matplotlib.lines.Line2D at 0x7a551cce5d80>],\n",
              " 'fliers': [<matplotlib.lines.Line2D at 0x7a551cce6440>],\n",
              " 'means': []}"
            ]
          },
          "metadata": {},
          "execution_count": 46
        },
        {
          "output_type": "display_data",
          "data": {
            "text/plain": [
              "<Figure size 640x480 with 1 Axes>"
            ],
            "image/png": "[encoded data removed]"
          },
          "metadata": {}
        }
      ]
    },
    {
      "cell_type": "code",
      "source": [
        "plt.boxplot(x='FM',data=data)"
      ],
      "metadata": {
        "colab": {
          "base_uri": "https://localhost:8080/",
          "height": 578
        },
        "id": "t5VgqtRg_BDL",
        "outputId": "4e8cdb67-e4af-4851-cd49-caafdeee536d"
      },
      "execution_count": 47,
      "outputs": [
        {
          "output_type": "execute_result",
          "data": {
            "text/plain": [
              "{'whiskers': [<matplotlib.lines.Line2D at 0x7a551ab7e5f0>,\n",
              "  <matplotlib.lines.Line2D at 0x7a551ab7e890>],\n",
              " 'caps': [<matplotlib.lines.Line2D at 0x7a551ab7eb30>,\n",
              "  <matplotlib.lines.Line2D at 0x7a551ab7edd0>],\n",
              " 'boxes': [<matplotlib.lines.Line2D at 0x7a551ab7e350>],\n",
              " 'medians': [<matplotlib.lines.Line2D at 0x7a551ab7f070>],\n",
              " 'fliers': [<matplotlib.lines.Line2D at 0x7a551ab7f310>],\n",
              " 'means': []}"
            ]
          },
          "metadata": {},
          "execution_count": 47
        },
        {
          "output_type": "display_data",
          "data": {
            "text/plain": [
              "<Figure size 640x480 with 1 Axes>"
            ],
            "image/png": "[encoded data removed]"
          },
          "metadata": {}
        }
      ]
    },
    {
      "cell_type": "code",
      "source": [
        "Q1 = data['FM'].quantile(0.25)\n",
        "Q3 = data['FM'].quantile(0.75)\n",
        "IQR = Q3 - Q1\n",
        "lower_bound = Q1 - 1.5 * IQR\n",
        "upper_bound = Q3 + 1.5 * IQR\n",
        "data = data[(data['FM'] >= lower_bound) & (data['FM'] <= upper_bound)]"
      ],
      "metadata": {
        "id": "IFW6RoeO_EJK"
      },
      "execution_count": 48,
      "outputs": []
    },
    {
      "cell_type": "code",
      "source": [
        "plt.boxplot(x='FM',data=data)"
      ],
      "metadata": {
        "colab": {
          "base_uri": "https://localhost:8080/",
          "height": 578
        },
        "id": "H4J5W-xg_Kdb",
        "outputId": "8bb6225e-cdb0-46b7-bd7a-83611966d9c2"
      },
      "execution_count": 49,
      "outputs": [
        {
          "output_type": "execute_result",
          "data": {
            "text/plain": [
              "{'whiskers': [<matplotlib.lines.Line2D at 0x7a551abf5b10>,\n",
              "  <matplotlib.lines.Line2D at 0x7a551abf7250>],\n",
              " 'caps': [<matplotlib.lines.Line2D at 0x7a551abf74f0>,\n",
              "  <matplotlib.lines.Line2D at 0x7a551abf7790>],\n",
              " 'boxes': [<matplotlib.lines.Line2D at 0x7a551abf6e30>],\n",
              " 'medians': [<matplotlib.lines.Line2D at 0x7a551abf7a30>],\n",
              " 'fliers': [<matplotlib.lines.Line2D at 0x7a551abf7cd0>],\n",
              " 'means': []}"
            ]
          },
          "metadata": {},
          "execution_count": 49
        },
        {
          "output_type": "display_data",
          "data": {
            "text/plain": [
              "<Figure size 640x480 with 1 Axes>"
            ],
            "image/png": "[encoded data removed]"
          },
          "metadata": {}
        }
      ]
    },
    {
      "cell_type": "code",
      "source": [
        "plt.boxplot(x='UC',data=data)"
      ],
      "metadata": {
        "colab": {
          "base_uri": "https://localhost:8080/",
          "height": 578
        },
        "id": "5ILl_GI1_NVU",
        "outputId": "1ace7e4b-d7db-4983-d4ab-f174a2d56b30"
      },
      "execution_count": 50,
      "outputs": [
        {
          "output_type": "execute_result",
          "data": {
            "text/plain": [
              "{'whiskers': [<matplotlib.lines.Line2D at 0x7a551aa7ca90>,\n",
              "  <matplotlib.lines.Line2D at 0x7a551aa7cd30>],\n",
              " 'caps': [<matplotlib.lines.Line2D at 0x7a551aa7cfd0>,\n",
              "  <matplotlib.lines.Line2D at 0x7a551aa7d270>],\n",
              " 'boxes': [<matplotlib.lines.Line2D at 0x7a551aa7c7f0>],\n",
              " 'medians': [<matplotlib.lines.Line2D at 0x7a551aa7d510>],\n",
              " 'fliers': [<matplotlib.lines.Line2D at 0x7a551aa7d7b0>],\n",
              " 'means': []}"
            ]
          },
          "metadata": {},
          "execution_count": 50
        },
        {
          "output_type": "display_data",
          "data": {
            "text/plain": [
              "<Figure size 640x480 with 1 Axes>"
            ],
            "image/png": "[encoded data removed]"
          },
          "metadata": {}
        }
      ]
    },
    {
      "cell_type": "code",
      "source": [
        "Q1 = data['UC'].quantile(0.25)\n",
        "Q3 = data['UC'].quantile(0.75)\n",
        "IQR = Q3 - Q1\n",
        "lower_bound = Q1 - 1.5 * IQR\n",
        "upper_bound = Q3 + 1.5 * IQR\n",
        "data = data[(data['UC'] >= lower_bound) & (data['UC'] <= upper_bound)]"
      ],
      "metadata": {
        "id": "AEQynMOQ_SDR"
      },
      "execution_count": 51,
      "outputs": []
    },
    {
      "cell_type": "code",
      "source": [
        "plt.boxplot(x='UC',data=data)"
      ],
      "metadata": {
        "colab": {
          "base_uri": "https://localhost:8080/",
          "height": 578
        },
        "id": "oW5AfwFJ_XmE",
        "outputId": "39b4204d-bf7d-4c47-f6c2-1d061cd89fb4"
      },
      "execution_count": 52,
      "outputs": [
        {
          "output_type": "execute_result",
          "data": {
            "text/plain": [
              "{'whiskers': [<matplotlib.lines.Line2D at 0x7a551aacf730>,\n",
              "  <matplotlib.lines.Line2D at 0x7a551aacf9d0>],\n",
              " 'caps': [<matplotlib.lines.Line2D at 0x7a551aacfca0>,\n",
              "  <matplotlib.lines.Line2D at 0x7a551aacff40>],\n",
              " 'boxes': [<matplotlib.lines.Line2D at 0x7a551aacf490>],\n",
              " 'medians': [<matplotlib.lines.Line2D at 0x7a551aafc220>],\n",
              " 'fliers': [<matplotlib.lines.Line2D at 0x7a551aafc4c0>],\n",
              " 'means': []}"
            ]
          },
          "metadata": {},
          "execution_count": 52
        },
        {
          "output_type": "display_data",
          "data": {
            "text/plain": [
              "<Figure size 640x480 with 1 Axes>"
            ],
            "image/png": "[encoded data removed]"
          },
          "metadata": {}
        }
      ]
    },
    {
      "cell_type": "code",
      "source": [
        "plt.boxplot(x='DS',data=data)"
      ],
      "metadata": {
        "colab": {
          "base_uri": "https://localhost:8080/",
          "height": 578
        },
        "id": "Rly06_2A_e2r",
        "outputId": "7b735f38-54f2-462a-f263-99f749bc3b6b"
      },
      "execution_count": 53,
      "outputs": [
        {
          "output_type": "execute_result",
          "data": {
            "text/plain": [
              "{'whiskers': [<matplotlib.lines.Line2D at 0x7a551a93e4a0>,\n",
              "  <matplotlib.lines.Line2D at 0x7a551a93e740>],\n",
              " 'caps': [<matplotlib.lines.Line2D at 0x7a551a93e9e0>,\n",
              "  <matplotlib.lines.Line2D at 0x7a551a93ec80>],\n",
              " 'boxes': [<matplotlib.lines.Line2D at 0x7a551a93e200>],\n",
              " 'medians': [<matplotlib.lines.Line2D at 0x7a551a93ef20>],\n",
              " 'fliers': [<matplotlib.lines.Line2D at 0x7a551a93f1c0>],\n",
              " 'means': []}"
            ]
          },
          "metadata": {},
          "execution_count": 53
        },
        {
          "output_type": "display_data",
          "data": {
            "text/plain": [
              "<Figure size 640x480 with 1 Axes>"
            ],
            "image/png": "[encoded data removed]"
          },
          "metadata": {}
        }
      ]
    },
    {
      "cell_type": "code",
      "source": [
        "Q1 = data['DS'].quantile(0.25)\n",
        "Q3 = data['DS'].quantile(0.75)\n",
        "IQR = Q3 - Q1\n",
        "lower_bound = Q1 - 1.5 * IQR\n",
        "upper_bound = Q3 + 1.5 * IQR\n",
        "data = data[(data['DS'] >= lower_bound) & (data['DS'] <= upper_bound)]"
      ],
      "metadata": {
        "id": "96uO6KiV_lfA"
      },
      "execution_count": 54,
      "outputs": []
    },
    {
      "cell_type": "code",
      "source": [
        "plt.boxplot(x='DS',data=data)"
      ],
      "metadata": {
        "colab": {
          "base_uri": "https://localhost:8080/",
          "height": 578
        },
        "id": "-jPHnKFc_uly",
        "outputId": "a847a054-a28c-455d-f76f-2782cd78fd17"
      },
      "execution_count": 55,
      "outputs": [
        {
          "output_type": "execute_result",
          "data": {
            "text/plain": [
              "{'whiskers': [<matplotlib.lines.Line2D at 0x7a551a9b79d0>,\n",
              "  <matplotlib.lines.Line2D at 0x7a551a9b7c70>],\n",
              " 'caps': [<matplotlib.lines.Line2D at 0x7a551a9b7df0>,\n",
              "  <matplotlib.lines.Line2D at 0x7a551a9e80d0>],\n",
              " 'boxes': [<matplotlib.lines.Line2D at 0x7a551a9b7730>],\n",
              " 'medians': [<matplotlib.lines.Line2D at 0x7a551a9e8370>],\n",
              " 'fliers': [<matplotlib.lines.Line2D at 0x7a551a9e8610>],\n",
              " 'means': []}"
            ]
          },
          "metadata": {},
          "execution_count": 55
        },
        {
          "output_type": "display_data",
          "data": {
            "text/plain": [
              "<Figure size 640x480 with 1 Axes>"
            ],
            "image/png": "[encoded data removed]"
          },
          "metadata": {}
        }
      ]
    },
    {
      "cell_type": "code",
      "source": [
        "plt.boxplot(x='DP',data=data)"
      ],
      "metadata": {
        "colab": {
          "base_uri": "https://localhost:8080/",
          "height": 578
        },
        "id": "PsKNuAgG_z4h",
        "outputId": "ac381f63-ec0b-42e7-a271-d25176a23f04"
      },
      "execution_count": 56,
      "outputs": [
        {
          "output_type": "execute_result",
          "data": {
            "text/plain": [
              "{'whiskers': [<matplotlib.lines.Line2D at 0x7a551a839330>,\n",
              "  <matplotlib.lines.Line2D at 0x7a551a8395d0>],\n",
              " 'caps': [<matplotlib.lines.Line2D at 0x7a551a839870>,\n",
              "  <matplotlib.lines.Line2D at 0x7a551a839b10>],\n",
              " 'boxes': [<matplotlib.lines.Line2D at 0x7a551a839090>],\n",
              " 'medians': [<matplotlib.lines.Line2D at 0x7a551a839db0>],\n",
              " 'fliers': [<matplotlib.lines.Line2D at 0x7a551a83a050>],\n",
              " 'means': []}"
            ]
          },
          "metadata": {},
          "execution_count": 56
        },
        {
          "output_type": "display_data",
          "data": {
            "text/plain": [
              "<Figure size 640x480 with 1 Axes>"
            ],
            "image/png": "[encoded data removed]"
          },
          "metadata": {}
        }
      ]
    },
    {
      "cell_type": "code",
      "source": [
        "Q1 = data['DP'].quantile(0.25)\n",
        "Q3 = data['DP'].quantile(0.75)\n",
        "IQR = Q3 - Q1\n",
        "lower_bound = Q1 - 1.5 * IQR\n",
        "upper_bound = Q3 + 1.5 * IQR\n",
        "data = data[(data['DP'] >= lower_bound) & (data['DP'] <= upper_bound)]"
      ],
      "metadata": {
        "id": "R2dEnOch_3LK"
      },
      "execution_count": 57,
      "outputs": []
    },
    {
      "cell_type": "code",
      "source": [
        "plt.boxplot(x='DP',data=data)"
      ],
      "metadata": {
        "colab": {
          "base_uri": "https://localhost:8080/",
          "height": 578
        },
        "id": "_pCI4kD9_8qm",
        "outputId": "bc8173fc-1861-4588-f755-5337811ad356"
      },
      "execution_count": 58,
      "outputs": [
        {
          "output_type": "execute_result",
          "data": {
            "text/plain": [
              "{'whiskers': [<matplotlib.lines.Line2D at 0x7a551a8a68c0>,\n",
              "  <matplotlib.lines.Line2D at 0x7a551a8a6b60>],\n",
              " 'caps': [<matplotlib.lines.Line2D at 0x7a551a8a6e00>,\n",
              "  <matplotlib.lines.Line2D at 0x7a551a8a70a0>],\n",
              " 'boxes': [<matplotlib.lines.Line2D at 0x7a551a8a6620>],\n",
              " 'medians': [<matplotlib.lines.Line2D at 0x7a551a8a7340>],\n",
              " 'fliers': [<matplotlib.lines.Line2D at 0x7a551a8a75e0>],\n",
              " 'means': []}"
            ]
          },
          "metadata": {},
          "execution_count": 58
        },
        {
          "output_type": "display_data",
          "data": {
            "text/plain": [
              "<Figure size 640x480 with 1 Axes>"
            ],
            "image/png": "[encoded data removed]"
          },
          "metadata": {}
        }
      ]
    },
    {
      "cell_type": "code",
      "source": [
        "plt.boxplot(x='ASTV',data=data)"
      ],
      "metadata": {
        "id": "wTTdBzmdABkl",
        "colab": {
          "base_uri": "https://localhost:8080/",
          "height": 578
        },
        "outputId": "1f21ae86-93dd-4305-aff5-b2c757dd5160"
      },
      "execution_count": 59,
      "outputs": [
        {
          "output_type": "execute_result",
          "data": {
            "text/plain": [
              "{'whiskers': [<matplotlib.lines.Line2D at 0x7a551a7382e0>,\n",
              "  <matplotlib.lines.Line2D at 0x7a551a738580>],\n",
              " 'caps': [<matplotlib.lines.Line2D at 0x7a551a738820>,\n",
              "  <matplotlib.lines.Line2D at 0x7a551a738ac0>],\n",
              " 'boxes': [<matplotlib.lines.Line2D at 0x7a551a738040>],\n",
              " 'medians': [<matplotlib.lines.Line2D at 0x7a551a738d60>],\n",
              " 'fliers': [<matplotlib.lines.Line2D at 0x7a551a739000>],\n",
              " 'means': []}"
            ]
          },
          "metadata": {},
          "execution_count": 59
        },
        {
          "output_type": "display_data",
          "data": {
            "text/plain": [
              "<Figure size 640x480 with 1 Axes>"
            ],
            "image/png": "[encoded data removed]"
          },
          "metadata": {}
        }
      ]
    },
    {
      "cell_type": "code",
      "source": [
        "Q1 = data['ASTV'].quantile(0.25)\n",
        "Q3 = data['ASTV'].quantile(0.75)\n",
        "IQR = Q3 - Q1\n",
        "lower_bound = Q1 - 1.5 * IQR\n",
        "upper_bound = Q3 + 1.5 * IQR\n",
        "data = data[(data['ASTV'] >= lower_bound) & (data['ASTV'] <= upper_bound)]"
      ],
      "metadata": {
        "id": "xr6zQXOjHaRZ"
      },
      "execution_count": 60,
      "outputs": []
    },
    {
      "cell_type": "code",
      "source": [
        "plt.boxplot(x='ASTV',data=data)"
      ],
      "metadata": {
        "colab": {
          "base_uri": "https://localhost:8080/",
          "height": 578
        },
        "id": "4dUBuVCPHjyg",
        "outputId": "87b10ef7-b518-478c-ffcf-f47debc96e2d"
      },
      "execution_count": 61,
      "outputs": [
        {
          "output_type": "execute_result",
          "data": {
            "text/plain": [
              "{'whiskers': [<matplotlib.lines.Line2D at 0x7a551a77ee00>,\n",
              "  <matplotlib.lines.Line2D at 0x7a551a77f0a0>],\n",
              " 'caps': [<matplotlib.lines.Line2D at 0x7a551a77f340>,\n",
              "  <matplotlib.lines.Line2D at 0x7a551a77f5e0>],\n",
              " 'boxes': [<matplotlib.lines.Line2D at 0x7a551a77eb60>],\n",
              " 'medians': [<matplotlib.lines.Line2D at 0x7a551a77f880>],\n",
              " 'fliers': [<matplotlib.lines.Line2D at 0x7a551a77fb20>],\n",
              " 'means': []}"
            ]
          },
          "metadata": {},
          "execution_count": 61
        },
        {
          "output_type": "display_data",
          "data": {
            "text/plain": [
              "<Figure size 640x480 with 1 Axes>"
            ],
            "image/png": "[encoded data removed]"
          },
          "metadata": {}
        }
      ]
    },
    {
      "cell_type": "code",
      "source": [
        "plt.boxplot(x='MSTV',data=data)"
      ],
      "metadata": {
        "colab": {
          "base_uri": "https://localhost:8080/",
          "height": 578
        },
        "id": "8sBb9j1VHnmp",
        "outputId": "bafc81ba-d1de-462a-967f-1f6b502497af"
      },
      "execution_count": 62,
      "outputs": [
        {
          "output_type": "execute_result",
          "data": {
            "text/plain": [
              "{'whiskers': [<matplotlib.lines.Line2D at 0x7a551a7f23e0>,\n",
              "  <matplotlib.lines.Line2D at 0x7a551a7f2680>],\n",
              " 'caps': [<matplotlib.lines.Line2D at 0x7a551a7f2920>,\n",
              "  <matplotlib.lines.Line2D at 0x7a551a7f2bc0>],\n",
              " 'boxes': [<matplotlib.lines.Line2D at 0x7a551a7f2140>],\n",
              " 'medians': [<matplotlib.lines.Line2D at 0x7a551a7f2e60>],\n",
              " 'fliers': [<matplotlib.lines.Line2D at 0x7a551a7f3100>],\n",
              " 'means': []}"
            ]
          },
          "metadata": {},
          "execution_count": 62
        },
        {
          "output_type": "display_data",
          "data": {
            "text/plain": [
              "<Figure size 640x480 with 1 Axes>"
            ],
            "image/png": "[encoded data removed]"
          },
          "metadata": {}
        }
      ]
    },
    {
      "cell_type": "code",
      "source": [
        "Q1 = data['MSTV'].quantile(0.25)\n",
        "Q3 = data['MSTV'].quantile(0.75)\n",
        "IQR = Q3 - Q1\n",
        "lower_bound = Q1 - 1.5 * IQR\n",
        "upper_bound = Q3 + 1.5 * IQR\n",
        "data = data[(data['MSTV'] >= lower_bound) & (data['MSTV'] <= upper_bound)]"
      ],
      "metadata": {
        "id": "O32PEoUjHsqx"
      },
      "execution_count": 63,
      "outputs": []
    },
    {
      "cell_type": "code",
      "source": [
        "plt.boxplot(x='MSTV',data=data)"
      ],
      "metadata": {
        "colab": {
          "base_uri": "https://localhost:8080/",
          "height": 578
        },
        "id": "chLUWiTOHwpQ",
        "outputId": "91805c5d-7985-4b34-bb8e-1ad6a504a987"
      },
      "execution_count": 64,
      "outputs": [
        {
          "output_type": "execute_result",
          "data": {
            "text/plain": [
              "{'whiskers': [<matplotlib.lines.Line2D at 0x7a551a671360>,\n",
              "  <matplotlib.lines.Line2D at 0x7a551a6729b0>],\n",
              " 'caps': [<matplotlib.lines.Line2D at 0x7a551a672c50>,\n",
              "  <matplotlib.lines.Line2D at 0x7a551a672ef0>],\n",
              " 'boxes': [<matplotlib.lines.Line2D at 0x7a551a672590>],\n",
              " 'medians': [<matplotlib.lines.Line2D at 0x7a551a673190>],\n",
              " 'fliers': [<matplotlib.lines.Line2D at 0x7a551a673430>],\n",
              " 'means': []}"
            ]
          },
          "metadata": {},
          "execution_count": 64
        },
        {
          "output_type": "display_data",
          "data": {
            "text/plain": [
              "<Figure size 640x480 with 1 Axes>"
            ],
            "image/png": "[encoded data removed]"
          },
          "metadata": {}
        }
      ]
    },
    {
      "cell_type": "code",
      "source": [
        "plt.boxplot(x='MLTV',data=data)"
      ],
      "metadata": {
        "colab": {
          "base_uri": "https://localhost:8080/",
          "height": 578
        },
        "id": "-AfKmyvTH0dA",
        "outputId": "3872a36f-5f94-408a-dab3-bce9acd1a9af"
      },
      "execution_count": 65,
      "outputs": [
        {
          "output_type": "execute_result",
          "data": {
            "text/plain": [
              "{'whiskers': [<matplotlib.lines.Line2D at 0x7a551a6f0a60>,\n",
              "  <matplotlib.lines.Line2D at 0x7a551a6f0d00>],\n",
              " 'caps': [<matplotlib.lines.Line2D at 0x7a551a6f0fa0>,\n",
              "  <matplotlib.lines.Line2D at 0x7a551a6f1240>],\n",
              " 'boxes': [<matplotlib.lines.Line2D at 0x7a551a6f07c0>],\n",
              " 'medians': [<matplotlib.lines.Line2D at 0x7a551a6f14e0>],\n",
              " 'fliers': [<matplotlib.lines.Line2D at 0x7a551a6f1780>],\n",
              " 'means': []}"
            ]
          },
          "metadata": {},
          "execution_count": 65
        },
        {
          "output_type": "display_data",
          "data": {
            "text/plain": [
              "<Figure size 640x480 with 1 Axes>"
            ],
            "image/png": "[encoded data removed]"
          },
          "metadata": {}
        }
      ]
    },
    {
      "cell_type": "code",
      "source": [
        "Q1 = data['MLTV'].quantile(0.25)\n",
        "Q3 = data['MLTV'].quantile(0.75)\n",
        "IQR = Q3 - Q1\n",
        "lower_bound = Q1 - 1.5 * IQR\n",
        "upper_bound = Q3 + 1.5 * IQR\n",
        "data = data[(data['MLTV'] >= lower_bound) & (data['MLTV'] <= upper_bound)]"
      ],
      "metadata": {
        "id": "s9Bv0OHiH3ZD"
      },
      "execution_count": 66,
      "outputs": []
    },
    {
      "cell_type": "code",
      "source": [
        "plt.boxplot(x='MLTV',data=data)"
      ],
      "metadata": {
        "colab": {
          "base_uri": "https://localhost:8080/",
          "height": 578
        },
        "id": "xjQ7izsFIBKw",
        "outputId": "5c3ea4bd-b7f1-4b4d-9136-e2bbf22986b1"
      },
      "execution_count": 67,
      "outputs": [
        {
          "output_type": "execute_result",
          "data": {
            "text/plain": [
              "{'whiskers': [<matplotlib.lines.Line2D at 0x7a551a564e20>,\n",
              "  <matplotlib.lines.Line2D at 0x7a551a5650c0>],\n",
              " 'caps': [<matplotlib.lines.Line2D at 0x7a551a565240>,\n",
              "  <matplotlib.lines.Line2D at 0x7a551a5654e0>],\n",
              " 'boxes': [<matplotlib.lines.Line2D at 0x7a551a564b80>],\n",
              " 'medians': [<matplotlib.lines.Line2D at 0x7a551a565780>],\n",
              " 'fliers': [<matplotlib.lines.Line2D at 0x7a551a565a20>],\n",
              " 'means': []}"
            ]
          },
          "metadata": {},
          "execution_count": 67
        },
        {
          "output_type": "display_data",
          "data": {
            "text/plain": [
              "<Figure size 640x480 with 1 Axes>"
            ],
            "image/png": "[encoded data removed]"
          },
          "metadata": {}
        }
      ]
    },
    {
      "cell_type": "code",
      "source": [
        "plt.boxplot(x='Width',data=data)"
      ],
      "metadata": {
        "colab": {
          "base_uri": "https://localhost:8080/",
          "height": 578
        },
        "id": "d27K1RL4IHEC",
        "outputId": "86129b9d-232e-4abe-f63d-e30f5d7bbb47"
      },
      "execution_count": 68,
      "outputs": [
        {
          "output_type": "execute_result",
          "data": {
            "text/plain": [
              "{'whiskers': [<matplotlib.lines.Line2D at 0x7a551a5e1600>,\n",
              "  <matplotlib.lines.Line2D at 0x7a551a5e18a0>],\n",
              " 'caps': [<matplotlib.lines.Line2D at 0x7a551a5e1b40>,\n",
              "  <matplotlib.lines.Line2D at 0x7a551a5e1de0>],\n",
              " 'boxes': [<matplotlib.lines.Line2D at 0x7a551a5e1360>],\n",
              " 'medians': [<matplotlib.lines.Line2D at 0x7a551a5e2080>],\n",
              " 'fliers': [<matplotlib.lines.Line2D at 0x7a551a5e2320>],\n",
              " 'means': []}"
            ]
          },
          "metadata": {},
          "execution_count": 68
        },
        {
          "output_type": "display_data",
          "data": {
            "text/plain": [
              "<Figure size 640x480 with 1 Axes>"
            ],
            "image/png": "[encoded data removed]"
          },
          "metadata": {}
        }
      ]
    },
    {
      "cell_type": "code",
      "source": [
        "Q1 = data['Width'].quantile(0.25)\n",
        "Q3 = data['Width'].quantile(0.75)\n",
        "IQR = Q3 - Q1\n",
        "lower_bound = Q1 - 1.5 * IQR\n",
        "upper_bound = Q3 + 1.5 * IQR\n",
        "data = data[(data['Width'] >= lower_bound) & (data['Width'] <= upper_bound)]"
      ],
      "metadata": {
        "id": "wzmeE3QDIP2-"
      },
      "execution_count": 69,
      "outputs": []
    },
    {
      "cell_type": "code",
      "source": [
        "plt.boxplot(x='Width',data=data)"
      ],
      "metadata": {
        "colab": {
          "base_uri": "https://localhost:8080/",
          "height": 578
        },
        "id": "arYi4oaWIU5k",
        "outputId": "fe14256f-b01b-426b-a82e-dfdb1ac96921"
      },
      "execution_count": 70,
      "outputs": [
        {
          "output_type": "execute_result",
          "data": {
            "text/plain": [
              "{'whiskers': [<matplotlib.lines.Line2D at 0x7a551a45cb80>,\n",
              "  <matplotlib.lines.Line2D at 0x7a551a45ce20>],\n",
              " 'caps': [<matplotlib.lines.Line2D at 0x7a551a45d0c0>,\n",
              "  <matplotlib.lines.Line2D at 0x7a551a45d360>],\n",
              " 'boxes': [<matplotlib.lines.Line2D at 0x7a551a45c8e0>],\n",
              " 'medians': [<matplotlib.lines.Line2D at 0x7a551a5bb3d0>],\n",
              " 'fliers': [<matplotlib.lines.Line2D at 0x7a551a45c730>],\n",
              " 'means': []}"
            ]
          },
          "metadata": {},
          "execution_count": 70
        },
        {
          "output_type": "display_data",
          "data": {
            "text/plain": [
              "<Figure size 640x480 with 1 Axes>"
            ],
            "image/png": "[encoded data removed]"
          },
          "metadata": {}
        }
      ]
    },
    {
      "cell_type": "code",
      "source": [
        "plt.boxplot(x='Tendency',data=data)"
      ],
      "metadata": {
        "colab": {
          "base_uri": "https://localhost:8080/",
          "height": 578
        },
        "id": "RGGuyXhqIY3Z",
        "outputId": "8f682742-7c7c-4c15-a624-a0d114629f6a"
      },
      "execution_count": 71,
      "outputs": [
        {
          "output_type": "execute_result",
          "data": {
            "text/plain": [
              "{'whiskers': [<matplotlib.lines.Line2D at 0x7a551a4dc0a0>,\n",
              "  <matplotlib.lines.Line2D at 0x7a551a4dc340>],\n",
              " 'caps': [<matplotlib.lines.Line2D at 0x7a551a4dc5e0>,\n",
              "  <matplotlib.lines.Line2D at 0x7a551a4dc880>],\n",
              " 'boxes': [<matplotlib.lines.Line2D at 0x7a551a4abdc0>],\n",
              " 'medians': [<matplotlib.lines.Line2D at 0x7a551a4dcb20>],\n",
              " 'fliers': [<matplotlib.lines.Line2D at 0x7a551a4dcdc0>],\n",
              " 'means': []}"
            ]
          },
          "metadata": {},
          "execution_count": 71
        },
        {
          "output_type": "display_data",
          "data": {
            "text/plain": [
              "<Figure size 640x480 with 1 Axes>"
            ],
            "image/png": "[encoded data removed]"
          },
          "metadata": {}
        }
      ]
    },
    {
      "cell_type": "code",
      "source": [
        "Q1 = data['Tendency'].quantile(0.25)\n",
        "Q3 = data['Tendency'].quantile(0.75)\n",
        "IQR = Q3 - Q1\n",
        "lower_bound = Q1 - 1.5 * IQR\n",
        "upper_bound = Q3 + 1.5 * IQR\n",
        "data = data[(data['Tendency'] >= lower_bound) & (data['Tendency'] <= upper_bound)]"
      ],
      "metadata": {
        "id": "j-J-jAPSIceo"
      },
      "execution_count": 72,
      "outputs": []
    },
    {
      "cell_type": "code",
      "source": [
        "plt.boxplot(x='Tendency',data=data)"
      ],
      "metadata": {
        "colab": {
          "base_uri": "https://localhost:8080/",
          "height": 578
        },
        "id": "gAiwbttVIf1D",
        "outputId": "3967bac2-c0fe-4dde-96f5-610717d1cd82"
      },
      "execution_count": 73,
      "outputs": [
        {
          "output_type": "execute_result",
          "data": {
            "text/plain": [
              "{'whiskers': [<matplotlib.lines.Line2D at 0x7a551a31ff10>,\n",
              "  <matplotlib.lines.Line2D at 0x7a551a34c1f0>],\n",
              " 'caps': [<matplotlib.lines.Line2D at 0x7a551a31d3c0>,\n",
              "  <matplotlib.lines.Line2D at 0x7a551a34c460>],\n",
              " 'boxes': [<matplotlib.lines.Line2D at 0x7a551a31fc70>],\n",
              " 'medians': [<matplotlib.lines.Line2D at 0x7a551a34c700>],\n",
              " 'fliers': [<matplotlib.lines.Line2D at 0x7a551a34c9a0>],\n",
              " 'means': []}"
            ]
          },
          "metadata": {},
          "execution_count": 73
        },
        {
          "output_type": "display_data",
          "data": {
            "text/plain": [
              "<Figure size 640x480 with 1 Axes>"
            ],
            "image/png": "[encoded data removed]"
          },
          "metadata": {}
        }
      ]
    },
    {
      "cell_type": "code",
      "source": [
        "plt.boxplot(x='NSP',data=data)"
      ],
      "metadata": {
        "colab": {
          "base_uri": "https://localhost:8080/",
          "height": 578
        },
        "id": "UmSOu-UCIiyZ",
        "outputId": "c924e69e-8ed2-4a07-a438-5445e042e14f"
      },
      "execution_count": 74,
      "outputs": [
        {
          "output_type": "execute_result",
          "data": {
            "text/plain": [
              "{'whiskers': [<matplotlib.lines.Line2D at 0x7a551a397fa0>,\n",
              "  <matplotlib.lines.Line2D at 0x7a551a3cc280>],\n",
              " 'caps': [<matplotlib.lines.Line2D at 0x7a551a3cc520>,\n",
              "  <matplotlib.lines.Line2D at 0x7a551a3cc7c0>],\n",
              " 'boxes': [<matplotlib.lines.Line2D at 0x7a551a397d00>],\n",
              " 'medians': [<matplotlib.lines.Line2D at 0x7a551a3cca60>],\n",
              " 'fliers': [<matplotlib.lines.Line2D at 0x7a551a3ccd00>],\n",
              " 'means': []}"
            ]
          },
          "metadata": {},
          "execution_count": 74
        },
        {
          "output_type": "display_data",
          "data": {
            "text/plain": [
              "<Figure size 640x480 with 1 Axes>"
            ],
            "image/png": "[encoded data removed]"
          },
          "metadata": {}
        }
      ]
    },
    {
      "cell_type": "code",
      "source": [
        "Q1 = data['NSP'].quantile(0.25)\n",
        "Q3 = data['NSP'].quantile(0.75)\n",
        "IQR = Q3 - Q1\n",
        "lower_bound = Q1 - 1.5 * IQR\n",
        "upper_bound = Q3 + 1.5 * IQR\n",
        "data = data[(data['NSP'] >= lower_bound) & (data['NSP'] <= upper_bound)]"
      ],
      "metadata": {
        "id": "hhnLauGOIl_P"
      },
      "execution_count": 75,
      "outputs": []
    },
    {
      "cell_type": "code",
      "source": [
        "plt.boxplot(x='NSP',data=data)"
      ],
      "metadata": {
        "colab": {
          "base_uri": "https://localhost:8080/",
          "height": 578
        },
        "id": "dIsQxPJeIqXB",
        "outputId": "26962251-89ec-4f8d-ed20-be04ed7aeea3"
      },
      "execution_count": 76,
      "outputs": [
        {
          "output_type": "execute_result",
          "data": {
            "text/plain": [
              "{'whiskers': [<matplotlib.lines.Line2D at 0x7a551a210f70>,\n",
              "  <matplotlib.lines.Line2D at 0x7a551a212980>],\n",
              " 'caps': [<matplotlib.lines.Line2D at 0x7a551a212c20>,\n",
              "  <matplotlib.lines.Line2D at 0x7a551a212ec0>],\n",
              " 'boxes': [<matplotlib.lines.Line2D at 0x7a551a34e230>],\n",
              " 'medians': [<matplotlib.lines.Line2D at 0x7a551a213160>],\n",
              " 'fliers': [<matplotlib.lines.Line2D at 0x7a551a213400>],\n",
              " 'means': []}"
            ]
          },
          "metadata": {},
          "execution_count": 76
        },
        {
          "output_type": "display_data",
          "data": {
            "text/plain": [
              "<Figure size 640x480 with 1 Axes>"
            ],
            "image/png": "[encoded data removed]"
          },
          "metadata": {}
        }
      ]
    },
    {
      "cell_type": "code",
      "source": [
        "data.describe()"
      ],
      "metadata": {
        "colab": {
          "base_uri": "https://localhost:8080/",
          "height": 300
        },
        "id": "RKGBGttDItcf",
        "outputId": "0384aa0c-814f-4014-a502-bcebadbad42f"
      },
      "execution_count": 77,
      "outputs": [
        {
          "output_type": "execute_result",
          "data": {
            "text/plain": [
              "               LB          AC          FM          UC          DL     DS  \\\n",
              "count  891.000000  891.000000  891.000000  891.000000  891.000000  891.0   \n",
              "mean   132.026974    0.004300    0.000588    0.004904    0.001487    0.0   \n",
              "std      9.291333    0.004494    0.001316    0.002687    0.002199    0.0   \n",
              "min    106.000000   -0.019284   -0.002467   -0.000101   -0.000124    0.0   \n",
              "25%    125.000000    0.000000    0.000000    0.003098    0.000000    0.0   \n",
              "50%    133.000000    0.003458    0.000000    0.004988    0.000000    0.0   \n",
              "75%    138.000000    0.006895    0.000175    0.006834    0.002755    0.0   \n",
              "max    160.000000    0.038567    0.006272    0.012072    0.008197    0.0   \n",
              "\n",
              "          DP        ASTV        MSTV        ALTV        MLTV       Width  \\\n",
              "count  891.0  891.000000  891.000000  891.000000  891.000000  891.000000   \n",
              "mean     0.0   42.395020    1.247257    3.388522    8.511601   66.515488   \n",
              "std      0.0   14.989027    0.511505    6.435106    4.504116   31.577016   \n",
              "min      0.0   15.000000    0.300000   -1.043619   -0.136053   12.000000   \n",
              "25%      0.0   29.000000    0.900000    0.000000    5.550000   40.000000   \n",
              "50%      0.0   41.000000    1.200000    0.000000    8.400000   60.000000   \n",
              "75%      0.0   56.000000    1.600000    4.000000   11.250000   92.000000   \n",
              "max      0.0   79.000000    2.800000   30.000000   20.000000  163.000000   \n",
              "\n",
              "         Tendency    NSP  \n",
              "count  891.000000  891.0  \n",
              "mean     0.342382    1.0  \n",
              "std      0.581203    0.0  \n",
              "min     -1.006614    1.0  \n",
              "25%      0.000000    1.0  \n",
              "50%      0.000000    1.0  \n",
              "75%      1.000000    1.0  \n",
              "max      1.023635    1.0  "
            ],
            "text/html": [
              "\n",
              "  <div id=\"df-0f16b0a4-ec49-4b8a-851b-3f4a7dfe6b00\" class=\"colab-df-container\">\n",
              "    <div>\n",
              "<style scoped>\n",
              "    .dataframe tbody tr th:only-of-type {\n",
              "        vertical-align: middle;\n",
              "    }\n",
              "\n",
              "    .dataframe tbody tr th {\n",
              "        vertical-align: top;\n",
              "    }\n",
              "\n",
              "    .dataframe thead th {\n",
              "        text-align: right;\n",
              "    }\n",
              "</style>\n",
              "<table border=\"1\" class=\"dataframe\">\n",
              "  <thead>\n",
              "    <tr style=\"text-align: right;\">\n",
              "      <th></th>\n",
              "      <th>LB</th>\n",
              "      <th>AC</th>\n",
              "      <th>FM</th>\n",
              "      <th>UC</th>\n",
              "      <th>DL</th>\n",
              "      <th>DS</th>\n",
              "      <th>DP</th>\n",
              "      <th>ASTV</th>\n",
              "      <th>MSTV</th>\n",
              "      <th>ALTV</th>\n",
              "      <th>MLTV</th>\n",
              "      <th>Width</th>\n",
              "      <th>Tendency</th>\n",
              "      <th>NSP</th>\n",
              "    </tr>\n",
              "  </thead>\n",
              "  <tbody>\n",
              "    <tr>\n",
              "      <th>count</th>\n",
              "      <td>891.000000</td>\n",
              "      <td>891.000000</td>\n",
              "      <td>891.000000</td>\n",
              "      <td>891.000000</td>\n",
              "      <td>891.000000</td>\n",
              "      <td>891.0</td>\n",
              "      <td>891.0</td>\n",
              "      <td>891.000000</td>\n",
              "      <td>891.000000</td>\n",
              "      <td>891.000000</td>\n",
              "      <td>891.000000</td>\n",
              "      <td>891.000000</td>\n",
              "      <td>891.000000</td>\n",
              "      <td>891.0</td>\n",
              "    </tr>\n",
              "    <tr>\n",
              "      <th>mean</th>\n",
              "      <td>132.026974</td>\n",
              "      <td>0.004300</td>\n",
              "      <td>0.000588</td>\n",
              "      <td>0.004904</td>\n",
              "      <td>0.001487</td>\n",
              "      <td>0.0</td>\n",
              "      <td>0.0</td>\n",
              "      <td>42.395020</td>\n",
              "      <td>1.247257</td>\n",
              "      <td>3.388522</td>\n",
              "      <td>8.511601</td>\n",
              "      <td>66.515488</td>\n",
              "      <td>0.342382</td>\n",
              "      <td>1.0</td>\n",
              "    </tr>\n",
              "    <tr>\n",
              "      <th>std</th>\n",
              "      <td>9.291333</td>\n",
              "      <td>0.004494</td>\n",
              "      <td>0.001316</td>\n",
              "      <td>0.002687</td>\n",
              "      <td>0.002199</td>\n",
              "      <td>0.0</td>\n",
              "      <td>0.0</td>\n",
              "      <td>14.989027</td>\n",
              "      <td>0.511505</td>\n",
              "      <td>6.435106</td>\n",
              "      <td>4.504116</td>\n",
              "      <td>31.577016</td>\n",
              "      <td>0.581203</td>\n",
              "      <td>0.0</td>\n",
              "    </tr>\n",
              "    <tr>\n",
              "      <th>min</th>\n",
              "      <td>106.000000</td>\n",
              "      <td>-0.019284</td>\n",
              "      <td>-0.002467</td>\n",
              "      <td>-0.000101</td>\n",
              "      <td>-0.000124</td>\n",
              "      <td>0.0</td>\n",
              "      <td>0.0</td>\n",
              "      <td>15.000000</td>\n",
              "      <td>0.300000</td>\n",
              "      <td>-1.043619</td>\n",
              "      <td>-0.136053</td>\n",
              "      <td>12.000000</td>\n",
              "      <td>-1.006614</td>\n",
              "      <td>1.0</td>\n",
              "    </tr>\n",
              "    <tr>\n",
              "      <th>25%</th>\n",
              "      <td>125.000000</td>\n",
              "      <td>0.000000</td>\n",
              "      <td>0.000000</td>\n",
              "      <td>0.003098</td>\n",
              "      <td>0.000000</td>\n",
              "      <td>0.0</td>\n",
              "      <td>0.0</td>\n",
              "      <td>29.000000</td>\n",
              "      <td>0.900000</td>\n",
              "      <td>0.000000</td>\n",
              "      <td>5.550000</td>\n",
              "      <td>40.000000</td>\n",
              "      <td>0.000000</td>\n",
              "      <td>1.0</td>\n",
              "    </tr>\n",
              "    <tr>\n",
              "      <th>50%</th>\n",
              "      <td>133.000000</td>\n",
              "      <td>0.003458</td>\n",
              "      <td>0.000000</td>\n",
              "      <td>0.004988</td>\n",
              "      <td>0.000000</td>\n",
              "      <td>0.0</td>\n",
              "      <td>0.0</td>\n",
              "      <td>41.000000</td>\n",
              "      <td>1.200000</td>\n",
              "      <td>0.000000</td>\n",
              "      <td>8.400000</td>\n",
              "      <td>60.000000</td>\n",
              "      <td>0.000000</td>\n",
              "      <td>1.0</td>\n",
              "    </tr>\n",
              "    <tr>\n",
              "      <th>75%</th>\n",
              "      <td>138.000000</td>\n",
              "      <td>0.006895</td>\n",
              "      <td>0.000175</td>\n",
              "      <td>0.006834</td>\n",
              "      <td>0.002755</td>\n",
              "      <td>0.0</td>\n",
              "      <td>0.0</td>\n",
              "      <td>56.000000</td>\n",
              "      <td>1.600000</td>\n",
              "      <td>4.000000</td>\n",
              "      <td>11.250000</td>\n",
              "      <td>92.000000</td>\n",
              "      <td>1.000000</td>\n",
              "      <td>1.0</td>\n",
              "    </tr>\n",
              "    <tr>\n",
              "      <th>max</th>\n",
              "      <td>160.000000</td>\n",
              "      <td>0.038567</td>\n",
              "      <td>0.006272</td>\n",
              "      <td>0.012072</td>\n",
              "      <td>0.008197</td>\n",
              "      <td>0.0</td>\n",
              "      <td>0.0</td>\n",
              "      <td>79.000000</td>\n",
              "      <td>2.800000</td>\n",
              "      <td>30.000000</td>\n",
              "      <td>20.000000</td>\n",
              "      <td>163.000000</td>\n",
              "      <td>1.023635</td>\n",
              "      <td>1.0</td>\n",
              "    </tr>\n",
              "  </tbody>\n",
              "</table>\n",
              "</div>\n",
              "    <div class=\"colab-df-buttons\">\n",
              "\n",
              "  <div class=\"colab-df-container\">\n",
              "    <button class=\"colab-df-convert\" onclick=\"convertToInteractive('df-0f16b0a4-ec49-4b8a-851b-3f4a7dfe6b00')\"\n",
              "            title=\"Convert this dataframe to an interactive table.\"\n",
              "            style=\"display:none;\">\n",
              "\n",
              "  <svg xmlns=\"http://www.w3.org/2000/svg\" height=\"24px\" viewBox=\"0 -960 960 960\">\n",
              "    <path d=\"M120-120v-720h720v720H120Zm60-500h600v-160H180v160Zm220 220h160v-160H400v160Zm0 220h160v-160H400v160ZM180-400h160v-160H180v160Zm440 0h160v-160H620v160ZM180-180h160v-160H180v160Zm440 0h160v-160H620v160Z\"/>\n",
              "  </svg>\n",
              "    </button>\n",
              "\n",
              "  <style>\n",
              "    .colab-df-container {\n",
              "      display:flex;\n",
              "      gap: 12px;\n",
              "    }\n",
              "\n",
              "    .colab-df-convert {\n",
              "      background-color: #E8F0FE;\n",
              "      border: none;\n",
              "      border-radius: 50%;\n",
              "      cursor: pointer;\n",
              "      display: none;\n",
              "      fill: #1967D2;\n",
              "      height: 32px;\n",
              "      padding: 0 0 0 0;\n",
              "      width: 32px;\n",
              "    }\n",
              "\n",
              "    .colab-df-convert:hover {\n",
              "      background-color: #E2EBFA;\n",
              "      box-shadow: 0px 1px 2px rgba(60, 64, 67, 0.3), 0px 1px 3px 1px rgba(60, 64, 67, 0.15);\n",
              "      fill: #174EA6;\n",
              "    }\n",
              "\n",
              "    .colab-df-buttons div {\n",
              "      margin-bottom: 4px;\n",
              "    }\n",
              "\n",
              "    [theme=dark] .colab-df-convert {\n",
              "      background-color: #3B4455;\n",
              "      fill: #D2E3FC;\n",
              "    }\n",
              "\n",
              "    [theme=dark] .colab-df-convert:hover {\n",
              "      background-color: #434B5C;\n",
              "      box-shadow: 0px 1px 3px 1px rgba(0, 0, 0, 0.15);\n",
              "      filter: drop-shadow(0px 1px 2px rgba(0, 0, 0, 0.3));\n",
              "      fill: #FFFFFF;\n",
              "    }\n",
              "  </style>\n",
              "\n",
              "    <script>\n",
              "      const buttonEl =\n",
              "        document.querySelector('#df-0f16b0a4-ec49-4b8a-851b-3f4a7dfe6b00 button.colab-df-convert');\n",
              "      buttonEl.style.display =\n",
              "        google.colab.kernel.accessAllowed ? 'block' : 'none';\n",
              "\n",
              "      async function convertToInteractive(key) {\n",
              "        const element = document.querySelector('#df-0f16b0a4-ec49-4b8a-851b-3f4a7dfe6b00');\n",
              "        const dataTable =\n",
              "          await google.colab.kernel.invokeFunction('convertToInteractive',\n",
              "                                                    [key], {});\n",
              "        if (!dataTable) return;\n",
              "\n",
              "        const docLinkHtml = 'Like what you see? Visit the ' +\n",
              "          '<a target=\"_blank\" href=https://colab.research.google.com/notebooks/data_table.ipynb>data table notebook</a>'\n",
              "          + ' to learn more about interactive tables.';\n",
              "        element.innerHTML = '';\n",
              "        dataTable['output_type'] = 'display_data';\n",
              "        await google.colab.output.renderOutput(dataTable, element);\n",
              "        const docLink = document.createElement('div');\n",
              "        docLink.innerHTML = docLinkHtml;\n",
              "        element.appendChild(docLink);\n",
              "      }\n",
              "    </script>\n",
              "  </div>\n",
              "\n",
              "\n",
              "<div id=\"df-26025317-8004-4e07-8563-6d4b9e74d008\">\n",
              "  <button class=\"colab-df-quickchart\" onclick=\"quickchart('df-26025317-8004-4e07-8563-6d4b9e74d008')\"\n",
              "            title=\"Suggest charts\"\n",
              "            style=\"display:none;\">\n",
              "\n",
              "<svg xmlns=\"http://www.w3.org/2000/svg\" height=\"24px\"viewBox=\"0 0 24 24\"\n",
              "     width=\"24px\">\n",
              "    <g>\n",
              "        <path d=\"M19 3H5c-1.1 0-2 .9-2 2v14c0 1.1.9 2 2 2h14c1.1 0 2-.9 2-2V5c0-1.1-.9-2-2-2zM9 17H7v-7h2v7zm4 0h-2V7h2v10zm4 0h-2v-4h2v4z\"/>\n",
              "    </g>\n",
              "</svg>\n",
              "  </button>\n",
              "\n",
              "<style>\n",
              "  .colab-df-quickchart {\n",
              "      --bg-color: #E8F0FE;\n",
              "      --fill-color: #1967D2;\n",
              "      --hover-bg-color: #E2EBFA;\n",
              "      --hover-fill-color: #174EA6;\n",
              "      --disabled-fill-color: #AAA;\n",
              "      --disabled-bg-color: #DDD;\n",
              "  }\n",
              "\n",
              "  [theme=dark] .colab-df-quickchart {\n",
              "      --bg-color: #3B4455;\n",
              "      --fill-color: #D2E3FC;\n",
              "      --hover-bg-color: #434B5C;\n",
              "      --hover-fill-color: #FFFFFF;\n",
              "      --disabled-bg-color: #3B4455;\n",
              "      --disabled-fill-color: #666;\n",
              "  }\n",
              "\n",
              "  .colab-df-quickchart {\n",
              "    background-color: var(--bg-color);\n",
              "    border: none;\n",
              "    border-radius: 50%;\n",
              "    cursor: pointer;\n",
              "    display: none;\n",
              "    fill: var(--fill-color);\n",
              "    height: 32px;\n",
              "    padding: 0;\n",
              "    width: 32px;\n",
              "  }\n",
              "\n",
              "  .colab-df-quickchart:hover {\n",
              "    background-color: var(--hover-bg-color);\n",
              "    box-shadow: 0 1px 2px rgba(60, 64, 67, 0.3), 0 1px 3px 1px rgba(60, 64, 67, 0.15);\n",
              "    fill: var(--button-hover-fill-color);\n",
              "  }\n",
              "\n",
              "  .colab-df-quickchart-complete:disabled,\n",
              "  .colab-df-quickchart-complete:disabled:hover {\n",
              "    background-color: var(--disabled-bg-color);\n",
              "    fill: var(--disabled-fill-color);\n",
              "    box-shadow: none;\n",
              "  }\n",
              "\n",
              "  .colab-df-spinner {\n",
              "    border: 2px solid var(--fill-color);\n",
              "    border-color: transparent;\n",
              "    border-bottom-color: var(--fill-color);\n",
              "    animation:\n",
              "      spin 1s steps(1) infinite;\n",
              "  }\n",
              "\n",
              "  @keyframes spin {\n",
              "    0% {\n",
              "      border-color: transparent;\n",
              "      border-bottom-color: var(--fill-color);\n",
              "      border-left-color: var(--fill-color);\n",
              "    }\n",
              "    20% {\n",
              "      border-color: transparent;\n",
              "      border-left-color: var(--fill-color);\n",
              "      border-top-color: var(--fill-color);\n",
              "    }\n",
              "    30% {\n",
              "      border-color: transparent;\n",
              "      border-left-color: var(--fill-color);\n",
              "      border-top-color: var(--fill-color);\n",
              "      border-right-color: var(--fill-color);\n",
              "    }\n",
              "    40% {\n",
              "      border-color: transparent;\n",
              "      border-right-color: var(--fill-color);\n",
              "      border-top-color: var(--fill-color);\n",
              "    }\n",
              "    60% {\n",
              "      border-color: transparent;\n",
              "      border-right-color: var(--fill-color);\n",
              "    }\n",
              "    80% {\n",
              "      border-color: transparent;\n",
              "      border-right-color: var(--fill-color);\n",
              "      border-bottom-color: var(--fill-color);\n",
              "    }\n",
              "    90% {\n",
              "      border-color: transparent;\n",
              "      border-bottom-color: var(--fill-color);\n",
              "    }\n",
              "  }\n",
              "</style>\n",
              "\n",
              "  <script>\n",
              "    async function quickchart(key) {\n",
              "      const quickchartButtonEl =\n",
              "        document.querySelector('#' + key + ' button');\n",
              "      quickchartButtonEl.disabled = true;  // To prevent multiple clicks.\n",
              "      quickchartButtonEl.classList.add('colab-df-spinner');\n",
              "      try {\n",
              "        const charts = await google.colab.kernel.invokeFunction(\n",
              "            'suggestCharts', [key], {});\n",
              "      } catch (error) {\n",
              "        console.error('Error during call to suggestCharts:', error);\n",
              "      }\n",
              "      quickchartButtonEl.classList.remove('colab-df-spinner');\n",
              "      quickchartButtonEl.classList.add('colab-df-quickchart-complete');\n",
              "    }\n",
              "    (() => {\n",
              "      let quickchartButtonEl =\n",
              "        document.querySelector('#df-26025317-8004-4e07-8563-6d4b9e74d008 button');\n",
              "      quickchartButtonEl.style.display =\n",
              "        google.colab.kernel.accessAllowed ? 'block' : 'none';\n",
              "    })();\n",
              "  </script>\n",
              "</div>\n",
              "\n",
              "    </div>\n",
              "  </div>\n"
            ],
            "application/vnd.google.colaboratory.intrinsic+json": {
              "type": "dataframe",
              "summary": "{\n  \"name\": \"data\",\n  \"rows\": 8,\n  \"fields\": [\n    {\n      \"column\": \"LB\",\n      \"properties\": {\n        \"dtype\": \"number\",\n        \"std\": 278.1965222467236,\n        \"min\": 9.291333251011993,\n        \"max\": 891.0,\n        \"num_unique_values\": 8,\n        \"samples\": [\n          132.02697412683688,\n          133.0,\n          891.0\n        ],\n        \"semantic_type\": \"\",\n        \"description\": \"\"\n      }\n    },\n    {\n      \"column\": \"AC\",\n      \"properties\": {\n        \"dtype\": \"number\",\n        \"std\": 315.014130359643,\n        \"min\": -0.019283747,\n        \"max\": 891.0,\n        \"num_unique_values\": 8,\n        \"samples\": [\n          0.0042999902761792184,\n          0.00345756,\n          891.0\n        ],\n        \"semantic_type\": \"\",\n        \"description\": \"\"\n      }\n    },\n    {\n      \"column\": \"FM\",\n      \"properties\": {\n        \"dtype\": \"number\",\n        \"std\": 315.0157738364961,\n        \"min\": -0.002467201,\n        \"max\": 891.0,\n        \"num_unique_values\": 7,\n        \"samples\": [\n          891.0,\n          0.0005876834006734007,\n          0.000175382\n        ],\n        \"semantic_type\": \"\",\n        \"description\": \"\"\n      }\n    },\n    {\n      \"column\": \"UC\",\n      \"properties\": {\n        \"dtype\": \"number\",\n        \"std\": 315.01432941986144,\n        \"min\": -0.000100599,\n        \"max\": 891.0,\n        \"num_unique_values\": 8,\n        \"samples\": [\n          0.004903506362728759,\n          0.004988003,\n          891.0\n        ],\n        \"semantic_type\": \"\",\n        \"description\": \"\"\n      }\n    },\n    {\n      \"column\": \"DL\",\n      \"properties\": {\n        \"dtype\": \"number\",\n        \"std\": 315.01533796573284,\n        \"min\": -0.00012386,\n        \"max\": 891.0,\n        \"num_unique_values\": 7,\n        \"samples\": [\n          891.0,\n          0.0014874191071118756,\n          0.0027548305\n        ],\n        \"semantic_type\": \"\",\n        \"description\": \"\"\n      }\n    },\n    {\n      \"column\": \"DS\",\n      \"properties\": {\n        \"dtype\": \"number\",\n        \"std\": 315.0160710186069,\n        \"min\": 0.0,\n        \"max\": 891.0,\n        \"num_unique_values\": 2,\n        \"samples\": [\n          0.0,\n          891.0\n        ],\n        \"semantic_type\": \"\",\n        \"description\": \"\"\n      }\n    },\n    {\n      \"column\": \"DP\",\n      \"properties\": {\n        \"dtype\": \"number\",\n        \"std\": 315.0160710186069,\n        \"min\": 0.0,\n        \"max\": 891.0,\n        \"num_unique_values\": 2,\n        \"samples\": [\n          0.0,\n          891.0\n        ],\n        \"semantic_type\": \"\",\n        \"description\": \"\"\n      }\n    },\n    {\n      \"column\": \"ASTV\",\n      \"properties\": {\n        \"dtype\": \"number\",\n        \"std\": 301.753647995628,\n        \"min\": 14.989027063949209,\n        \"max\": 891.0,\n        \"num_unique_values\": 8,\n        \"samples\": [\n          42.39501962975884,\n          41.0\n        ],\n        \"semantic_type\": \"\",\n        \"description\": \"\"\n      }\n    },\n    {\n      \"column\": \"MSTV\",\n      \"properties\": {\n        \"dtype\": \"number\",\n        \"std\": 314.58471753891774,\n        \"min\": 0.3,\n        \"max\": 891.0,\n        \"num_unique_values\": 8,\n        \"samples\": [\n          1.2472571400769874,\n          1.2\n        ],\n        \"semantic_type\": \"\",\n        \"description\": \"\"\n      }\n    },\n    {\n      \"column\": \"ALTV\",\n      \"properties\": {\n        \"dtype\": \"number\",\n        \"std\": 313.0170793265683,\n        \"min\": -1.043619084,\n        \"max\": 891.0,\n        \"num_unique_values\": 7,\n        \"samples\": [\n          891.0,\n          3.3885217095471196\n        ],\n        \"semantic_type\": \"\",\n        \"description\": \"\"\n      }\n    },\n    {\n      \"column\": \"MLTV\",\n      \"properties\": {\n        \"dtype\": \"number\",\n        \"std\": 312.1372527587287,\n        \"min\": -0.136052801,\n        \"max\": 891.0,\n        \"num_unique_values\": 8,\n        \"samples\": [\n          8.51160078368126,\n          8.4\n        ],\n        \"semantic_type\": \"\",\n        \"description\": \"\"\n      }\n    },\n    {\n      \"column\": \"Width\",\n      \"properties\": {\n        \"dtype\": \"number\",\n        \"std\": 295.152759059752,\n        \"min\": 12.0,\n        \"max\": 891.0,\n        \"num_unique_values\": 8,\n        \"samples\": [\n          66.51548798802405,\n          60.0\n        ],\n        \"semantic_type\": \"\",\n        \"description\": \"\"\n      }\n    },\n    {\n      \"column\": \"Tendency\",\n      \"properties\": {\n        \"dtype\": \"number\",\n        \"std\": 314.9187311124249,\n        \"min\": -1.006614223,\n        \"max\": 891.0,\n        \"num_unique_values\": 7,\n        \"samples\": [\n          891.0,\n          0.34238249573410373\n        ],\n        \"semantic_type\": \"\",\n        \"description\": \"\"\n      }\n    },\n    {\n      \"column\": \"NSP\",\n      \"properties\": {\n        \"dtype\": \"number\",\n        \"std\": 314.7132197958734,\n        \"min\": 0.0,\n        \"max\": 891.0,\n        \"num_unique_values\": 3,\n        \"samples\": [\n          891.0,\n          1.0\n        ],\n        \"semantic_type\": \"\",\n        \"description\": \"\"\n      }\n    }\n  ]\n}"
            }
          },
          "metadata": {},
          "execution_count": 77
        }
      ]
    },
    {
      "cell_type": "markdown",
      "source": [
        "Conclusion"
      ],
      "metadata": {
        "id": "MlAmtzh3NJDq"
      }
    },
    {
      "cell_type": "markdown",
      "source": [
        "Data Quality :-"
      ],
      "metadata": {
        "id": "H5Gmlfr4NLFX"
      }
    },
    {
      "cell_type": "markdown",
      "source": [
        "After detecting and treated the missing values and outliers,it makes the good data which can be used for any model and we can easily get good model accuracy."
      ],
      "metadata": {
        "id": "m354YiXZNQJl"
      }
    },
    {
      "cell_type": "markdown",
      "source": [
        "Correlations:-"
      ],
      "metadata": {
        "id": "dKyA3FfgNcDV"
      }
    },
    {
      "cell_type": "markdown",
      "source": [
        "As per the scatter and pair plots,it is identified most of columns are following very weak correlation(positive and negative).Only very some columns are following moderate correlation."
      ],
      "metadata": {
        "id": "-BIMHVjbNfdK"
      }
    },
    {
      "cell_type": "markdown",
      "source": [
        "Distribution:-"
      ],
      "metadata": {
        "id": "eAvTQxrpNiqX"
      }
    },
    {
      "cell_type": "markdown",
      "source": [
        "Only the column \"Baseline Fetal heart rate\" following Normal distribution and all other columns mostly positively/negatively skewed distributions.\n",
        "\n",
        "By these assignment,we can understood EDA helps uncover hidden patterns,relationships and anamolies in the data"
      ],
      "metadata": {
        "id": "R-PKs7TaNmBb"
      }
    },
    {
      "cell_type": "code",
      "source": [],
      "metadata": {
        "id": "byp3mKhyIyiN"
      },
      "execution_count": 77,
      "outputs": []
    }
  ]
}